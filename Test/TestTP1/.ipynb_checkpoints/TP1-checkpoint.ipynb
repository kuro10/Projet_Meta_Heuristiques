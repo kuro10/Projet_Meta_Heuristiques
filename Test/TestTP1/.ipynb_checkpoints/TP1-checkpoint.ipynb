{
 "cells": [
  {
   "cell_type": "code",
   "execution_count": 1,
   "metadata": {},
   "outputs": [],
   "source": [
    "import numpy"
   ]
  },
  {
   "cell_type": "code",
   "execution_count": 2,
   "metadata": {},
   "outputs": [
    {
     "name": "stdout",
     "output_type": "stream",
     "text": [
      "inputTD  solutionTD  TP1.ipynb\r\n"
     ]
    }
   ],
   "source": [
    "!ls"
   ]
  },
  {
   "cell_type": "code",
   "execution_count": 32,
   "metadata": {},
   "outputs": [
    {
     "name": "stdout",
     "output_type": "stream",
     "text": [
      "inputTD\n",
      "c [evacuation info] format: header with <num evac nodes> <id of safe node> then one line per evac node with <id of the node> <population> <max rate> <k> <v1> ... <vk> where v1,...,vk is the escape route for this node\n",
      "\n",
      "4\n"
     ]
    }
   ],
   "source": [
    "def read_solutionTD():\n",
    "    f = open(\"solutionTD\", \"r\")\n",
    "    f1 = f.readlines()\n",
    "    filename = f1[0][:len(f1[0])-1]\n",
    "    print(filename)\n",
    "    ff = open(filename, \"r\")\n",
    "    f2 = ff.readlines()\n",
    "    print(f2[0])\n",
    "    print(int(f1[1]) + 1)\n",
    "    #for x in f1:\n",
    "    #    if (x == 'valid\\n' or x == 'invalid\\n'):\n",
    "    #        break\n",
    "    #    else:\n",
    "    #        print(x[0])\n",
    "    #print(f1)\n",
    "    \n",
    "read_solutionTD()"
   ]
  },
  {
   "cell_type": "code",
   "execution_count": 91,
   "metadata": {},
   "outputs": [
    {
     "ename": "KeyboardInterrupt",
     "evalue": "",
     "output_type": "error",
     "traceback": [
      "\u001b[0;31m---------------------------------------------------------------------------\u001b[0m",
      "\u001b[0;31mKeyboardInterrupt\u001b[0m                         Traceback (most recent call last)",
      "\u001b[0;32m<ipython-input-91-723316f7f210>\u001b[0m in \u001b[0;36m<module>\u001b[0;34m()\u001b[0m\n\u001b[1;32m     79\u001b[0m \u001b[0;34m\u001b[0m\u001b[0m\n\u001b[1;32m     80\u001b[0m \u001b[0;34m\u001b[0m\u001b[0m\n\u001b[0;32m---> 81\u001b[0;31m \u001b[0mverificateur\u001b[0m\u001b[0;34m(\u001b[0m\u001b[0;34m\"solutionTD\"\u001b[0m\u001b[0;34m)\u001b[0m\u001b[0;34m\u001b[0m\u001b[0m\n\u001b[0m",
      "\u001b[0;32m<ipython-input-91-723316f7f210>\u001b[0m in \u001b[0;36mverificateur\u001b[0;34m(solution)\u001b[0m\n\u001b[1;32m     61\u001b[0m         \u001b[0;32mwhile\u001b[0m \u001b[0;34m(\u001b[0m\u001b[0mj\u001b[0m \u001b[0;34m<\u001b[0m \u001b[0mlen\u001b[0m\u001b[0;34m(\u001b[0m\u001b[0mroute\u001b[0m\u001b[0;34m)\u001b[0m \u001b[0;34m-\u001b[0m \u001b[0;36m1\u001b[0m\u001b[0;34m)\u001b[0m\u001b[0;34m:\u001b[0m\u001b[0;34m\u001b[0m\u001b[0m\n\u001b[1;32m     62\u001b[0m             \u001b[0mnode1\u001b[0m \u001b[0;34m=\u001b[0m \u001b[0mroute\u001b[0m\u001b[0;34m[\u001b[0m\u001b[0mj\u001b[0m\u001b[0;34m]\u001b[0m\u001b[0;34m\u001b[0m\u001b[0m\n\u001b[0;32m---> 63\u001b[0;31m             \u001b[0mnode2\u001b[0m \u001b[0;34m=\u001b[0m \u001b[0mroute\u001b[0m\u001b[0;34m[\u001b[0m\u001b[0mj\u001b[0m\u001b[0;34m+\u001b[0m\u001b[0;36m1\u001b[0m\u001b[0;34m]\u001b[0m\u001b[0;34m\u001b[0m\u001b[0m\n\u001b[0m\u001b[1;32m     64\u001b[0m             \u001b[0mtmp\u001b[0m \u001b[0;34m=\u001b[0m \u001b[0medge_len\u001b[0m\u001b[0;34m(\u001b[0m\u001b[0mnode1\u001b[0m\u001b[0;34m,\u001b[0m \u001b[0mnode2\u001b[0m\u001b[0;34m,\u001b[0m \u001b[0marc\u001b[0m\u001b[0;34m)\u001b[0m\u001b[0;34m\u001b[0m\u001b[0m\n\u001b[1;32m     65\u001b[0m             \u001b[0mtps\u001b[0m \u001b[0;34m=\u001b[0m \u001b[0mtps\u001b[0m \u001b[0;34m+\u001b[0m \u001b[0mint\u001b[0m\u001b[0;34m(\u001b[0m\u001b[0mtmp\u001b[0m\u001b[0;34m)\u001b[0m\u001b[0;34m\u001b[0m\u001b[0m\n",
      "\u001b[0;31mKeyboardInterrupt\u001b[0m: "
     ]
    }
   ],
   "source": [
    "def extract(line, i):\n",
    "    res = \"\"\n",
    "    while(i>=0):\n",
    "        if line[i]==' ' :\n",
    "            i = i + 1\n",
    "        else :\n",
    "            break\n",
    "    while (i<len(line)-1):\n",
    "        if line[i]==' ' :\n",
    "            break\n",
    "        else :\n",
    "            res = res + line[i]\n",
    "            i = i + 1\n",
    "    return res,i\n",
    "\n",
    "def edge_len(node1, node2, l):\n",
    "    for line in l:\n",
    "        (n1, i) = extract(line, 0)\n",
    "        if n1 == node1 :\n",
    "            (n2, i) = extract(line, i)\n",
    "            if n2 == node2 :\n",
    "                (date, i) = extract(line, i)\n",
    "                (length, i) = extract(line, i)\n",
    "                break\n",
    "    return length\n",
    "\n",
    "def verificateur(solution):\n",
    "    solution_file = open(solution, \"r\")\n",
    "    lines_solution = solution_file.readlines()\n",
    "    input_name = lines_solution[0][:len(lines_solution[0])-1]\n",
    "    input_file = open(input_name, \"r\")\n",
    "    nb_secteur = int(lines_solution[1])\n",
    "    lines_input = input_file.readlines()\n",
    "    #print(nb_secteur)\n",
    "    \n",
    "    #Extract arc list\n",
    "    arc=[]\n",
    "    for i in range(nb_secteur+4, len(lines_input)):\n",
    "        arc.append(lines_input[i])  \n",
    "        \n",
    "    l = []\n",
    "    for x in range(2,nb_secteur+2):\n",
    "        line = lines_input[x]\n",
    "        cas = []\n",
    "        cas.append(line[0])\n",
    "        \n",
    "        #Calcul du taux\n",
    "        (nb_pers, i) = extract(line, 2)\n",
    "        (taux, i) = extract(line, i)\n",
    "        unit = int(nb_pers)/int(taux)\n",
    "        \n",
    "        #Escape route\n",
    "        route = [line[0]]\n",
    "        (k, i) = extract(line, i)\n",
    "        for j in range(int(k)):\n",
    "            (node, i) = extract(line, i)\n",
    "            route.append(node)      \n",
    "        #Calcul temps total\n",
    "        tps = 0\n",
    "        j = 0\n",
    "        #while (j < len(route) - 1):\n",
    "        #    node1 = route[j]\n",
    "        #    node2 = route[j+1]\n",
    "        #    tmp = edge_len(node1, node2, arc)\n",
    "        #    tps = tps + int(tmp)\n",
    "        #print(tps)\n",
    "            \n",
    "        \n",
    "    #    print(route)\n",
    "    #    cas.append(unite)\n",
    "    #   l.append(cas)\n",
    "    #print(l)\n",
    "    #    print(unite)\n",
    "    #    print(nb_pers)\n",
    "    #    print(i)\n",
    "    #    print(lines_input[x])\n",
    "    \n",
    "    \n",
    "    \n",
    "    \n",
    "verificateur(\"solutionTD\")"
   ]
  },
  {
   "cell_type": "code",
   "execution_count": null,
   "metadata": {},
   "outputs": [],
   "source": []
  }
 ],
 "metadata": {
  "kernelspec": {
   "display_name": "Python 3",
   "language": "python",
   "name": "python3"
  },
  "language_info": {
   "codemirror_mode": {
    "name": "ipython",
    "version": 3
   },
   "file_extension": ".py",
   "mimetype": "text/x-python",
   "name": "python",
   "nbconvert_exporter": "python",
   "pygments_lexer": "ipython3",
   "version": "3.6.5"
  }
 },
 "nbformat": 4,
 "nbformat_minor": 2
}
