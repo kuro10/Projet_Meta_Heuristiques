{
 "cells": [
  {
   "cell_type": "code",
   "execution_count": null,
   "metadata": {
    "collapsed": true
   },
   "outputs": [],
   "source": [
    "import glob\n",
    "import os\n",
    "import numpy as np\n",
    "import time\n",
    "import math\n",
    "from DataProcess import *\n",
    "from SolutionChecker import *\n",
    "from LocalSearch import *"
   ]
  },
  {
   "cell_type": "code",
   "execution_count": null,
   "metadata": {},
   "outputs": [],
   "source": [
    "l1 = ['dense', 'medium','sparse']\n",
    "common = '_10_30_3_'\n",
    "filelist = []\n",
    "\n",
    "for item in l1:\n",
    "    for i in range(1, 11):\n",
    "        filelist.append(item + common + str(i)+ '_I')\n",
    "print(filelist)"
   ]
  },
  {
   "cell_type": "markdown",
   "metadata": {},
   "source": [
    "# Generate solutions for given instances"
   ]
  },
  {
   "cell_type": "code",
   "execution_count": null,
   "metadata": {
    "collapsed": true
   },
   "outputs": [],
   "source": [
    "progress = 0\n",
    "for item in filelist:\n",
    "    source_path = os.path.dirname(os.path.abspath('__file__')) +'/Instances/' + item + '.full'\n",
    "    print(source_path)\n",
    "    EVA_TREE,GRAPH,_ = read_data(source_path)\n",
    "    endtime,solution,algo_name,exc_time = LocalSearchRandomStart(EVA_TREE,GRAPH,n_iter=10,n_start_points=5)\n",
    "    create_solution_file(item,solution,endtime,algo_name,exc_time)"
   ]
  },
  {
   "cell_type": "markdown",
   "metadata": {},
   "source": [
    "# Generate a table of lower bounds for given instances"
   ]
  },
  {
   "cell_type": "code",
   "execution_count": null,
   "metadata": {
    "collapsed": true
   },
   "outputs": [],
   "source": [
    "filename = os.path.dirname(os.path.abspath('__file__')) + '/Borne_Inf_List.csv'\n",
    "f = open(filename, 'w')\n",
    "t = 0\n",
    "f.write('File_name, Nb_evac_nodes, Graph_length, Borne_Inf, Execution_time\\n')\n",
    "for item in filelist:\n",
    "    print('Generating infimum for ' + item)\n",
    "    f.write(item + ', ')\n",
    "    EVA_TREE,GRAPH,NB_NODES = read_data(source_path + item + '.full')\n",
    "    NB_EVA_NODES = len(EVA_TREE)\n",
    "    NB_EDGES = len(GRAPH)\n",
    "    LIST_EVA_NODES = [item[0] for item in EVA_TREE]\n",
    "    f.write(str(NB_EVA_NODES) + ', ')\n",
    "    f.write(str(NB_EDGES) + ', ')\n",
    "    #f.write(str(NB_EVA_NODES * NB_EDGES) + ', ')\n",
    "    t = time.time()\n",
    "    res = get_borne_inf(LIST_EVA_NODES,EVA_TREE,GRAPH)\n",
    "    t = time.time() - t\n",
    "    f.write(str(res) + ', ')\n",
    "    f.write(str(t) + '\\n')\n",
    "    \n",
    "f.close()"
   ]
  },
  {
   "cell_type": "markdown",
   "metadata": {},
   "source": [
    "# Generate a table of upper bounds for given instances"
   ]
  },
  {
   "cell_type": "code",
   "execution_count": null,
   "metadata": {
    "collapsed": true
   },
   "outputs": [],
   "source": [
    "filename = os.path.dirname(os.path.abspath('__file__')) + '/Borne_Sup_List.csv'\n",
    "f = open(filename, 'w')\n",
    "min_sol = []\n",
    "res = 0\n",
    "avg = 0\n",
    "min_r = 999999\n",
    "t = 0\n",
    "l = []\n",
    "nb = 50\n",
    "progress = 0\n",
    "f.write('File_name, Nb_evac_nodes, Graph_length, Borne_Sup_Min, Borne_Sup_Max, Avg_Execution_time\\n')\n",
    "for item in filelist:\n",
    "    progress = progress + float(1)/float(len(filelist))*100\n",
    "    print(visual(progress), end = '\\r')\n",
    "    f.write(item + ', ')\n",
    "    EVA_TREE,GRAPH,NB_NODES = read_data(source_path + item + '.full')\n",
    "    NB_EVA_NODES = len(EVA_TREE)\n",
    "    NB_EDGES = len(GRAPH)\n",
    "    LIST_EVA_NODES = [item[0] for item in EVA_TREE]\n",
    "    f.write(str(NB_EVA_NODES) + ', ')\n",
    "    f.write(str(NB_EDGES) + ', ')\n",
    "    #f.write(str(NB_EVA_NODES * NB_EDGES) + ', ')\n",
    "    for i in range(1, nb+1):\n",
    "        t = time.time()\n",
    "        res = get_borne_sup(LIST_EVA_NODES,EVA_TREE,GRAPH)[0]\n",
    "        t = time.time() - t\n",
    "        l.append(res)\n",
    "        avg = avg + t/float(nb)\n",
    "    #print(l)\n",
    "    f.write(str(min(l)) + ', ')\n",
    "    f.write(str(max(l)) + ', ')\n",
    "    f.write(str(avg) + '\\n')\n",
    "    avg = 0\n",
    "    l = []\n",
    "    min_r = 999999\n",
    "    \n",
    "f.close()"
   ]
  }
 ],
 "metadata": {
  "kernelspec": {
   "display_name": "Python 3",
   "language": "python",
   "name": "python3"
  },
  "language_info": {
   "codemirror_mode": {
    "name": "ipython",
    "version": 3
   },
   "file_extension": ".py",
   "mimetype": "text/x-python",
   "name": "python",
   "nbconvert_exporter": "python",
   "pygments_lexer": "ipython3",
   "version": "3.6.3"
  }
 },
 "nbformat": 4,
 "nbformat_minor": 2
}
