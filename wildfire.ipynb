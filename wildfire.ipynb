{
 "cells": [
  {
   "cell_type": "code",
   "execution_count": 1,
   "metadata": {
    "collapsed": true
   },
   "outputs": [],
   "source": [
    "import glob\n",
    "import os\n",
    "import numpy as np"
   ]
  },
  {
   "cell_type": "code",
   "execution_count": 2,
   "metadata": {
    "collapsed": true
   },
   "outputs": [],
   "source": [
    "#-----------------------------------------------------------------------------\n",
    "# Initialize the problem data\n",
    "#-----------------------------------------------------------------------------\n",
    "\n",
    "# Read the input data file.\n",
    "\n",
    "def read_data(filename) :\n",
    "    eva_tree, graph = [],[]\n",
    "    nb_node = 0\n",
    "    mode,start = 0,0\n",
    "    with open(filename, 'r') as fp :\n",
    "        for line in fp :\n",
    "          \n",
    "            if (line.find('evacuation info') != -1):\n",
    "#             print('Add evacuation info')             \n",
    "                mode = 1\n",
    "                start = 0\n",
    "            \n",
    "            elif (line.find('graph') != -1):\n",
    "#             print('Add graph info')             \n",
    "                mode = 2\n",
    "                start = 0\n",
    "            \n",
    "            elif (mode == 1 and start == 0) :\n",
    "                start = 1\n",
    "                nb_evac_node = int(line.split()[0]) \n",
    "                safe_node = int(line.split()[1])\n",
    "#             print('safe node is : ',safe_node)\n",
    "#             print('number of evacuation nodes : ', nb_evac_node)\n",
    "                          \n",
    "            elif (mode == 2 and start == 0) :\n",
    "                start = 1\n",
    "                nb_node = int(line.split()[0])\n",
    "                n = int(line.split()[1])\n",
    "#             print('number of nodes : ',nb_node)\n",
    "#             print('number of edges : ',n)\n",
    "\n",
    "            \n",
    "            elif (mode == 1 and start == 1) :\n",
    "                data = list(map(lambda x : int(x),line.split()))\n",
    "                eva_tree.append(data)\n",
    "\n",
    "                  \n",
    "            elif (mode == 2 and start == 1) :\n",
    "                data = list(map(lambda x : int(x),line.split()))\n",
    "                graph.append(data)\n",
    "      \n",
    "            \n",
    "    return eva_tree,graph,nb_node\n",
    "\n",
    "\n",
    "filename = os.path.dirname(os.path.abspath('__file__')) + \"/data/wildfire.data\"\n",
    "EVA_TREE,GRAPH,NB_NODES = read_data(filename)"
   ]
  },
  {
   "cell_type": "code",
   "execution_count": 3,
   "metadata": {
    "collapsed": true
   },
   "outputs": [],
   "source": [
    "def read_solution (filename):\n",
    "    solution = []\n",
    "    with open(filename,'r') as fp :\n",
    "        line = fp.read().splitlines()\n",
    "        test_name = line[0]\n",
    "        nb_evac_node = int(line[1])\n",
    "        for i in range(nb_evac_node) : \n",
    "            data = list(map(lambda x : int(x),line[2+i].split()))\n",
    "            solution.append(data)\n",
    "            next = 2+i\n",
    "        nature = line[next+1]\n",
    "        f_objectif = int(line[next+2])\n",
    "        methode = line[next+3]\n",
    "    return solution,f_objectif,nature\n",
    "\n",
    "filename = os.path.dirname(os.path.abspath('__file__')) + \"/data/wildfire.solution\"\n",
    "SOLUTION,F_OBJECTIF,NATURE = read_solution(filename)"
   ]
  },
  {
   "cell_type": "code",
   "execution_count": 4,
   "metadata": {},
   "outputs": [
    {
     "name": "stdout",
     "output_type": "stream",
     "text": [
      "evacuation_tree =  [[2, 30, 5, 3, 4, 5, 6], [1, 48, 8, 3, 4, 5, 6], [3, 33, 3, 2, 5, 6]]\n",
      "graph =  [[1, 4, 13, 7, 8], [2, 4, 26, 4, 5], [3, 5, 28, 6, 3], [4, 5, 33, 9, 10], [5, 6, 46, 12, 11]]\n",
      "number of evacuation nodes :  3\n",
      "List of evac nodes :  [2, 1, 3]\n",
      "number of nodes =  6\n",
      "number of edges =  5\n",
      "-----------------------------\n",
      "A solution is : [[1, 8, 3], [2, 5, 0], [3, 3, 0]]\n",
      "f_objectif =  37\n",
      "Nature of solution :  valid\n"
     ]
    }
   ],
   "source": [
    "NB_EVA_NODES = len(EVA_TREE)\n",
    "NB_EDGES = len(GRAPH)\n",
    "LIST_EVA_NODES = [item[0] for item in EVA_TREE]\n",
    "\n",
    "print('evacuation_tree = ', EVA_TREE)\n",
    "print('graph = ',GRAPH)\n",
    "print('number of evacuation nodes : ',NB_EVA_NODES)\n",
    "print('List of evac nodes : ',LIST_EVA_NODES)\n",
    "print('number of nodes = ',NB_NODES)\n",
    "print('number of edges = ',NB_EDGES)\n",
    "print('-----------------------------')\n",
    "print('A solution is :',SOLUTION)\n",
    "print('f_objectif = ',F_OBJECTIF)\n",
    "print('Nature of solution : ',NATURE)"
   ]
  },
  {
   "cell_type": "code",
   "execution_count": 5,
   "metadata": {},
   "outputs": [
    {
     "data": {
      "text/plain": [
       "(33, 3, 2, [5, 6])"
      ]
     },
     "execution_count": 5,
     "metadata": {},
     "output_type": "execute_result"
    }
   ],
   "source": [
    "def get_eva_node_info(node_id) :\n",
    "    [eva_node_info] = [item for item in EVA_TREE if item[0]==node_id]\n",
    "    nb_evacuees = eva_node_info[1]\n",
    "    max_rate = eva_node_info[2]\n",
    "    route_length = eva_node_info[3]\n",
    "    route_list = eva_node_info[4:]\n",
    "    return nb_evacuees,max_rate,route_length,route_list\n",
    "\n",
    "get_eva_node_info(3)"
   ]
  },
  {
   "cell_type": "code",
   "execution_count": 12,
   "metadata": {},
   "outputs": [
    {
     "data": {
      "text/plain": [
       "(13, 7, 8)"
      ]
     },
     "execution_count": 12,
     "metadata": {},
     "output_type": "execute_result"
    }
   ],
   "source": [
    "def get_edge_info(node1,node2):\n",
    "    [edge_info] = [item for item in GRAPH if (item[0]==node1) & (item[1]==node2)]\n",
    "    due_date = edge_info[2]\n",
    "    length = edge_info[3]\n",
    "    capacity = edge_info[4]\n",
    "    return due_date,length,capacity\n",
    "\n",
    "get_edge_info(1,4)"
   ]
  },
  {
   "cell_type": "code",
   "execution_count": 7,
   "metadata": {},
   "outputs": [
    {
     "name": "stdout",
     "output_type": "stream",
     "text": [
      "5 0\n"
     ]
    }
   ],
   "source": [
    "def get_solution_info(node_id) : \n",
    "    [sol_info] = [item for item in SOLUTION if item[:][0] == node_id]\n",
    "    eva_rate = sol_info[1]\n",
    "    t_start = sol_info[2]\n",
    "    return eva_rate,t_start\n",
    "\n",
    "rate,start = get_solution_info(2)\n",
    "print(rate,start)"
   ]
  },
  {
   "cell_type": "code",
   "execution_count": 8,
   "metadata": {},
   "outputs": [
    {
     "data": {
      "text/plain": [
       "34"
      ]
     },
     "execution_count": 8,
     "metadata": {},
     "output_type": "execute_result"
    }
   ],
   "source": [
    "def get_duration(node_id) :\n",
    "    nb_evacuees,cap_max,route_len,route_list = get_eva_node_info(node_id)\n",
    "    \n",
    "    E_tmp =  nb_evacuees / cap_max\n",
    "    node_current = node_id\n",
    "    for i in route_list:\n",
    "        node_next = i\n",
    "#         [edge_info] = [item for item in GRAPH if (item[0]==node_current) & (item[1]==node_next)]\n",
    "        _,length,edge_cap= get_edge_info(node_current,node_next)\n",
    "        assert(cap_max <= edge_cap)\n",
    "        E_tmp += length\n",
    "        # reload the next edge\n",
    "        node_current = node_next\n",
    "    #end for\n",
    "    return int(E_tmp)\n",
    "\n",
    "get_duration(1)"
   ]
  },
  {
   "cell_type": "code",
   "execution_count": 67,
   "metadata": {},
   "outputs": [
    {
     "name": "stdout",
     "output_type": "stream",
     "text": [
      "6\n"
     ]
    },
    {
     "data": {
      "text/plain": [
       "[1, 4, 5, 6]"
      ]
     },
     "execution_count": 67,
     "metadata": {},
     "output_type": "execute_result"
    }
   ],
   "source": [
    "def get_task(node_id,eva_rate=None) :\n",
    "    tasks = []\n",
    "    nb_evacuees,max_rate,route_len,route_list = get_eva_node_info(node_id)\n",
    "    if eva_rate == None : \n",
    "        eva_rate = max_rate\n",
    "    else :\n",
    "        if (eva_rate > max_rate) :\n",
    "            print(\"ERROR ON EVACUATION RATE !!\")\n",
    "#         assert(eva_rate <= max_rate)\n",
    "    duration = int(nb_evacuees/eva_rate)\n",
    "    demande_res = [node_id] + route_list\n",
    "#     print(DEMANDE_RES)\n",
    "    return duration,demande_res\n",
    "\n",
    "print(get_task(1,8)[0])\n",
    "[item for item in get_task(1,8)[1]]"
   ]
  },
  {
   "cell_type": "code",
   "execution_count": 52,
   "metadata": {},
   "outputs": [
    {
     "name": "stdout",
     "output_type": "stream",
     "text": [
      "Evacuation of (only) node  2  is  31  mins\n",
      "Task generated by this node :  (6, [2, 4, 5, 6])\n",
      "Evacuation of (only) node  1  is  34  mins\n",
      "Task generated by this node :  (6, [1, 4, 5, 6])\n",
      "Evacuation of (only) node  3  is  29  mins\n",
      "Task generated by this node :  (11, [3, 5, 6])\n"
     ]
    }
   ],
   "source": [
    "for i in range(NB_EVA_NODES) : \n",
    "    node_id = EVA_TREE[i][0]\n",
    "    print('Evacuation of (only) node ',node_id,' is ', get_duration(node_id),' mins')\n",
    "    print('Task generated by this node : ',get_task(node_id))"
   ]
  },
  {
   "cell_type": "code",
   "execution_count": 73,
   "metadata": {},
   "outputs": [
    {
     "name": "stdout",
     "output_type": "stream",
     "text": [
      "evacuation_tree =  [[2, 30, 5, 3, 4, 5, 6], [1, 48, 8, 3, 4, 5, 6], [3, 33, 3, 2, 5, 6]]\n",
      "graph =  [[1, 4, 13, 7, 8], [2, 4, 26, 4, 5], [3, 5, 28, 6, 3], [4, 5, 33, 9, 10], [5, 6, 46, 12, 11]]\n",
      "number of evacuation nodes :  3\n",
      "List of evac nodes :  [2, 1, 3]\n",
      "number of nodes =  6\n",
      "number of edges =  5\n",
      "-----------------------------\n",
      "A solution is : [[1, 8, 3], [2, 5, 0], [3, 3, 0]]\n",
      "f_objectif =  37\n",
      "Nature of solution :  valid\n",
      "-----------------------------\n",
      "CREATION TASKS & VERIFY CONSTRAINTS\n",
      "-----------------------------\n",
      "ressources info after evacuation =  {'Cap of edge[1-4]': array([8, 8, 8, 0, 0, 0, 0, 0, 0, 8, 8, 8, 8, 8, 8, 8, 8, 8, 8, 8, 8, 8, 8,\n",
      "       8, 8, 8, 8, 8, 8, 8, 8, 8, 8, 8, 8, 8, 8, 8, 8, 8]), 'Cap of edge[2-4]': array([0, 0, 0, 0, 0, 0, 5, 5, 5, 5, 5, 5, 5, 5, 5, 5, 5, 5, 5, 5, 5, 5, 5,\n",
      "       5, 5, 5, 5, 5, 5, 5, 5, 5, 5, 5, 5, 5, 5, 5, 5, 5]), 'Cap of edge[3-5]': array([0, 0, 0, 0, 0, 0, 0, 0, 0, 0, 0, 3, 3, 3, 3, 3, 3, 3, 3, 3, 3, 3, 3,\n",
      "       3, 3, 3, 3, 3, 3, 3, 3, 3, 3, 3, 3, 3, 3, 3, 3, 3]), 'Cap of edge[4-5]': array([10, 10, 10, 10,  5,  5,  5,  5,  5,  5,  2,  2,  2,  2,  2,  2, 10,\n",
      "       10, 10, 10, 10, 10, 10, 10, 10, 10, 10, 10, 10, 10, 10, 10, 10, 10,\n",
      "       10, 10, 10, 10, 10, 10]), 'Cap of edge[5-6]': array([11, 11, 11, 11, 11, 11,  8,  8,  8,  8,  8,  8,  8,  3,  3,  3,  3,\n",
      "        6,  6,  3,  3,  3,  3,  3,  3, 11, 11, 11, 11, 11, 11, 11, 11, 11,\n",
      "       11, 11, 11, 11, 11, 11])}\n",
      "tasks =  {'Evacuees from 2 at edge [2-4]': [0, 10, 6, 5], 'Evacuees from 2 at edge [4-5]': [4, 19, 6, 5], 'Evacuees from 2 at edge [5-6]': [13, 31, 6, 5], 'Evacuees from 1 at edge [1-4]': [3, 16, 6, 8], 'Evacuees from 1 at edge [4-5]': [10, 25, 6, 8], 'Evacuees from 1 at edge [5-6]': [19, 37, 6, 8], 'Evacuees from 3 at edge [3-5]': [0, 17, 11, 3], 'Evacuees from 3 at edge [5-6]': [6, 29, 11, 3]}\n",
      "Nb of tasks =  8\n",
      "-----------------------------\n",
      "CHECK F_OBJECTIF\n",
      "-----------------------------\n",
      "End time is :  37\n"
     ]
    },
    {
     "data": {
      "text/plain": [
       "True"
      ]
     },
     "execution_count": 73,
     "metadata": {},
     "output_type": "execute_result"
    }
   ],
   "source": [
    "def verify_solution() : \n",
    "    \n",
    "    print('evacuation_tree = ', EVA_TREE)\n",
    "    print('graph = ',GRAPH)\n",
    "    print('number of evacuation nodes : ',NB_EVA_NODES)\n",
    "    print('List of evac nodes : ',LIST_EVA_NODES)\n",
    "    print('number of nodes = ',NB_NODES)\n",
    "    print('number of edges = ',NB_EDGES)\n",
    "    print('-----------------------------')\n",
    "    print('A solution is :',SOLUTION)\n",
    "    print('f_objectif = ',F_OBJECTIF)\n",
    "    print('Nature of solution : ',NATURE)\n",
    "    print('-----------------------------')\n",
    "    print('CREATION TASKS & VERIFY CONSTRAINTS')\n",
    "    print('-----------------------------')\n",
    "    ressources = {}\n",
    "    for edge in GRAPH :\n",
    "        edge_cap = edge[-1]\n",
    "#         print('max cap of edge [{}-{}] : {}'.format(edge[0],edge[1],edge_cap))\n",
    "        ressources.setdefault('Cap of edge[{}-{}]'.format(edge[0],edge[1]),np.full(40,edge_cap))\n",
    "#         print(ressources)\n",
    "    \n",
    "    tasks = {}\n",
    "    for i in LIST_EVA_NODES : \n",
    "        nb_evacuees,max_rate,route_length,route_list = get_eva_node_info(i)\n",
    "        rate,start = get_solution_info(i)\n",
    "        if rate > max_rate : \n",
    "            result = False\n",
    "            exit(0)\n",
    "#         print('task {},rate={},start={}'.format(i,rate,start))\n",
    "        duration,demande_res = get_task(i,rate)\n",
    "#         print(duration,demande_res)\n",
    "        current = i\n",
    "        for j in demande_res : \n",
    "#             print('Evacuees from {} at node {}'.format(i,j))\n",
    "            nxt = j\n",
    "            if current != nxt :\n",
    "                _,length,edge_cap = get_edge_info(current,nxt)\n",
    "                tasks.setdefault('Evacuees from {} at edge [{}-{}]'.format(i,current,nxt), [start,start+length+duration,duration,rate])\n",
    "                dispo = ressources['Cap of edge[{}-{}]'.format(current,nxt)]\n",
    "                dispo[start:start+duration] -= rate\n",
    "#                 print('dispo[{}-{}]='.format(current,nxt),dispo)\n",
    "                if(dispo.any() < 0) :    \n",
    "                    print('TOO MANY PERSONS AT EDGE [{}-{}] !!!'.format(current,nxt))\n",
    "                    result = False\n",
    "                    exit(0)\n",
    "#                 assert(dispo.all() >= 0)\n",
    "                ressources['Cap of edge[{}-{}]'.format(current,nxt)] = dispo\n",
    "                start += length\n",
    "            current = nxt\n",
    "            \n",
    "    print('ressources info after evacuation = ',ressources)        \n",
    "    print('tasks = ', tasks)\n",
    "    print('Nb of tasks = ',len(tasks))\n",
    "    print('-----------------------------')\n",
    "    print('CHECK F_OBJECTIF')\n",
    "    print('-----------------------------')\n",
    "    \n",
    "\n",
    "    end_time = np.max([tasks[keys][1] for keys in tasks])\n",
    "    print('End time is : ',end_time)\n",
    "    if (end_time == F_OBJECTIF) : \n",
    "        result = True\n",
    "    else :\n",
    "        result = False\n",
    "    \n",
    "    return result\n",
    "\n",
    "verify_solution()"
   ]
  },
  {
   "cell_type": "code",
   "execution_count": null,
   "metadata": {},
   "outputs": [],
   "source": []
  },
  {
   "cell_type": "code",
   "execution_count": null,
   "metadata": {
    "collapsed": true
   },
   "outputs": [],
   "source": []
  },
  {
   "cell_type": "code",
   "execution_count": null,
   "metadata": {
    "collapsed": true
   },
   "outputs": [],
   "source": []
  }
 ],
 "metadata": {
  "kernelspec": {
   "display_name": "Python 3",
   "language": "python",
   "name": "python3"
  },
  "language_info": {
   "codemirror_mode": {
    "name": "ipython",
    "version": 3
   },
   "file_extension": ".py",
   "mimetype": "text/x-python",
   "name": "python",
   "nbconvert_exporter": "python",
   "pygments_lexer": "ipython3",
   "version": "3.6.3"
  }
 },
 "nbformat": 4,
 "nbformat_minor": 2
}
