{
 "cells": [
  {
   "cell_type": "code",
   "execution_count": 4,
   "metadata": {
    "scrolled": false
   },
   "outputs": [
    {
     "name": "stdout",
     "output_type": "stream",
     "text": [
      "['dense_10_30_3_1_I', 'dense_10_30_3_2_I', 'dense_10_30_3_3_I', 'dense_10_30_3_4_I', 'dense_10_30_3_5_I', 'dense_10_30_3_6_I', 'dense_10_30_3_7_I', 'dense_10_30_3_8_I', 'dense_10_30_3_9_I', 'dense_10_30_3_10_I', 'medium_10_30_3_1_I', 'medium_10_30_3_2_I', 'medium_10_30_3_3_I', 'medium_10_30_3_4_I', 'medium_10_30_3_5_I', 'medium_10_30_3_6_I', 'medium_10_30_3_7_I', 'medium_10_30_3_8_I', 'medium_10_30_3_9_I', 'medium_10_30_3_10_I', 'sparse_10_30_3_1_I', 'sparse_10_30_3_2_I', 'sparse_10_30_3_3_I', 'sparse_10_30_3_4_I', 'sparse_10_30_3_5_I', 'sparse_10_30_3_6_I', 'sparse_10_30_3_7_I', 'sparse_10_30_3_8_I', 'sparse_10_30_3_9_I', 'sparse_10_30_3_10_I']\n",
      "---------------------------Start n.1---------------------------\n",
      "Iteration 0:\n",
      "[227, 323, 268, 384, 163, 279, 359, 275, 344, 285]  =>  181\n",
      "Iteration 1:\n",
      "[285 323 268 384 163 279 359 275 344 227]  =>  180\n",
      "Iteration 2:\n",
      "[285 323 268 384 163 279 359 275 344 227]  =>  180\n",
      "Iteration 3:\n",
      "[285 323 268 384 163 279 359 275 344 227]  =>  180\n",
      "Iteration 4:\n",
      "[285 323 268 384 163 279 359 275 344 227]  =>  180\n",
      "Iteration 5:\n",
      "[285 323 268 384 163 279 359 275 344 227]  =>  180\n",
      "----------------------------------------------------------------\n",
      "---------------------------Start n.2---------------------------\n",
      "Iteration 0:\n",
      "[163, 359, 344, 279, 275, 227, 268, 384, 323, 285]  =>  193\n",
      "Iteration 1:\n",
      "[163 227 344 279 275 359 268 384 323 285]  =>  181\n",
      "Iteration 2:\n",
      "[163 227 344 279 275 359 268 384 323 285]  =>  181\n",
      "Iteration 3:\n",
      "[163 227 344 279 275 359 268 384 323 285]  =>  181\n",
      "Iteration 4:\n",
      "[163 227 344 279 275 359 268 384 323 285]  =>  181\n",
      "Iteration 5:\n",
      "[163 227 344 279 275 359 268 384 323 285]  =>  181\n",
      "----------------------------------------------------------------\n",
      "---------------------------Start n.3---------------------------\n",
      "Iteration 0:\n",
      "[279, 275, 344, 163, 227, 323, 268, 285, 359, 384]  =>  207\n",
      "Iteration 1:\n",
      "[285 275 344 163 227 323 268 279 359 384]  =>  180\n",
      "Iteration 2:\n",
      "[285 275 344 163 227 323 268 279 359 384]  =>  180\n",
      "Iteration 3:\n",
      "[285 275 344 163 227 323 268 279 359 384]  =>  180\n",
      "Iteration 4:\n",
      "[285 275 344 163 227 323 268 279 359 384]  =>  180\n",
      "Iteration 5:\n",
      "[285 275 344 163 227 323 268 279 359 384]  =>  180\n",
      "----------------------------------------------------------------\n",
      "---------------------------Start n.4---------------------------\n",
      "Iteration 0:\n",
      "[279, 323, 285, 344, 163, 227, 268, 359, 275, 384]  =>  184\n",
      "Iteration 1:\n",
      "[227 323 285 344 163 279 268 359 275 384]  =>  181\n",
      "Iteration 2:\n",
      "[285 323 227 344 163 279 268 359 275 384]  =>  180\n",
      "Iteration 3:\n",
      "[285 323 227 344 163 279 268 359 275 384]  =>  180\n",
      "Iteration 4:\n",
      "[285 323 227 344 163 279 268 359 275 384]  =>  180\n",
      "Iteration 5:\n",
      "[285 323 227 344 163 279 268 359 275 384]  =>  180\n",
      "Iteration 6:\n",
      "[285 323 227 344 163 279 268 359 275 384]  =>  180\n",
      "----------------------------------------------------------------\n",
      "---------------------------Start n.5---------------------------\n",
      "Iteration 0:\n",
      "[384, 275, 268, 227, 323, 163, 285, 359, 344, 279]  =>  184\n",
      "Iteration 1:\n",
      "[285 275 268 227 323 163 384 359 344 279]  =>  180\n",
      "Iteration 2:\n",
      "[285 275 268 227 323 163 384 359 344 279]  =>  180\n",
      "Iteration 3:\n",
      "[285 275 268 227 323 163 384 359 344 279]  =>  180\n",
      "Iteration 4:\n",
      "[285 275 268 227 323 163 384 359 344 279]  =>  180\n",
      "Iteration 5:\n",
      "[285 275 268 227 323 163 384 359 344 279]  =>  180\n",
      "----------------------------------------------------------------\n"
     ]
    },
    {
     "data": {
      "text/plain": [
       "0"
      ]
     },
     "execution_count": 4,
     "metadata": {},
     "output_type": "execute_result"
    }
   ],
   "source": [
    "import glob\n",
    "import os\n",
    "import numpy as np\n",
    "import time\n",
    "import math\n",
    "from DataProcess import *\n",
    "from SolutionChecker import *\n",
    "from LocalSearch import *\n",
    "import cProfile\n",
    "\n",
    "l1 = ['dense', 'medium', 'sparse']\n",
    "common = '_10_30_3_'\n",
    "filelist = []\n",
    "for item in l1:\n",
    "    for i in range(1, 11):\n",
    "        filelist.append(item + common + str(i)+ '_I')\n",
    "print(filelist)\n",
    "\n",
    "EVA_TREE,GRAPH,NB_NODES = read_data(source_path + filelist[0] + '.full')\n",
    "NB_EVA_NODES = len(EVA_TREE)\n",
    "NB_EDGES = len(GRAPH)\n",
    "LIST_EVA_NODES = [item[0] for item in EVA_TREE]\n",
    "\n",
    "# print('--------------------------------------------')\n",
    "# print(get_latest_starttime(227,EVA_TREE,GRAPH))\n",
    "# print('--------------------------------------------')\n",
    "# get_end_time_3(LIST_EVA_NODES,EVA_TREE,GRAPH)\n",
    "# l = get_neighbors_of(LIST_EVA_NODES)\n",
    "# for item in l:\n",
    "#     print('--------------------------------------------')\n",
    "#     print(get_end_time_3(item, EVA_TREE, GRAPH)[0])\n",
    "endtime,solution,algo_name,exc_time = LocalSearchRandomStart2(EVA_TREE,GRAPH,n_iter=10,n_start_points=5)\n",
    "create_solution_file3(filelist[0],solution,endtime,algo_name,exc_time)"
   ]
  },
  {
   "cell_type": "code",
   "execution_count": 2,
   "metadata": {
    "scrolled": true
   },
   "outputs": [
    {
     "name": "stdout",
     "output_type": "stream",
     "text": [
      "['dense_10_30_3_1_I', 'dense_10_30_3_2_I', 'dense_10_30_3_3_I', 'dense_10_30_3_4_I', 'dense_10_30_3_5_I', 'dense_10_30_3_6_I', 'dense_10_30_3_7_I', 'dense_10_30_3_8_I', 'dense_10_30_3_9_I', 'dense_10_30_3_10_I', 'medium_10_30_3_1_I', 'medium_10_30_3_2_I', 'medium_10_30_3_3_I', 'medium_10_30_3_4_I', 'medium_10_30_3_5_I', 'medium_10_30_3_6_I', 'medium_10_30_3_7_I', 'medium_10_30_3_8_I', 'medium_10_30_3_9_I', 'medium_10_30_3_10_I', 'sparse_10_30_3_1_I', 'sparse_10_30_3_2_I', 'sparse_10_30_3_3_I', 'sparse_10_30_3_4_I', 'sparse_10_30_3_5_I', 'sparse_10_30_3_6_I', 'sparse_10_30_3_7_I', 'sparse_10_30_3_8_I', 'sparse_10_30_3_9_I', 'sparse_10_30_3_10_I']\n"
     ]
    }
   ],
   "source": []
  },
  {
   "cell_type": "code",
   "execution_count": 3,
   "metadata": {
    "collapsed": true
   },
   "outputs": [],
   "source": []
  },
  {
   "cell_type": "code",
   "execution_count": 4,
   "metadata": {},
   "outputs": [],
   "source": [
    "# solution = LocalSearchRandomStart2(EVA_TREE,GRAPH,n_iter=10,n_start_points=5)"
   ]
  },
  {
   "cell_type": "code",
   "execution_count": 4,
   "metadata": {},
   "outputs": [
    {
     "ename": "NameError",
     "evalue": "name 'solution' is not defined",
     "output_type": "error",
     "traceback": [
      "\u001b[1;31m---------------------------------------------------------------------------\u001b[0m",
      "\u001b[1;31mNameError\u001b[0m                                 Traceback (most recent call last)",
      "\u001b[1;32m<ipython-input-4-5f5c15d3aa3f>\u001b[0m in \u001b[0;36m<module>\u001b[1;34m()\u001b[0m\n\u001b[1;32m----> 1\u001b[1;33m \u001b[0mprint\u001b[0m\u001b[1;33m(\u001b[0m\u001b[0msolution\u001b[0m\u001b[1;33m[\u001b[0m\u001b[1;36m1\u001b[0m\u001b[1;33m]\u001b[0m\u001b[1;33m)\u001b[0m\u001b[1;33m\u001b[0m\u001b[0m\n\u001b[0m\u001b[0;32m      2\u001b[0m \u001b[0ms\u001b[0m \u001b[1;33m=\u001b[0m \u001b[1;33m[\u001b[0m\u001b[1;33m]\u001b[0m\u001b[1;33m\u001b[0m\u001b[0m\n\u001b[0;32m      3\u001b[0m \u001b[1;32mfor\u001b[0m \u001b[0mi\u001b[0m \u001b[1;32min\u001b[0m \u001b[0msolution\u001b[0m\u001b[1;33m[\u001b[0m\u001b[1;36m1\u001b[0m\u001b[1;33m]\u001b[0m\u001b[1;33m:\u001b[0m\u001b[1;33m\u001b[0m\u001b[0m\n\u001b[0;32m      4\u001b[0m     \u001b[0ms\u001b[0m\u001b[1;33m.\u001b[0m\u001b[0mappend\u001b[0m\u001b[1;33m(\u001b[0m\u001b[0mi\u001b[0m\u001b[1;33m[\u001b[0m\u001b[1;36m0\u001b[0m\u001b[1;33m]\u001b[0m\u001b[1;33m)\u001b[0m\u001b[1;33m\u001b[0m\u001b[0m\n\u001b[0;32m      5\u001b[0m \u001b[0mprint\u001b[0m\u001b[1;33m(\u001b[0m\u001b[0ms\u001b[0m\u001b[1;33m)\u001b[0m\u001b[1;33m\u001b[0m\u001b[0m\n",
      "\u001b[1;31mNameError\u001b[0m: name 'solution' is not defined"
     ]
    }
   ],
   "source": [
    "print(solution[1])\n",
    "s = []\n",
    "for i in solution[1]:\n",
    "    s.append(i[0])\n",
    "print(s)\n"
   ]
  },
  {
   "cell_type": "code",
   "execution_count": 4,
   "metadata": {},
   "outputs": [
    {
     "name": "stdout",
     "output_type": "stream",
     "text": [
      "Im on arc 1-2\n",
      "R-L 37\n",
      "DD 33\n",
      "R 33\n",
      "27\n"
     ]
    }
   ],
   "source": []
  },
  {
   "cell_type": "code",
   "execution_count": null,
   "metadata": {
    "collapsed": true
   },
   "outputs": [],
   "source": []
  }
 ],
 "metadata": {
  "kernelspec": {
   "display_name": "Python 3",
   "language": "python",
   "name": "python3"
  },
  "language_info": {
   "codemirror_mode": {
    "name": "ipython",
    "version": 3
   },
   "file_extension": ".py",
   "mimetype": "text/x-python",
   "name": "python",
   "nbconvert_exporter": "python",
   "pygments_lexer": "ipython3",
   "version": "3.6.3"
  }
 },
 "nbformat": 4,
 "nbformat_minor": 2
}
