{
 "cells": [
  {
   "cell_type": "code",
   "execution_count": 1,
   "metadata": {
    "collapsed": true
   },
   "outputs": [],
   "source": [
    "import glob\n",
    "import os\n",
    "import numpy as np\n",
    "import math\n",
    "from DataProcess import *\n",
    "from SolutionChecker import *\n",
    "from LocalSearch import *\n",
    "import cProfile"
   ]
  },
  {
   "cell_type": "code",
   "execution_count": 2,
   "metadata": {
    "collapsed": true
   },
   "outputs": [],
   "source": [
    "data_path = os.path.dirname(os.path.abspath('__file__')) + \"/data/wildfire.data\""
   ]
  },
  {
   "cell_type": "code",
   "execution_count": 3,
   "metadata": {
    "collapsed": true
   },
   "outputs": [],
   "source": [
    "solution_path = os.path.dirname(os.path.abspath('__file__')) + \"/data/wildfire.solution\""
   ]
  },
  {
   "cell_type": "code",
   "execution_count": 4,
   "metadata": {},
   "outputs": [
    {
     "name": "stdout",
     "output_type": "stream",
     "text": [
      "Add evacuation info\n",
      "Add graph info\n",
      "-----------------------------\n",
      "evacuation_tree =  [[1, 48, 8, 3, 4, 5, 6], [2, 30, 5, 3, 4, 5, 6], [3, 33, 3, 2, 5, 6]]\n",
      "graph =  [[1, 4, 9223372036854775807, 7, 8], [2, 4, 9223372036854775807, 4, 5], [3, 5, 9223372036854775807, 6, 3], [4, 5, 9223372036854775807, 9, 10], [5, 6, 9223372036854775807, 12, 11]]\n",
      "number of evacuation nodes :  3\n",
      "List of evac nodes :  [1, 2, 3]\n",
      "number of nodes =  6\n",
      "number of edges =  5\n",
      "-----------------------------\n"
     ]
    },
    {
     "data": {
      "text/plain": [
       "0"
      ]
     },
     "execution_count": 4,
     "metadata": {},
     "output_type": "execute_result"
    }
   ],
   "source": [
    "print_data(data_path)"
   ]
  },
  {
   "cell_type": "code",
   "execution_count": 5,
   "metadata": {},
   "outputs": [
    {
     "name": "stdout",
     "output_type": "stream",
     "text": [
      "-----------------------------\n",
      "A solution is : [[1, 8, 3], [2, 5, 0], [3, 3, 0]]\n",
      "f_objectif =  37\n",
      "Nature of solution :  valid\n",
      "-----------------------------\n"
     ]
    },
    {
     "data": {
      "text/plain": [
       "0"
      ]
     },
     "execution_count": 5,
     "metadata": {},
     "output_type": "execute_result"
    }
   ],
   "source": [
    "print_solution(solution_path)"
   ]
  },
  {
   "cell_type": "code",
   "execution_count": 6,
   "metadata": {},
   "outputs": [
    {
     "name": "stdout",
     "output_type": "stream",
     "text": [
      "Add evacuation info\n",
      "Add graph info\n",
      "Add evacuation info\n",
      "Add graph info\n",
      "-----------------------------\n",
      "evacuation_tree =  [[1, 48, 8, 3, 4, 5, 6], [2, 30, 5, 3, 4, 5, 6], [3, 33, 3, 2, 5, 6]]\n",
      "graph =  [[1, 4, 9223372036854775807, 7, 8], [2, 4, 9223372036854775807, 4, 5], [3, 5, 9223372036854775807, 6, 3], [4, 5, 9223372036854775807, 9, 10], [5, 6, 9223372036854775807, 12, 11]]\n",
      "number of evacuation nodes :  3\n",
      "List of evac nodes :  [1, 2, 3]\n",
      "number of nodes =  6\n",
      "number of edges =  5\n",
      "-----------------------------\n",
      "-----------------------------\n",
      "A solution is : [[1, 8, 3], [2, 5, 0], [3, 3, 0]]\n",
      "f_objectif =  37\n",
      "Nature of solution :  valid\n",
      "-----------------------------\n",
      "CREATION TASKS & VERIFY CONSTRAINTS\n",
      "-----------------------------\n",
      "ressources info after evacuation =  {'Cap of edge[1-4]': array([8, 8, 8, 0, 0, 0, 0, 0, 0, 8, 8, 8, 8, 8, 8, 8, 8, 8, 8, 8, 8, 8, 8,\n",
      "       8, 8, 8, 8, 8, 8, 8, 8, 8, 8, 8, 8, 8, 8, 8, 8, 8]), 'Cap of edge[2-4]': array([0, 0, 0, 0, 0, 0, 5, 5, 5, 5, 5, 5, 5, 5, 5, 5, 5, 5, 5, 5, 5, 5, 5,\n",
      "       5, 5, 5, 5, 5, 5, 5, 5, 5, 5, 5, 5, 5, 5, 5, 5, 5]), 'Cap of edge[3-5]': array([0, 0, 0, 0, 0, 0, 0, 0, 0, 0, 0, 3, 3, 3, 3, 3, 3, 3, 3, 3, 3, 3, 3,\n",
      "       3, 3, 3, 3, 3, 3, 3, 3, 3, 3, 3, 3, 3, 3, 3, 3, 3]), 'Cap of edge[4-5]': array([10, 10, 10, 10,  5,  5,  5,  5,  5,  5,  2,  2,  2,  2,  2,  2, 10,\n",
      "       10, 10, 10, 10, 10, 10, 10, 10, 10, 10, 10, 10, 10, 10, 10, 10, 10,\n",
      "       10, 10, 10, 10, 10, 10]), 'Cap of edge[5-6]': array([11, 11, 11, 11, 11, 11,  8,  8,  8,  8,  8,  8,  8,  3,  3,  3,  3,\n",
      "        6,  6,  3,  3,  3,  3,  3,  3, 11, 11, 11, 11, 11, 11, 11, 11, 11,\n",
      "       11, 11, 11, 11, 11, 11])}\n",
      "tasks =  {'Evacuees from 1 at edge [1-4]': [3, 16, 6, 8], 'Evacuees from 1 at edge [4-5]': [10, 25, 6, 8], 'Evacuees from 1 at edge [5-6]': [19, 37, 6, 8], 'Evacuees from 2 at edge [2-4]': [0, 10, 6, 5], 'Evacuees from 2 at edge [4-5]': [4, 19, 6, 5], 'Evacuees from 2 at edge [5-6]': [13, 31, 6, 5], 'Evacuees from 3 at edge [3-5]': [0, 17, 11, 3], 'Evacuees from 3 at edge [5-6]': [6, 29, 11, 3]}\n",
      "Nb of tasks =  8\n",
      "-----------------------------\n",
      "CHECK F_OBJECTIF\n",
      "-----------------------------\n",
      "End time is :  37\n"
     ]
    },
    {
     "data": {
      "text/plain": [
       "True"
      ]
     },
     "execution_count": 6,
     "metadata": {},
     "output_type": "execute_result"
    }
   ],
   "source": [
    "verify_solution(data_path,solution_path)"
   ]
  },
  {
   "cell_type": "code",
   "execution_count": 7,
   "metadata": {},
   "outputs": [
    {
     "name": "stdout",
     "output_type": "stream",
     "text": [
      "Add evacuation info\n",
      "Add graph info\n"
     ]
    }
   ],
   "source": [
    "EVA_TREE,GRAPH,NB_NODES = read_data(data_path)\n",
    "NB_EVA_NODES = len(EVA_TREE)\n",
    "NB_EDGES = len(GRAPH)\n",
    "LIST_EVA_NODES = [item[0] for item in EVA_TREE]"
   ]
  },
  {
   "cell_type": "code",
   "execution_count": 8,
   "metadata": {
    "collapsed": true
   },
   "outputs": [],
   "source": [
    "# for i in range(NB_EVA_NODES) : \n",
    "#     node_id = EVA_TREE[i][0]\n",
    "#     print('Evacuation of (only) node ',node_id,' is ', get_duration(node_id,EVA_TREE,GRAPH),' mins')"
   ]
  },
  {
   "cell_type": "code",
   "execution_count": 9,
   "metadata": {},
   "outputs": [
    {
     "name": "stdout",
     "output_type": "stream",
     "text": [
      "Borne inferieur = 34 mins\n"
     ]
    }
   ],
   "source": [
    "print('Borne inferieur = {} mins'.format(get_borne_inf(LIST_EVA_NODES,EVA_TREE,GRAPH)))"
   ]
  },
  {
   "cell_type": "code",
   "execution_count": 10,
   "metadata": {},
   "outputs": [
    {
     "name": "stdout",
     "output_type": "stream",
     "text": [
      "Borne superieur = 37 mins\n"
     ]
    },
    {
     "data": {
      "text/plain": [
       "[[2, 5, 0], [3, 3, 0], [1, 8, 3]]"
      ]
     },
     "execution_count": 10,
     "metadata": {},
     "output_type": "execute_result"
    }
   ],
   "source": [
    "endtime,init_sol= get_borne_sup(LIST_EVA_NODES,EVA_TREE,GRAPH)\n",
    "print('Borne superieur = {} mins'.format(endtime))\n",
    "init_sol"
   ]
  },
  {
   "cell_type": "code",
   "execution_count": 11,
   "metadata": {},
   "outputs": [
    {
     "name": "stdout",
     "output_type": "stream",
     "text": [
      "Add evacuation info\n",
      "Add graph info\n"
     ]
    }
   ],
   "source": [
    "data_path_2 = os.path.dirname(os.path.abspath('__file__')) + \"/data/dense.data\"\n",
    "EVA_TREE,GRAPH,NB_NODES = read_data(data_path_2)\n",
    "NB_EVA_NODES = len(EVA_TREE)\n",
    "NB_EDGES = len(GRAPH)\n",
    "LIST_EVA_NODES = [item[0] for item in EVA_TREE]"
   ]
  },
  {
   "cell_type": "code",
   "execution_count": 12,
   "metadata": {},
   "outputs": [
    {
     "name": "stdout",
     "output_type": "stream",
     "text": [
      "Add evacuation info\n",
      "Add graph info\n",
      "-----------------------------\n",
      "evacuation_tree =  [[227, 2483, 71, 19, 237, 244, 57, 529, 548, 70, 87, 111, 503, 382, 531, 225, 481, 489, 493, 437, 385, 346, 373], [344, 157, 72, 25, 221, 257, 264, 162, 77, 3, 19, 29, 57, 529, 548, 70, 87, 111, 503, 382, 531, 225, 481, 489, 493, 437, 385, 346, 373], [323, 986, 71, 20, 333, 337, 342, 498, 515, 520, 209, 216, 473, 161, 166, 170, 211, 250, 281, 310, 328, 336, 346, 373], [268, 2792, 132, 11, 230, 486, 170, 211, 250, 281, 310, 328, 336, 346, 373], [275, 1707, 70, 23, 113, 372, 78, 83, 337, 342, 498, 515, 520, 209, 216, 473, 161, 166, 170, 211, 250, 281, 310, 328, 336, 346, 373], [279, 2090, 72, 38, 179, 92, 110, 124, 187, 140, 484, 158, 109, 118, 160, 42, 51, 518, 523, 528, 537, 545, 3, 19, 29, 57, 529, 548, 70, 87, 111, 503, 382, 531, 225, 481, 489, 493, 437, 385, 346, 373], [359, 1155, 70, 52, 189, 410, 456, 458, 56, 58, 202, 205, 208, 519, 16, 90, 98, 114, 132, 55, 20, 527, 421, 332, 247, 190, 142, 61, 533, 524, 513, 201, 194, 191, 112, 97, 538, 131, 391, 350, 303, 2, 525, 215, 111, 503, 382, 531, 225, 481, 489, 493, 437, 385, 346, 373], [384, 2895, 74, 33, 407, 312, 300, 204, 106, 121, 48, 513, 201, 194, 191, 112, 97, 538, 131, 391, 350, 303, 2, 525, 215, 111, 503, 382, 531, 225, 481, 489, 493, 437, 385, 346, 373], [163, 3766, 70, 25, 423, 275, 113, 372, 78, 83, 337, 342, 498, 515, 520, 209, 216, 473, 161, 166, 170, 211, 250, 281, 310, 328, 336, 346, 373], [285, 1570, 206, 18, 244, 57, 529, 548, 70, 87, 111, 503, 382, 531, 225, 481, 489, 493, 437, 385, 346, 373]]\n",
      "graph =  [[2, 525, 9223372036854775807, 0, 132], [2, 303, 9223372036854775807, 1, 134], [3, 545, 192, 1, 206], [3, 19, 192, 2, 212], [3, 77, 192, 2, 138], [16, 90, 189, 2, 74], [16, 519, 192, 1, 72], [19, 29, 165, 2, 212], [20, 527, 9223372036854775807, 1, 72], [20, 55, 9223372036854775807, 1, 72], [29, 57, 165, 4, 224], [42, 160, 192, 1, 72], [42, 51, 174, 1, 72], [48, 513, 9223372036854775807, 2, 74], [48, 121, 192, 2, 74], [51, 518, 192, 2, 74], [55, 132, 9223372036854775807, 2, 74], [56, 458, 189, 0, 70], [56, 58, 189, 0, 70], [57, 529, 192, 2, 138], [57, 244, 144, 4, 224], [58, 202, 189, 0, 70], [61, 533, 9223372036854775807, 2, 74], [61, 142, 9223372036854775807, 2, 74], [70, 548, 9223372036854775807, 2, 74], [70, 87, 9223372036854775807, 2, 212], [77, 162, 192, 2, 138], [78, 83, 192, 0, 71], [78, 372, 192, 0, 71], [83, 337, 192, 0, 71], [87, 111, 9223372036854775807, 4, 224], [90, 98, 192, 2, 212], [92, 179, 192, 2, 138], [92, 110, 168, 4, 146], [97, 112, 9223372036854775807, 0, 71], [97, 538, 9223372036854775807, 0, 132], [98, 114, 192, 2, 212], [106, 121, 192, 2, 74], [106, 204, 192, 2, 138], [109, 118, 192, 1, 72], [109, 158, 192, 1, 72], [110, 124, 168, 4, 146], [111, 215, 9223372036854775807, 2, 138], [111, 503, 9223372036854775807, 4, 224], [112, 191, 9223372036854775807, 0, 71], [113, 275, 192, 0, 70], [113, 372, 192, 0, 71], [114, 132, 192, 2, 212], [118, 160, 192, 1, 72], [124, 187, 192, 2, 138], [131, 538, 9223372036854775807, 0, 132], [131, 391, 9223372036854775807, 0, 132], [140, 187, 192, 1, 134], [140, 484, 192, 1, 72], [142, 190, 9223372036854775807, 1, 72], [158, 484, 192, 1, 72], [161, 473, 9223372036854775807, 0, 71], [161, 166, 9223372036854775807, 0, 132], [162, 264, 117, 2, 138], [163, 423, 192, 0, 71], [166, 170, 9223372036854775807, 0, 132], [170, 211, 9223372036854775807, 4, 146], [170, 486, 9223372036854775807, 0, 132], [179, 279, 192, 2, 138], [189, 410, 174, 0, 71], [189, 359, 174, 0, 71], [190, 247, 192, 1, 72], [191, 194, 9223372036854775807, 0, 71], [194, 201, 9223372036854775807, 0, 71], [201, 513, 9223372036854775807, 0, 71], [202, 205, 192, 0, 70], [204, 300, 192, 2, 138], [205, 208, 192, 0, 70], [208, 519, 192, 0, 71], [209, 216, 9223372036854775807, 0, 71], [209, 520, 9223372036854775807, 0, 71], [211, 250, 9223372036854775807, 4, 146], [215, 525, 9223372036854775807, 0, 132], [216, 473, 9223372036854775807, 0, 71], [221, 257, 177, 1, 72], [221, 344, 186, 1, 72], [225, 481, 9223372036854775807, 0, 71], [225, 531, 9223372036854775807, 0, 203], [227, 237, 180, 1, 72], [230, 268, 192, 1, 134], [230, 486, 192, 0, 132], [237, 244, 180, 1, 72], [244, 285, 123, 1, 206], [247, 332, 192, 2, 74], [250, 281, 9223372036854775807, 4, 146], [257, 264, 177, 1, 72], [275, 423, 192, 0, 70], [281, 310, 9223372036854775807, 4, 146], [300, 312, 192, 2, 138], [303, 350, 9223372036854775807, 1, 134], [310, 328, 9223372036854775807, 2, 138], [312, 407, 192, 2, 74], [323, 333, 192, 1, 72], [328, 336, 9223372036854775807, 1, 134], [332, 421, 192, 2, 74], [333, 337, 192, 0, 71], [336, 346, 9223372036854775807, 1, 134], [337, 342, 192, 0, 71], [342, 498, 192, 2, 74], [346, 385, 9223372036854775807, 1, 206], [346, 373, 9223372036854775807, 4, 224], [350, 391, 9223372036854775807, 1, 134], [382, 531, 9223372036854775807, 1, 206], [382, 503, 9223372036854775807, 2, 212], [384, 407, 174, 2, 74], [385, 437, 9223372036854775807, 1, 206], [410, 456, 189, 1, 72], [421, 527, 192, 2, 74], [437, 493, 9223372036854775807, 1, 206], [456, 458, 189, 0, 70], [481, 489, 9223372036854775807, 0, 71], [489, 493, 9223372036854775807, 0, 71], [498, 515, 9223372036854775807, 0, 71], [513, 524, 9223372036854775807, 1, 134], [515, 520, 9223372036854775807, 0, 71], [518, 523, 192, 0, 132], [523, 528, 189, 0, 132], [524, 533, 9223372036854775807, 1, 134], [528, 537, 192, 1, 206], [529, 548, 192, 2, 74], [537, 545, 192, 1, 206]]\n",
      "number of evacuation nodes :  10\n",
      "List of evac nodes :  [227, 344, 323, 268, 275, 279, 359, 384, 163, 285]\n",
      "number of nodes =  549\n",
      "number of edges =  126\n",
      "-----------------------------\n"
     ]
    },
    {
     "data": {
      "text/plain": [
       "0"
      ]
     },
     "execution_count": 12,
     "metadata": {},
     "output_type": "execute_result"
    }
   ],
   "source": [
    "print_data(data_path_2)"
   ]
  },
  {
   "cell_type": "code",
   "execution_count": 13,
   "metadata": {},
   "outputs": [
    {
     "name": "stdout",
     "output_type": "stream",
     "text": [
      "Borne inferieur = 91 mins\n"
     ]
    }
   ],
   "source": [
    "print('Borne inferieur = {} mins'.format(get_borne_inf(LIST_EVA_NODES,EVA_TREE,GRAPH)))"
   ]
  },
  {
   "cell_type": "code",
   "execution_count": 14,
   "metadata": {},
   "outputs": [
    {
     "name": "stdout",
     "output_type": "stream",
     "text": [
      "Borne superieur = 184 mins\n"
     ]
    },
    {
     "data": {
      "text/plain": [
       "[[323, 71, 0],\n",
       " [384, 71, 0],\n",
       " [163, 70, 15],\n",
       " [344, 71, 33],\n",
       " [268, 132, 70],\n",
       " [279, 71, 18],\n",
       " [275, 70, 91],\n",
       " [227, 71, 77],\n",
       " [285, 71, 113],\n",
       " [359, 70, 120]]"
      ]
     },
     "execution_count": 14,
     "metadata": {},
     "output_type": "execute_result"
    }
   ],
   "source": [
    "endtime,init_sol= get_borne_sup(LIST_EVA_NODES,EVA_TREE,GRAPH)\n",
    "print('Borne superieur = {} mins'.format(endtime))\n",
    "init_sol"
   ]
  },
  {
   "cell_type": "code",
   "execution_count": 15,
   "metadata": {},
   "outputs": [
    {
     "name": "stdout",
     "output_type": "stream",
     "text": [
      "Iteration 0:\n",
      "[323, 384, 163, 279, 344, 268, 227, 275, 285, 359]  =>  184\n",
      "Iteration 1:\n",
      "[285 384 163 279 344 268 227 275 323 359]  =>  180\n",
      "Iteration 2:\n",
      "[285 384 163 279 344 268 227 275 323 359]  =>  180\n",
      "Iteration 3:\n",
      "[285 384 163 279 344 268 227 275 323 359]  =>  180\n",
      "Iteration 4:\n",
      "[285 384 163 279 344 268 227 275 323 359]  =>  180\n",
      "Iteration 5:\n",
      "[285 384 163 279 344 268 227 275 323 359]  =>  180\n",
      "         4587082 function calls (4587052 primitive calls) in 22.658 seconds\n",
      "\n",
      "   Ordered by: standard name\n",
      "\n",
      "   ncalls  tottime  percall  cumtime  percall filename:lineno(function)\n",
      "        1    0.000    0.000   22.658   22.658 <ipython-input-15-460573cdb635>:3(<module>)\n",
      "        1    0.000    0.000    0.000    0.000 <ipython-input-15-460573cdb635>:4(<module>)\n",
      "     2710    0.039    0.000    3.548    0.001 DataProcess.py:102(get_task)\n",
      "     2710    0.069    0.000    3.354    0.001 DataProcess.py:106(<listcomp>)\n",
      "      271    0.016    0.000    1.603    0.006 DataProcess.py:121(create_solution)\n",
      "     2710    0.355    0.000    1.587    0.001 DataProcess.py:124(<listcomp>)\n",
      "      271    2.838    0.010   22.625    0.083 DataProcess.py:143(get_end_time)\n",
      "    85862    7.372    0.000    7.372    0.000 DataProcess.py:172(<listcomp>)\n",
      "      271    0.018    0.000    0.018    0.000 DataProcess.py:196(<listcomp>)\n",
      "     5420    0.014    0.000    0.044    0.000 DataProcess.py:81(get_eva_node_info)\n",
      "     5420    0.029    0.000    0.029    0.000 DataProcess.py:82(<listcomp>)\n",
      "   143088    0.250    0.000    6.724    0.000 DataProcess.py:91(get_edge_info)\n",
      "    88346    3.465    0.000    3.465    0.000 DataProcess.py:93(<listcomp>)\n",
      "    54742    3.008    0.000    3.008    0.000 DataProcess.py:95(<listcomp>)\n",
      "        6    0.001    0.000    0.004    0.001 LocalSearch.py:13(get_neighbors_of)\n",
      "        1    0.024    0.024   22.658   22.658 LocalSearch.py:24(LocalSearchRun)\n",
      "        1    0.000    0.000    0.000    0.000 LocalSearch.py:7(create_ordered_list_of)\n",
      "       10    0.000    0.000    0.000    0.000 LocalSearch.py:8(<lambda>)\n",
      "        1    0.000    0.000    0.000    0.000 LocalSearch.py:9(<listcomp>)\n",
      "      271    0.000    0.000    0.017    0.000 _methods.py:25(_amax)\n",
      "     2710    0.004    0.000    0.100    0.000 _methods.py:28(_amin)\n",
      "        5    0.000    0.000    0.000    0.000 arrayprint.py:256(_get_formatdict)\n",
      "        5    0.000    0.000    0.000    0.000 arrayprint.py:259(<lambda>)\n",
      "        5    0.000    0.000    0.001    0.000 arrayprint.py:299(_get_format_function)\n",
      "        5    0.000    0.000    0.002    0.000 arrayprint.py:343(_array2string)\n",
      "    21/11    0.000    0.000    0.002    0.000 arrayprint.py:381(wrapper)\n",
      "    21/11    0.000    0.000    0.002    0.000 arrayprint.py:399(array2string)\n",
      "       50    0.000    0.000    0.000    0.000 arrayprint.py:527(_extendLine)\n",
      "        5    0.000    0.000    0.001    0.000 arrayprint.py:535(_formatArray)\n",
      "        5    0.000    0.000    0.000    0.000 arrayprint.py:712(__init__)\n",
      "       50    0.001    0.000    0.001    0.000 arrayprint.py:725(__call__)\n",
      "        2    0.000    0.000    0.000    0.000 codeop.py:132(__call__)\n",
      "        5    0.000    0.000    0.000    0.000 fromnumeric.py:1380(ravel)\n",
      "      271    0.003    0.000    0.020    0.000 fromnumeric.py:2174(amax)\n",
      "     2710    0.032    0.000    0.131    0.000 fromnumeric.py:2275(amin)\n",
      "    86132    0.054    0.000    0.347    0.000 function_base.py:1453(copy)\n",
      "        2    0.000    0.000    0.000    0.000 hooks.py:142(__call__)\n",
      "        2    0.000    0.000    0.000    0.000 hooks.py:207(pre_run_code_hook)\n",
      "        2    0.000    0.000    0.000    0.000 interactiveshell.py:1055(user_global_ns)\n",
      "        2    0.000    0.000   22.658   11.329 interactiveshell.py:2832(run_code)\n",
      "       54    0.001    0.000    0.002    0.000 iostream.py:180(schedule)\n",
      "       48    0.000    0.000    0.000    0.000 iostream.py:284(_is_master_process)\n",
      "       48    0.000    0.000    0.000    0.000 iostream.py:297(_schedule_flush)\n",
      "       48    0.000    0.000    0.002    0.000 iostream.py:342(write)\n",
      "       54    0.000    0.000    0.000    0.000 iostream.py:87(_event_pipe)\n",
      "        2    0.000    0.000    0.000    0.000 ipstruct.py:125(__getattr__)\n",
      "    21/11    0.000    0.000    0.002    0.000 numeric.py:1905(array_str)\n",
      "    34146    0.049    0.000    0.207    0.000 numeric.py:258(full)\n",
      "        5    0.000    0.000    0.000    0.000 numeric.py:463(asarray)\n",
      "        5    0.000    0.000    0.000    0.000 numeric.py:534(asanyarray)\n",
      "       54    0.000    0.000    0.000    0.000 threading.py:1062(_wait_for_tstate_lock)\n",
      "       54    0.000    0.000    0.000    0.000 threading.py:1104(is_alive)\n",
      "       54    0.000    0.000    0.000    0.000 threading.py:506(is_set)\n",
      "        5    0.000    0.000    0.000    0.000 {built-in method _functools.reduce}\n",
      "       21    0.000    0.000    0.000    0.000 {built-in method _thread.get_ident}\n",
      "        2    0.000    0.000    0.000    0.000 {built-in method builtins.compile}\n",
      "        2    0.000    0.000   22.658   11.329 {built-in method builtins.exec}\n",
      "       21    0.000    0.000    0.000    0.000 {built-in method builtins.id}\n",
      "       53    0.000    0.000    0.000    0.000 {built-in method builtins.isinstance}\n",
      "       15    0.000    0.000    0.000    0.000 {built-in method builtins.issubclass}\n",
      "   330803    0.068    0.000    0.068    0.000 {built-in method builtins.len}\n",
      "        5    0.000    0.000    0.000    0.000 {built-in method builtins.max}\n",
      "       12    0.000    0.000    0.005    0.000 {built-in method builtins.print}\n",
      "        1    0.000    0.000    0.000    0.000 {built-in method builtins.sorted}\n",
      "     2710    0.008    0.000    0.008    0.000 {built-in method math.ceil}\n",
      "       48    0.000    0.000    0.000    0.000 {built-in method nt.getpid}\n",
      "       54    0.000    0.000    0.000    0.000 {built-in method nt.urandom}\n",
      "   206150    0.504    0.000    0.504    0.000 {built-in method numpy.core.multiarray.array}\n",
      "    34146    0.062    0.000    0.062    0.000 {built-in method numpy.core.multiarray.copyto}\n",
      "    34146    0.074    0.000    0.074    0.000 {built-in method numpy.core.multiarray.empty}\n",
      "       54    0.000    0.000    0.000    0.000 {method 'acquire' of '_thread.lock' objects}\n",
      "       21    0.000    0.000    0.000    0.000 {method 'add' of 'set' objects}\n",
      "     2980    0.001    0.000    0.001    0.000 {method 'append' of 'list' objects}\n",
      "        1    0.000    0.000    0.000    0.000 {method 'disable' of '_lsprof.Profiler' objects}\n",
      "       21    0.000    0.000    0.000    0.000 {method 'discard' of 'set' objects}\n",
      "  3348293    4.116    0.000    4.116    0.000 {method 'format' of 'str' objects}\n",
      "       16    0.000    0.000    0.000    0.000 {method 'item' of 'numpy.ndarray' objects}\n",
      "        5    0.000    0.000    0.000    0.000 {method 'ravel' of 'numpy.ndarray' objects}\n",
      "     2991    0.113    0.000    0.113    0.000 {method 'reduce' of 'numpy.ufunc' objects}\n",
      "      100    0.000    0.000    0.000    0.000 {method 'rstrip' of 'str' objects}\n",
      "   105690    0.066    0.000    0.066    0.000 {method 'setdefault' of 'dict' objects}\n",
      "\n",
      "\n"
     ]
    }
   ],
   "source": [
    "cp = cProfile.Profile()\n",
    "cp.enable()\n",
    "endtime,best_solution= LocalSearchRun(init_sol,EVA_TREE,GRAPH,n_iter=10)\n",
    "cp.disable()\n",
    "cp.print_stats()"
   ]
  },
  {
   "cell_type": "code",
   "execution_count": 16,
   "metadata": {},
   "outputs": [],
   "source": [
    "# cp = cProfile.Profile()\n",
    "# cp.enable()\n",
    "# best_solution,endtime = LocalSearchRun2(init_sol,EVA_TREE,GRAPH,n_iter=10)\n",
    "# cp.disable()\n",
    "# cp.print_stats()"
   ]
  },
  {
   "cell_type": "code",
   "execution_count": 17,
   "metadata": {},
   "outputs": [
    {
     "name": "stdout",
     "output_type": "stream",
     "text": [
      "solution =  [[285, 71, 0], [384, 71, 19], [163, 70, 0], [279, 71, 34], [344, 71, 82], [268, 132, 55], [227, 71, 96], [275, 70, 76], [323, 71, 100], [359, 70, 116]]\n",
      "end time =  180\n"
     ]
    }
   ],
   "source": [
    "print('solution = ',best_solution)\n",
    "print('end time = ',endtime)"
   ]
  },
  {
   "cell_type": "code",
   "execution_count": 18,
   "metadata": {},
   "outputs": [
    {
     "name": "stdout",
     "output_type": "stream",
     "text": [
      "---------------------------Start n.1---------------------------\n",
      "Iteration 0:\n",
      "[344, 275, 359, 323, 285, 268, 227, 163, 384, 279]  =>  193\n",
      "Iteration 1:\n",
      "[285 275 359 323 344 268 227 163 384 279]  =>  180\n",
      "Iteration 2:\n",
      "[285 275 359 323 344 268 227 163 384 279]  =>  180\n",
      "Iteration 3:\n",
      "[285 275 359 323 344 268 227 163 384 279]  =>  180\n",
      "Iteration 4:\n",
      "[285 275 359 323 344 268 227 163 384 279]  =>  180\n",
      "Iteration 5:\n",
      "[285 275 359 323 344 268 227 163 384 279]  =>  180\n",
      "----------------------------------------------------------------\n",
      "---------------------------Start n.2---------------------------\n",
      "Iteration 0:\n",
      "[344, 275, 384, 163, 227, 359, 323, 268, 279, 285]  =>  192\n",
      "Iteration 1:\n",
      "[285 275 384 163 227 359 323 268 279 344]  =>  180\n",
      "Iteration 2:\n",
      "[285 275 384 163 227 359 323 268 279 344]  =>  180\n",
      "Iteration 3:\n",
      "[285 275 384 163 227 359 323 268 279 344]  =>  180\n",
      "Iteration 4:\n",
      "[285 275 384 163 227 359 323 268 279 344]  =>  180\n",
      "Iteration 5:\n",
      "[285 275 384 163 227 359 323 268 279 344]  =>  180\n",
      "----------------------------------------------------------------\n",
      "         9130449 function calls (9130389 primitive calls) in 80.756 seconds\n",
      "\n",
      "   Ordered by: standard name\n",
      "\n",
      "   ncalls  tottime  percall  cumtime  percall filename:lineno(function)\n",
      "        1    0.000    0.000   80.756   80.756 <ipython-input-18-8e931f5589df>:3(<module>)\n",
      "        1    0.000    0.000    0.000    0.000 <ipython-input-18-8e931f5589df>:4(<module>)\n",
      "     5440    0.165    0.000   12.177    0.002 DataProcess.py:102(get_task)\n",
      "     5440    0.301    0.000   11.315    0.002 DataProcess.py:106(<listcomp>)\n",
      "      544    0.066    0.000    5.636    0.010 DataProcess.py:121(create_solution)\n",
      "     5440    1.313    0.000    5.567    0.001 DataProcess.py:124(<listcomp>)\n",
      "      544   11.591    0.021   80.623    0.148 DataProcess.py:143(get_end_time)\n",
      "   168546   24.807    0.000   24.807    0.000 DataProcess.py:172(<listcomp>)\n",
      "      544    0.077    0.000    0.077    0.000 DataProcess.py:196(<listcomp>)\n",
      "    10880    0.050    0.000    0.166    0.000 DataProcess.py:81(get_eva_node_info)\n",
      "    10880    0.116    0.000    0.116    0.000 DataProcess.py:82(<listcomp>)\n",
      "   287232    0.914    0.000   23.552    0.000 DataProcess.py:91(get_edge_info)\n",
      "   177344   12.198    0.000   12.198    0.000 DataProcess.py:93(<listcomp>)\n",
      "   109888   10.439    0.000   10.439    0.000 DataProcess.py:95(<listcomp>)\n",
      "       12    0.003    0.000    0.013    0.001 LocalSearch.py:13(get_neighbors_of)\n",
      "        2    0.105    0.053   80.570   40.285 LocalSearch.py:24(LocalSearchRun)\n",
      "        2    0.000    0.000    0.000    0.000 LocalSearch.py:7(create_ordered_list_of)\n",
      "        1    0.000    0.000   80.756   80.756 LocalSearch.py:72(LocalSearchRandomStart)\n",
      "        1    0.000    0.000    0.000    0.000 LocalSearch.py:74(<listcomp>)\n",
      "       20    0.000    0.000    0.000    0.000 LocalSearch.py:8(<lambda>)\n",
      "        1    0.000    0.000    0.000    0.000 LocalSearch.py:89(<listcomp>)\n",
      "        2    0.000    0.000    0.000    0.000 LocalSearch.py:9(<listcomp>)\n",
      "      544    0.001    0.000    0.077    0.000 _methods.py:25(_amax)\n",
      "     5441    0.022    0.000    0.450    0.000 _methods.py:28(_amin)\n",
      "       10    0.000    0.000    0.000    0.000 arrayprint.py:256(_get_formatdict)\n",
      "       10    0.000    0.000    0.001    0.000 arrayprint.py:259(<lambda>)\n",
      "       10    0.000    0.000    0.001    0.000 arrayprint.py:299(_get_format_function)\n",
      "       10    0.000    0.000    0.005    0.000 arrayprint.py:343(_array2string)\n",
      "    42/22    0.000    0.000    0.005    0.000 arrayprint.py:381(wrapper)\n",
      "    42/22    0.000    0.000    0.005    0.000 arrayprint.py:399(array2string)\n",
      "      100    0.000    0.000    0.000    0.000 arrayprint.py:527(_extendLine)\n",
      "       10    0.001    0.000    0.003    0.000 arrayprint.py:535(_formatArray)\n",
      "       10    0.000    0.000    0.001    0.000 arrayprint.py:712(__init__)\n",
      "      100    0.002    0.000    0.002    0.000 arrayprint.py:725(__call__)\n",
      "        2    0.000    0.000    0.000    0.000 codeop.py:132(__call__)\n",
      "       10    0.000    0.000    0.000    0.000 fromnumeric.py:1380(ravel)\n",
      "      544    0.010    0.000    0.088    0.000 fromnumeric.py:2174(amax)\n",
      "     5441    0.145    0.000    0.595    0.000 fromnumeric.py:2275(amin)\n",
      "   169086    0.240    0.000    1.513    0.000 function_base.py:1453(copy)\n",
      "        2    0.000    0.000    0.000    0.000 hooks.py:142(__call__)\n",
      "        2    0.000    0.000    0.000    0.000 hooks.py:207(pre_run_code_hook)\n",
      "        2    0.000    0.000    0.000    0.000 interactiveshell.py:1055(user_global_ns)\n",
      "        2    0.000    0.000   80.756   40.378 interactiveshell.py:2832(run_code)\n",
      "      117    0.006    0.000    0.007    0.000 iostream.py:180(schedule)\n",
      "      104    0.000    0.000    0.000    0.000 iostream.py:284(_is_master_process)\n",
      "      104    0.000    0.000    0.001    0.000 iostream.py:297(_schedule_flush)\n",
      "      104    0.001    0.000    0.009    0.000 iostream.py:342(write)\n",
      "      117    0.000    0.000    0.000    0.000 iostream.py:87(_event_pipe)\n",
      "        2    0.000    0.000    0.000    0.000 ipstruct.py:125(__getattr__)\n",
      "    42/22    0.000    0.000    0.005    0.000 numeric.py:1905(array_str)\n",
      "    68544    0.175    0.000    0.755    0.000 numeric.py:258(full)\n",
      "       10    0.000    0.000    0.000    0.000 numeric.py:463(asarray)\n",
      "       10    0.000    0.000    0.000    0.000 numeric.py:534(asanyarray)\n",
      "       18    0.000    0.000    0.000    0.000 random.py:222(_randbelow)\n",
      "        2    0.000    0.000    0.000    0.000 random.py:260(shuffle)\n",
      "      117    0.000    0.000    0.000    0.000 threading.py:1062(_wait_for_tstate_lock)\n",
      "      117    0.000    0.000    0.001    0.000 threading.py:1104(is_alive)\n",
      "      117    0.000    0.000    0.000    0.000 threading.py:506(is_set)\n",
      "       10    0.000    0.000    0.000    0.000 {built-in method _functools.reduce}\n",
      "       42    0.000    0.000    0.000    0.000 {built-in method _thread.get_ident}\n",
      "        2    0.000    0.000    0.000    0.000 {built-in method builtins.compile}\n",
      "        2    0.000    0.000   80.756   40.378 {built-in method builtins.exec}\n",
      "       42    0.000    0.000    0.000    0.000 {built-in method builtins.id}\n",
      "      114    0.000    0.000    0.000    0.000 {built-in method builtins.isinstance}\n",
      "       30    0.000    0.000    0.000    0.000 {built-in method builtins.issubclass}\n",
      "   545731    0.228    0.000    0.228    0.000 {built-in method builtins.len}\n",
      "       10    0.000    0.000    0.000    0.000 {built-in method builtins.max}\n",
      "       28    0.001    0.000    0.014    0.001 {built-in method builtins.print}\n",
      "        2    0.000    0.000    0.000    0.000 {built-in method builtins.sorted}\n",
      "     5440    0.030    0.000    0.030    0.000 {built-in method math.ceil}\n",
      "      104    0.000    0.000    0.000    0.000 {built-in method nt.getpid}\n",
      "      117    0.000    0.000    0.000    0.000 {built-in method nt.urandom}\n",
      "   406196    2.468    0.000    2.468    0.000 {built-in method numpy.core.multiarray.array}\n",
      "    68544    0.206    0.000    0.206    0.000 {built-in method numpy.core.multiarray.copyto}\n",
      "    68544    0.277    0.000    0.277    0.000 {built-in method numpy.core.multiarray.empty}\n",
      "      117    0.000    0.000    0.000    0.000 {method 'acquire' of '_thread.lock' objects}\n",
      "       42    0.000    0.000    0.000    0.000 {method 'add' of 'set' objects}\n",
      "     5984    0.003    0.000    0.003    0.000 {method 'append' of 'list' objects}\n",
      "       18    0.000    0.000    0.000    0.000 {method 'bit_length' of 'int' objects}\n",
      "        1    0.000    0.000    0.000    0.000 {method 'disable' of '_lsprof.Profiler' objects}\n",
      "       42    0.000    0.000    0.000    0.000 {method 'discard' of 'set' objects}\n",
      "  6777148   14.065    0.000   14.065    0.000 {method 'format' of 'str' objects}\n",
      "       22    0.000    0.000    0.000    0.000 {method 'getrandbits' of '_random.Random' objects}\n",
      "       32    0.000    0.000    0.000    0.000 {method 'item' of 'numpy.ndarray' objects}\n",
      "       10    0.000    0.000    0.000    0.000 {method 'ravel' of 'numpy.ndarray' objects}\n",
      "     6005    0.504    0.000    0.504    0.000 {method 'reduce' of 'numpy.ufunc' objects}\n",
      "      200    0.000    0.000    0.000    0.000 {method 'rstrip' of 'str' objects}\n",
      "   212160    0.221    0.000    0.221    0.000 {method 'setdefault' of 'dict' objects}\n",
      "\n",
      "\n",
      "solution =  [[285, 71, 0], [275, 70, 0], [359, 70, 7], [323, 71, 24], [344, 71, 28], [268, 132, 40], [227, 71, 42], [163, 70, 61], [384, 71, 74], [279, 71, 89]]\n",
      "end time =  180\n"
     ]
    }
   ],
   "source": [
    "cp = cProfile.Profile()\n",
    "cp.enable()\n",
    "endtime,best_solution = LocalSearchRandomStart(EVA_TREE,GRAPH,n_iter=10,n_start_points=2)\n",
    "cp.disable()\n",
    "cp.print_stats()\n",
    "print('solution = ',best_solution)\n",
    "print('end time = ',endtime)"
   ]
  },
  {
   "cell_type": "code",
   "execution_count": 19,
   "metadata": {},
   "outputs": [
    {
     "data": {
      "text/plain": [
       "0"
      ]
     },
     "execution_count": 19,
     "metadata": {},
     "output_type": "execute_result"
    }
   ],
   "source": [
    "create_solution_file('data/wildfire_sup.solution',best_solution,endtime)"
   ]
  },
  {
   "cell_type": "code",
   "execution_count": 20,
   "metadata": {
    "collapsed": true
   },
   "outputs": [],
   "source": [
    "# #-----------------------------------------------------------------------------\n",
    "# # Build the model\n",
    "# #-----------------------------------------------------------------------------\n",
    "# from docplex.cp.model import CpoModel\n",
    "# from docplex.cp.expression import *\n",
    "# from docplex.cp.solution import *\n",
    "# import docplex.cp.utils_visu as visu\n",
    "# # Create model\n",
    "# mdl = CpoModel(version='12.7.0')"
   ]
  },
  {
   "cell_type": "code",
   "execution_count": 21,
   "metadata": {
    "collapsed": true
   },
   "outputs": [],
   "source": [
    "# # Create one interval variable per job operation\n",
    "# E_nodes = [[mdl.interval_var(size=get_task(j,EVA_TREE,GRAPH)[0], name=\"Evacuees from {} at {}\".format(j,m)) for m in get_task(j,EVA_TREE,GRAPH)[1]] for j in LIST_EVA_NODES]\n",
    "# len(E_nodes)"
   ]
  },
  {
   "cell_type": "code",
   "execution_count": 22,
   "metadata": {
    "collapsed": true
   },
   "outputs": [],
   "source": [
    "# len(E_nodes[0])"
   ]
  },
  {
   "cell_type": "code",
   "execution_count": 23,
   "metadata": {
    "collapsed": true
   },
   "outputs": [],
   "source": [
    "# #-----------------------------------------------------------------------------\n",
    "# # Constraints \n",
    "# #-----------------------------------------------------------------------------\n",
    "\n",
    "# #Each operation must start after a precise duration = time to traverse an arc\n",
    "# for i in range(NB_EVA_NODES) :\n",
    "#     root = LIST_EVA_NODES[i]\n",
    "#     route_list = get_task(root,EVA_TREE,GRAPH)[1]\n",
    "#     route_len = len(route_list)\n",
    "#     current = root\n",
    "#     for m in range(route_len) :\n",
    "#         nxt = route_list[m]\n",
    "# #         print(\"Node-{}-to-{}\".format(root,nxt))\n",
    "#         if nxt != current :\n",
    "# #             print(current,nxt)\n",
    "#             _,delay,_ = get_edge_info(current,nxt,GRAPH)\n",
    "#             mdl.add(mdl.start_at_start(E_nodes[i][m-1],E_nodes[i][m],delay))\n",
    "#             print(\"Evacuees-from-{}-at-{} starts after Evacuees-from-{}-at-{} : {} mins \".format(root,nxt,root,current,delay))\n",
    "#         current = nxt\n",
    "#     print('----------')"
   ]
  },
  {
   "cell_type": "code",
   "execution_count": 24,
   "metadata": {
    "collapsed": true
   },
   "outputs": [],
   "source": [
    "# #Constraint on capacity of ressources, which are edges of graph\n",
    "\n",
    "# for r in range(NB_EDGES) :\n",
    "#     edge = GRAPH[r]\n",
    "# #     print(edge)\n",
    "#     CAP_MAX = edge[-1]\n",
    "#     rsc = 0\n",
    "#     ressources = []\n",
    "#     for i in range(NB_EVA_NODES) :\n",
    "#         root = LIST_EVA_NODES[i]\n",
    "#         _,route_list,capacity = get_task(root,EVA_TREE,GRAPH)\n",
    "#         route_len = len(route_list)\n",
    "#         current = root\n",
    "\n",
    "#         for m in range(route_len) : \n",
    "#             nxt = route_list[m]\n",
    "\n",
    "#             if edge[0] == current and edge[1]==nxt :\n",
    "#                 ressources.append(mdl.pulse(E_nodes[i][m-1],capacity))\n",
    "#                 print(\"Evacuees-from-{}-at-{} requests edge [{}-{}] a capacity {}\".format(root,route_list[m-1],current,nxt,capacity))\n",
    "                \n",
    "#                 rsc += capacity\n",
    "               \n",
    "#             current = nxt\n",
    "#         #end for\n",
    "#     #end for\n",
    "#     mdl.add(mdl.sum(ressources) <= CAP_MAX)\n",
    "#     print('Constraint on edge {}-{} with capacity_max {}... is loaded'.format(edge[0],edge[1],CAP_MAX))\n",
    "#     print('--------------')\n",
    "# #end for"
   ]
  },
  {
   "cell_type": "code",
   "execution_count": 25,
   "metadata": {
    "collapsed": true
   },
   "outputs": [],
   "source": [
    "# #Minimize end of all tasks\n",
    "# mdl.add(mdl.minimize(mdl.max([mdl.end_of(node) for list_nodes in E_nodes for node in list_nodes])))"
   ]
  },
  {
   "cell_type": "code",
   "execution_count": 26,
   "metadata": {
    "collapsed": true
   },
   "outputs": [],
   "source": [
    "# #-----------------------------------------------------------------------------\n",
    "# # Solve the model and display the result\n",
    "# #-----------------------------------------------------------------------------\n",
    "# mdl.write_information()"
   ]
  },
  {
   "cell_type": "code",
   "execution_count": 27,
   "metadata": {
    "collapsed": true
   },
   "outputs": [],
   "source": [
    "# # Solve model\n",
    "# # print(\"Solving model....\")\n",
    "# msol = mdl.solve(TimeLimit=1000)\n",
    "# # print(\"Solution: \")\n",
    "# msol.print_solution()"
   ]
  }
 ],
 "metadata": {
  "kernelspec": {
   "display_name": "Python 3",
   "language": "python",
   "name": "python3"
  },
  "language_info": {
   "codemirror_mode": {
    "name": "ipython",
    "version": 3
   },
   "file_extension": ".py",
   "mimetype": "text/x-python",
   "name": "python",
   "nbconvert_exporter": "python",
   "pygments_lexer": "ipython3",
   "version": "3.6.3"
  }
 },
 "nbformat": 4,
 "nbformat_minor": 2
}
