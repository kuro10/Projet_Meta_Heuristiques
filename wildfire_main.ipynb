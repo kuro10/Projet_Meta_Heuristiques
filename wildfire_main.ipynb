{
 "cells": [
  {
   "cell_type": "code",
   "execution_count": 1,
   "metadata": {},
   "outputs": [],
   "source": [
    "import glob\n",
    "import os\n",
    "import numpy as np\n",
    "import math\n",
    "from DataProcess import *\n",
    "from SolutionChecker import *\n",
    "from LocalSearch import *"
   ]
  },
  {
   "cell_type": "markdown",
   "metadata": {},
   "source": [
    "# Test for Input TD"
   ]
  },
  {
   "cell_type": "code",
   "execution_count": 2,
   "metadata": {
    "collapsed": true
   },
   "outputs": [],
   "source": [
    "# data_path = os.path.dirname(os.path.abspath('__file__')) + \"/data/wildfire.data\""
   ]
  },
  {
   "cell_type": "code",
   "execution_count": 3,
   "metadata": {
    "collapsed": true
   },
   "outputs": [],
   "source": [
    "# solution_path = os.path.dirname(os.path.abspath('__file__')) + \"/data/wildfire.solution\""
   ]
  },
  {
   "cell_type": "code",
   "execution_count": 4,
   "metadata": {},
   "outputs": [],
   "source": [
    "# print_data(data_path)"
   ]
  },
  {
   "cell_type": "code",
   "execution_count": 5,
   "metadata": {
    "collapsed": true
   },
   "outputs": [],
   "source": [
    "#print_solution(solution_path)"
   ]
  },
  {
   "cell_type": "code",
   "execution_count": 6,
   "metadata": {
    "collapsed": true
   },
   "outputs": [],
   "source": [
    "#verify_solution(data_path,solution_path)"
   ]
  },
  {
   "cell_type": "code",
   "execution_count": 7,
   "metadata": {
    "collapsed": true
   },
   "outputs": [],
   "source": [
    "# EVA_TREE,GRAPH,NB_NODES = read_data(data_path)\n",
    "# NB_EVA_NODES = len(EVA_TREE)\n",
    "# NB_EDGES = len(GRAPH)\n",
    "# LIST_EVA_NODES = [item[0] for item in EVA_TREE]"
   ]
  },
  {
   "cell_type": "code",
   "execution_count": 8,
   "metadata": {
    "collapsed": true
   },
   "outputs": [],
   "source": [
    "# for i in range(NB_EVA_NODES) : \n",
    "#     node_id = EVA_TREE[i][0]\n",
    "#     print('Evacuation of (only) node ',node_id,' is ', get_duration(node_id,EVA_TREE,GRAPH),' mins')"
   ]
  },
  {
   "cell_type": "code",
   "execution_count": 9,
   "metadata": {},
   "outputs": [],
   "source": [
    "# print('Borne inferieur = {} mins'.format(get_borne_inf(LIST_EVA_NODES,EVA_TREE,GRAPH)))"
   ]
  },
  {
   "cell_type": "code",
   "execution_count": 10,
   "metadata": {},
   "outputs": [],
   "source": [
    "# endtime,init_sol= get_borne_sup(LIST_EVA_NODES,EVA_TREE,GRAPH)\n",
    "# print('Borne superieur = {} mins'.format(endtime))\n",
    "# init_sol"
   ]
  },
  {
   "cell_type": "code",
   "execution_count": 11,
   "metadata": {},
   "outputs": [],
   "source": [
    "# cp = cProfile.Profile()\n",
    "# cp.enable()\n",
    "# endtime,best_solution= LocalSearchRun2(init_sol,EVA_TREE,GRAPH,n_iter=10)\n",
    "# cp.disable()\n",
    "# cp.print_stats()"
   ]
  },
  {
   "cell_type": "markdown",
   "metadata": {},
   "source": [
    "# Test for given instances "
   ]
  },
  {
   "cell_type": "code",
   "execution_count": 12,
   "metadata": {
    "collapsed": true
   },
   "outputs": [],
   "source": [
    "# data_path_2 = os.path.dirname(os.path.abspath('__file__')) + \"/InstancesInt/dense_10_30_3_1_I.full\"\n",
    "# EVA_TREE,GRAPH,NB_NODES = read_data(data_path_2)\n",
    "# NB_EVA_NODES = len(EVA_TREE)\n",
    "# NB_EDGES = len(GRAPH)\n",
    "# LIST_EVA_NODES = [item[0] for item in EVA_TREE]"
   ]
  },
  {
   "cell_type": "code",
   "execution_count": 13,
   "metadata": {
    "collapsed": true
   },
   "outputs": [],
   "source": [
    "#print_data(data_path_2)"
   ]
  },
  {
   "cell_type": "code",
   "execution_count": 14,
   "metadata": {},
   "outputs": [],
   "source": [
    "# print('Borne inferieur = {} mins'.format(get_borne_inf(LIST_EVA_NODES,EVA_TREE,GRAPH)))"
   ]
  },
  {
   "cell_type": "code",
   "execution_count": 15,
   "metadata": {},
   "outputs": [],
   "source": [
    "# endtime,init_sol= get_borne_sup(LIST_EVA_NODES,EVA_TREE,GRAPH)\n",
    "# print('Borne superieur = {} mins'.format(endtime))\n",
    "# init_sol"
   ]
  },
  {
   "cell_type": "code",
   "execution_count": 16,
   "metadata": {},
   "outputs": [],
   "source": [
    "# cp = cProfile.Profile()\n",
    "# cp.enable()\n",
    "# endtime,best_solution= LocalSearchRun(init_sol,EVA_TREE,GRAPH,n_iter=10)\n",
    "# cp.disable()\n",
    "# cp.print_stats()"
   ]
  },
  {
   "cell_type": "code",
   "execution_count": 17,
   "metadata": {},
   "outputs": [],
   "source": [
    "# cp = cProfile.Profile()\n",
    "# cp.enable()\n",
    "# endtime,best_solution= LocalSearchRun4(init_sol,EVA_TREE,GRAPH,n_iter=10)\n",
    "# cp.disable()\n",
    "# cp.print_stats()"
   ]
  },
  {
   "cell_type": "code",
   "execution_count": 18,
   "metadata": {
    "collapsed": true
   },
   "outputs": [],
   "source": [
    "# cp = cProfile.Profile()\n",
    "# cp.enable()\n",
    "# best_solution,endtime = LocalSearchRun2(init_sol,EVA_TREE,GRAPH,n_iter=10)\n",
    "# cp.disable()\n",
    "# cp.print_stats()"
   ]
  },
  {
   "cell_type": "code",
   "execution_count": 19,
   "metadata": {},
   "outputs": [],
   "source": [
    "# print('solution = ',best_solution)\n",
    "# print('end time = ',endtime)"
   ]
  },
  {
   "cell_type": "code",
   "execution_count": 20,
   "metadata": {},
   "outputs": [],
   "source": [
    "# cp = cProfile.Profile()\n",
    "# cp.enable()\n",
    "# endtime,best_solution,algo,exc = LocalSearchRandomStart2(EVA_TREE,GRAPH,n_iter=10,n_start_points=5)\n",
    "# create_solution_file3('dense_10_30_3_1_I',best_solution,endtime,algo,exc)\n",
    "# cp.disable()\n",
    "# cp.print_stats()\n",
    "# print('solution = ',best_solution)\n",
    "# print('end time = ',endtime)"
   ]
  },
  {
   "cell_type": "code",
   "execution_count": 21,
   "metadata": {},
   "outputs": [],
   "source": [
    "# create_solution_file('data/wildfire_sup.solution',best_solution,endtime)"
   ]
  },
  {
   "cell_type": "markdown",
   "metadata": {},
   "source": [
    "# Test with due_date problem"
   ]
  },
  {
   "cell_type": "code",
   "execution_count": 2,
   "metadata": {},
   "outputs": [],
   "source": [
    "import glob\n",
    "import os\n",
    "import numpy as np\n",
    "import math\n",
    "from DataProcess import *\n",
    "from SolutionChecker import *\n",
    "from LocalSearch import *"
   ]
  },
  {
   "cell_type": "code",
   "execution_count": 3,
   "metadata": {},
   "outputs": [],
   "source": [
    "data_path = os.path.dirname(os.path.abspath('__file__')) + \"/InstancesInt/sparse_10_30_3_1_I.full\"\n",
    "# data_path = os.path.dirname(os.path.abspath('__file__')) + \"/data/wildfire.data\"\n",
    "EVA_TREE,GRAPH,NB_NODES = read_data(data_path)\n",
    "NB_EVA_NODES = len(EVA_TREE)\n",
    "NB_EDGES = len(GRAPH)\n",
    "LIST_EVA_NODES = [item[0] for item in EVA_TREE]"
   ]
  },
  {
   "cell_type": "code",
   "execution_count": 88,
   "metadata": {},
   "outputs": [],
   "source": [
    "\n",
    "# #Run a local search to find a solution\n",
    "# endtime,best_solution,algo,exc = LocalSearchRandomStart(EVA_TREE,GRAPH,n_iter=10,n_start_points=1)\n",
    "# create_solution_file('sparse_10_30_3_3_I',best_solution,endtime,algo,exc)\n",
    "\n",
    "# print('solution = ',best_solution)\n",
    "# print('end time = ',endtime)\n",
    "\n",
    "# # verify this solution by our checker\n",
    "# solution_path = os.path.dirname(os.path.abspath('__file__')) + \"/Solutions/sparse_10_30_3_1_I.solution\"\n",
    "# verify_solution(data_path,solution_path)\n"
   ]
  },
  {
   "cell_type": "code",
   "execution_count": null,
   "metadata": {},
   "outputs": [],
   "source": []
  },
  {
   "cell_type": "code",
   "execution_count": 17,
   "metadata": {
    "scrolled": true
   },
   "outputs": [
    {
     "name": "stdout",
     "output_type": "stream",
     "text": [
      "159 [[128, 134, 0], [77, 206, 14], [190, 74, 1], [107, 72, 31], [130, 206, 78], [138, 206, 93], [134, 72, 82], [177, 71, 92], [156, 72, 0], [167, 72, 59]]\n",
      "CREATION TASKS & VERIFY CONSTRAINTS\n",
      "-----------------------------\n",
      "CHECK F_OBJECTIF\n",
      "-----------------------------\n",
      "End time is :  159\n",
      "-----------------------------\n",
      "END\n",
      "-----------------------------\n",
      "True\n",
      "159 [[128, 134, 0], [77, 206, 14], [190, 74, 1], [107, 72, 31], [130, 206, 78], [138, 206, 93], [134, 72, 82], [177, 71, 92], [156, 72, 0], [167, 72, 0]]\n",
      "CREATION TASKS & VERIFY CONSTRAINTS\n",
      "-----------------------------\n",
      "CHECK F_OBJECTIF\n",
      "-----------------------------\n",
      "End time is :  159\n",
      "-----------------------------\n",
      "END\n",
      "-----------------------------\n",
      "True\n"
     ]
    }
   ],
   "source": [
    "def get_end_time_beta(list_eva_nodes,eva_tree,graph) : \n",
    "    ## Initialize the ressources \n",
    "    ressources = {}\n",
    "    for edge in graph :\n",
    "        edge_cap = edge[-1]\n",
    "        ressources.setdefault('Cap of edge[{}-{}]'.format(edge[0],edge[1]),np.full(300,edge_cap))   \n",
    "        \n",
    "    ## Arrange the tasks \n",
    "    tasks = {}\n",
    "    for i in list_eva_nodes : \n",
    "        cap_ok = False\n",
    "        shift_time = 0\n",
    "        dist = 0\n",
    "        while(not cap_ok) :\n",
    "            start = shift_time\n",
    "\n",
    "            ## arrange the following tasks with the start\n",
    "            duration,demande_res,eva_rate = get_task(i,eva_tree,graph)\n",
    "            current = i\n",
    "            \n",
    "            for j in demande_res : \n",
    "                nxt = j\n",
    "                if current != nxt :\n",
    "                    due_date,length,edge_cap = get_edge_info(current,nxt,graph)\n",
    "                        \n",
    "                    if current < nxt :\n",
    "                        dispo = np.copy(np.array(ressources['Cap of edge[{}-{}]'.format(current,nxt)]))\n",
    "                    else : \n",
    "                        dispo = np.copy(np.array(ressources['Cap of edge[{}-{}]'.format(nxt,current)]))\n",
    "                    \n",
    "                    dispo[start:start+duration] -= eva_rate\n",
    "                    if shift_time > 0 :\n",
    "                        dispo[start-dist:start-dist+duration] += eva_rate\n",
    "#                         print(start-shift_time,start-shift_time+duration)\n",
    "#                     print('Cap of edge[{}-{}] = {}'.format(current,nxt,dispo))\n",
    "                    ## Update the ressources of the current edge\n",
    "                    if current < nxt :\n",
    "                        ressources['Cap of edge[{}-{}]'.format(current,nxt)] = dispo\n",
    "                    else : \n",
    "                        ressources['Cap of edge[{}-{}]'.format(nxt,current)] = dispo\n",
    "                    \n",
    "                    \n",
    "#                     if shift_time == 0 :\n",
    "#                         tasks.setdefault('Evacuees from {} at edge [{}-{}]'.format(i,current,nxt), [start,start+length+duration,duration,eva_rate,due_date,dispo])\n",
    "#                     else :\n",
    "                    tasks['Evacuees from {} at edge [{}-{}]'.format(i,current,nxt)] = [start,start+length+duration,duration,eva_rate,due_date,dispo]\n",
    "                    \n",
    "                    start += length\n",
    "                current = j\n",
    "                \n",
    "            ## check the capacity constraints with this time start\n",
    "            stop = False\n",
    "            \n",
    "            for key in tasks :\n",
    "                if not stop :\n",
    "                    check_dispo = [item for item in tasks[key][5] if item<0]\n",
    "                    if len(check_dispo) > 0 :\n",
    "#                         print(key,tasks[key][5])\n",
    "                        shift_time += len(check_dispo)\n",
    "#                         print(dist)\n",
    "                        dist = len(check_dispo)\n",
    "                        stop = True\n",
    "                        cap_ok = False\n",
    "                    else :\n",
    "                        cap_ok = True\n",
    "                ## return cap_ok and shift_time \n",
    "\n",
    "\n",
    "\n",
    "                \n",
    "#         print('After node',i,' tasks = ',tasks)\n",
    "#     print('tasks = ', tasks)\n",
    "#     print('Nb of tasks = ',len(tasks))\n",
    "    end_time = np.max([tasks[keys][1] for keys in tasks])\n",
    "#     print([tasks[keys][1] for keys in tasks])\n",
    "#    print('End time is : ',end_time)\n",
    "    solution = create_solution(tasks,LIST_EVA_NODES)\n",
    "    return end_time,solution\n",
    "\n",
    "random.shuffle(LIST_EVA_NODES)\n",
    "end,sol = get_end_time(LIST_EVA_NODES,EVA_TREE,GRAPH)\n",
    "print(end,sol)\n",
    "print(check_a_solution(data_path,sol))\n",
    "end,sol = get_end_time_beta(LIST_EVA_NODES,EVA_TREE,GRAPH)\n",
    "print(end,sol)\n",
    "print(check_a_solution(data_path,sol))\n"
   ]
  },
  {
   "cell_type": "code",
   "execution_count": 3,
   "metadata": {},
   "outputs": [],
   "source": [
    "\n",
    "def get_end_time_alpha(list_eva_nodes,eva_tree,graph) : \n",
    "    ## Initialize the ressources \n",
    "    ressources = {}\n",
    "    for edge in graph :\n",
    "        edge_cap = edge[-1]\n",
    "        ressources.setdefault('Cap of edge[{}-{}]'.format(edge[0],edge[1]),np.full(1000,edge_cap))   \n",
    "        \n",
    "    ## Arrange the tasks \n",
    "    tasks = {}\n",
    "    for i in list_eva_nodes : \n",
    "        start = 0\n",
    "        duration,demande_res,eva_rate = get_task(i,eva_tree,graph)\n",
    "        current = i\n",
    "        for j in demande_res : \n",
    "            nxt = j\n",
    "            if current != nxt :\n",
    "                due_date,length,edge_cap = get_edge_info(current,nxt,graph)\n",
    "                ## Check the capacity constraints\n",
    "                ok = False\n",
    "                cumul_time = 0\n",
    "                while (not ok) :\n",
    "                    if current < nxt :\n",
    "                        dispo = np.copy(np.array(ressources['Cap of edge[{}-{}]'.format(current,nxt)]))\n",
    "                    else : \n",
    "                        dispo = np.copy(np.array(ressources['Cap of edge[{}-{}]'.format(nxt,current)]))\n",
    "                    dispo[start:start+duration] -= eva_rate\n",
    "                    check_dispo = [item for item in dispo if item < 0]\n",
    "                    if (len(check_dispo) > 0) :   \n",
    "                        ## Shift the task if overload\n",
    "                        cumul_time += len(check_dispo) \n",
    "                        ok = False\n",
    "                        ## Change the time start of the previous nodes \n",
    "                        for keys in tasks :\n",
    "                            if 'Evacuees from {}'.format(i) in keys :\n",
    "                                \n",
    "                                tasks[keys][0] += len(check_dispo)\n",
    "                                tasks[keys][1] += len(check_dispo)\n",
    "                    else : \n",
    "                        ok = True\n",
    "                        ## Suppose that all the previous edges are ok\n",
    "                        ## Update the ressources of the current edge\n",
    "                        ressources['Cap of edge[{}-{}]'.format(current,nxt)] = dispo\n",
    "                ## Add info of a task\n",
    "                tasks.setdefault('Evacuees from {} at edge [{}-{}]'.format(i,current,nxt), [start,start+length+duration,duration,eva_rate,due_date])\n",
    "        \n",
    "                start += length\n",
    "            current = nxt\n",
    "            \n",
    "#    print('tasks = ', tasks)\n",
    "#    print('Nb of tasks = ',len(tasks))\n",
    "    \n",
    "    end_time = np.max([tasks[keys][1] for keys in tasks])\n",
    "    solution = create_solution(tasks,list_eva_nodes)\n",
    " \n",
    "    return end_time,solution\n"
   ]
  },
  {
   "cell_type": "code",
   "execution_count": 178,
   "metadata": {
    "scrolled": true
   },
   "outputs": [
    {
     "name": "stdout",
     "output_type": "stream",
     "text": [
      "193 [[344, 71, 0], [275, 70, 0], [163, 70, 25], [359, 70, 0], [323, 71, 78], [384, 71, 29], [285, 71, 74], [227, 71, 96], [279, 71, 102], [268, 132, 94]]\n",
      "202 [[344, 71, 0], [275, 70, 0], [163, 70, 25], [359, 70, 0], [323, 71, 78], [384, 62, 29], [285, 67, 80], [227, 71, 103], [279, 67, 109], [268, 63, 0]]\n"
     ]
    }
   ],
   "source": [
    "def get_end_time_2(LIST_EVA_NODES,EVA_TREE,GRAPH) : \n",
    "    ressources = {}\n",
    "    for edge in GRAPH :\n",
    "        edge_cap = edge[-1]\n",
    "#         print('max cap of edge [{}-{}] : {}'.format(edge[0],edge[1],edge_cap))\n",
    "        ressources.setdefault('Cap of edge[{}-{}]'.format(edge[0],edge[1]),np.full(1000,edge_cap))\n",
    "#         print(ressources)\n",
    "   \n",
    "    tasks = {}\n",
    "    for i in LIST_EVA_NODES : \n",
    "        nb_evacuees,max_rate,route_length,route_list = get_eva_node_info(i,EVA_TREE)\n",
    "        start = 0\n",
    "        duration,demande_res,eva_rate = get_task(i,EVA_TREE,GRAPH)\n",
    "        current = i\n",
    "#        print(eva_rate)\n",
    "        for j in demande_res : \n",
    "#             print('Evacuees from {} at node {}'.format(i,j))\n",
    "            nxt = j\n",
    "            if current != nxt :\n",
    "                due_date,length,edge_cap = get_edge_info(current,nxt,GRAPH)\n",
    "                \n",
    "                #Second solution variable \n",
    "                start2= start\n",
    "                error_rate = 0\n",
    "                \n",
    "                \n",
    "                cumul_time = 0\n",
    "                capacity_ok = False\n",
    "                \n",
    "                #check the capicity constraints\n",
    "                while (not capacity_ok) :\n",
    "                    #check the avalable ressource\n",
    "                    if current < nxt :\n",
    "                        dispo = np.copy(np.array(ressources['Cap of edge[{}-{}]'.format(current,nxt)]))\n",
    "                    else : \n",
    "                        dispo = np.copy(np.array(ressources['Cap of edge[{}-{}]'.format(nxt,current)]))\n",
    "                    dispo[start+cumul_time:start+cumul_time+duration] -= eva_rate\n",
    "#                     print('dispo[{}-{}]={}'.format(current,nxt,dispo))\n",
    "                    check_dispo = [item for item in dispo[start+cumul_time:start+cumul_time+duration] if item < 0]\n",
    "#                     index = [i for i in range(1000) if dispo[i]<0]\n",
    "#                     print(index)\n",
    "                    \n",
    "                    if (len(check_dispo) > 0) :  #if OVERLOAD, shift the task\n",
    "                        capacity_ok = False\n",
    "                        cumul_time += len(check_dispo)\n",
    "                        error_rate = -check_dispo[0]\n",
    "#                         print('OVERLOAD',start+cumul_time+duration)\n",
    "                    else : # move to the next task\n",
    "                        capacity_ok = True\n",
    "                \n",
    "                #here there is no more conflict fot the current task\n",
    "                #now compare the solutions\n",
    "                \n",
    "                \n",
    "                #First solution : start+cumul_time,end=start +cumul_time + duration, rate = eva_rate\n",
    "                #Second solution : \n",
    "                eva_rate2 = eva_rate - error_rate\n",
    "                end_time1 = start + cumul_time + duration\n",
    "                \n",
    "                if (eva_rate2 > 0 and start2 + math.ceil(nb_evacuees / eva_rate2) < end_time1) :\n",
    "#                     print(\"choose 2\")\n",
    "                    #if solutio 2 is better\n",
    "                    #no change time start of the previous nodes\n",
    "                    #decrease the rate\n",
    "                    start = start2\n",
    "                    eva_rate = eva_rate2\n",
    "                    duration = math.ceil(nb_evacuees / eva_rate2)\n",
    "                    if current < nxt :\n",
    "                        dispo2 = np.copy(np.array(ressources['Cap of edge[{}-{}]'.format(current,nxt)]))\n",
    "                    else : \n",
    "                        dispo2 = np.copy(np.array(ressources['Cap of edge[{}-{}]'.format(nxt,current)]))\n",
    "                    dispo2[start:start+duration] -= eva_rate\n",
    "                    # Change the eva_rate of the previous nodes \n",
    "                    for keys in tasks :\n",
    "                        if 'Evacuees from {}'.format(i) in keys :\n",
    "                            tasks[keys][3] = eva_rate\n",
    "                            tasks[keys][2] = duration \n",
    "                    #update ressource\n",
    "                    ressources['Cap of edge[{}-{}]'.format(current,nxt)] = dispo2        \n",
    "                else :        \n",
    "#                     print(\"choose 1\")\n",
    "                    #if solution 1 is better\n",
    "                    # Change the time start of the current nodes \n",
    "                    start += cumul_time\n",
    "                    for keys in tasks :\n",
    "                        if 'Evacuees from {}'.format(i) in keys :\n",
    "                            tasks[keys][0] += cumul_time\n",
    "                            tasks[keys][1] += len(check_dispo)\n",
    "                    #update ressource\n",
    "                    ressources['Cap of edge[{}-{}]'.format(current,nxt)] = dispo\n",
    "                \n",
    "                tasks.setdefault('Evacuees from {} at edge [{}-{}]'.format(i,current,nxt), [start,start+length+duration,duration,eva_rate])\n",
    "        \n",
    "                start += length\n",
    "            \n",
    "            current = nxt\n",
    "            \n",
    "#         print('ressources info after evacuation of node {} with rate{} = {}'.format(i,max_rate,ressources))\n",
    "        \n",
    "#    print('tasks = ', tasks)\n",
    "#    print('Nb of tasks = ',len(tasks))\n",
    "    end_time = np.max([tasks[keys][1] for keys in tasks])\n",
    "#     print([tasks[keys][1] for keys in tasks])\n",
    "#    print('End time is : ',end_time)\n",
    "    solution = create_solution(tasks,LIST_EVA_NODES)\n",
    "    \n",
    "    return end_time,solution\n",
    "\n",
    "\n",
    "random.shuffle(LIST_EVA_NODES)\n",
    "\n",
    "end,sol = get_end_time(LIST_EVA_NODES,EVA_TREE,GRAPH)\n",
    "print(end,sol)\n",
    "end,sol = get_end_time_2(LIST_EVA_NODES,EVA_TREE,GRAPH)\n",
    "print(end,sol)\n",
    "\n"
   ]
  },
  {
   "cell_type": "code",
   "execution_count": null,
   "metadata": {},
   "outputs": [],
   "source": [
    "def get_latest_starttime(node,EVA_TREE,GRAPH):\n",
    "    rate = get_task(node,EVA_TREE,GRAPH,None)[2]\n",
    "    nb_evacuees,_,_,route_list = get_eva_node_info(node,EVA_TREE)\n",
    "    route_list.reverse()\n",
    "    route_list.append(node)\n",
    "    #print(route_list)\n",
    "    res, _, _ = get_edge_info(route_list[0],route_list[1],GRAPH)\n",
    "    for i in range(1, len(route_list)-1):\n",
    "        due_date, length, _ = get_edge_info(route_list[i],route_list[i+1],GRAPH)\n",
    "        #print('Im on arc {}-{}'.format(route_list[i],route_list[i+1]))\n",
    "        #print('R-L', res - length)\n",
    "        #print('DD', due_date)\n",
    "        if res-length > due_date:\n",
    "            res = due_date\n",
    "        else:\n",
    "            res = res - length\n",
    "        #print('R', res)\n",
    "    return res - int(nb_evacuees/rate)\n",
    "\n",
    "def get_list_priority(eva_tree,GRAPH) : \n",
    "    list_eva_nodes = [item[0] for item in eva_tree]\n",
    "    maxstart = [(get_latest_starttime(item,eva_tree,GRAPH),item) for item in list_eva_nodes]\n",
    "    print(maxstart)\n",
    "    #sorted(maxstart, key= lambda item : item[1])\n",
    "    maxstart.sort()\n",
    "    print(maxstart)\n",
    "    result = [item[1] for item in maxstart]\n",
    "    return result\n",
    "    \n",
    "def get_end_time_3(LIST_EVA_NODES,EVA_TREE,GRAPH) : \n",
    "    ressources = {}\n",
    "    for edge in GRAPH :\n",
    "        edge_cap = edge[-1]\n",
    "#         print('max cap of edge [{}-{}] : {}'.format(edge[0],edge[1],edge_cap))\n",
    "        ressources.setdefault('Cap of edge[{}-{}]'.format(edge[0],edge[1]),np.full(500,edge_cap))\n",
    "#         print(ressources)\n",
    "   \n",
    "    tasks = {}\n",
    "    for i in LIST_EVA_NODES : \n",
    "        nb_evacuees,max_rate,route_length,route_list = get_eva_node_info(i,EVA_TREE)\n",
    "        start = 0\n",
    "        duration,demande_res,eva_rate = get_task(i,EVA_TREE,GRAPH)\n",
    "        max_start = get_latest_starttime(i,EVA_TREE,GRAPH)\n",
    "        current = i\n",
    "#        print(eva_rate)\n",
    "        #print('-------------Start at {} -------------'.format(i))\n",
    "\n",
    "        for j in demande_res : \n",
    "#             print('Evacuees from {} at node {}'.format(i,j))\n",
    "            nxt = j\n",
    "            if current != nxt :\n",
    "                due_date,length,edge_cap = get_edge_info(current,nxt,GRAPH)\n",
    "                \n",
    "                error_rate = 0\n",
    "                cumul_time = 0\n",
    "                capacity_ok = False\n",
    "                \n",
    "                #check the capicity constraints\n",
    "                while (not capacity_ok) :\n",
    "                    #check the avalable ressource\n",
    "                    if current < nxt :\n",
    "                        dispo = np.copy(np.array(ressources['Cap of edge[{}-{}]'.format(current,nxt)]))\n",
    "                    else : \n",
    "                        dispo = np.copy(np.array(ressources['Cap of edge[{}-{}]'.format(nxt,current)]))\n",
    "                    dispo[start+cumul_time:start+cumul_time+duration] -= eva_rate\n",
    "#                     print('dispo[{}-{}]={}'.format(current,nxt,dispo))\n",
    "                    check_dispo = [item for item in dispo[start+cumul_time:start+cumul_time+duration] if item < 0]\n",
    "#                     index = [i for i in range(1000) if dispo[i]<0]\n",
    "#                     print(index)\n",
    "                    \n",
    "                    if (len(check_dispo) > 0) :  #if OVERLOAD, shift the task\n",
    "                        capacity_ok = False\n",
    "                        cumul_time += len(check_dispo)\n",
    "                        error_rate = -np.max(check_dispo)\n",
    "#                         print('OVERLOAD',start+cumul_time+duration)\n",
    "                    else : # move to the next task\n",
    "                        capacity_ok = True\n",
    "                \n",
    "                #here there is no more conflict fot the current task\n",
    "                #now check the due date error\n",
    "                duedate_error = False\n",
    "                for key in tasks :\n",
    "                    if (not duedate_error) :\n",
    "                        if 'Evacuees from {}'.format(i) in key  :\n",
    "                            if tasks[key][0] + tasks[key][2] + cumul_time > tasks[key][3] : \n",
    "                                duedate_error = True\n",
    "                \n",
    "                if duedate_error : #Change to second solution\n",
    "                    #Second solution : \n",
    "                    eva_rate -= error_rate\n",
    "                    if (eva_rate == 0) :\n",
    "                        end = 9999\n",
    "                    else :\n",
    "                        duration = math.ceil(nb_evacuees / eva_rate)\n",
    "                        # check again the capacity constraints\n",
    "                        capacity_ok = False\n",
    "                        while (not capacity_ok) :\n",
    "                            #check the avalable ressource\n",
    "                            if current < nxt :\n",
    "                                dispo = np.copy(np.array(ressources['Cap of edge[{}-{}]'.format(current,nxt)]))\n",
    "                            else : \n",
    "                                dispo = np.copy(np.array(ressources['Cap of edge[{}-{}]'.format(nxt,current)]))\n",
    "                            dispo[start+cumul_time:start+cumul_time+duration] -= eva_rate\n",
    "        #                     print('dispo[{}-{}]={}'.format(current,nxt,dispo))\n",
    "                            check_dispo = [item for item in dispo[start+cumul_time:start+cumul_time+duration] if item < 0]\n",
    "        #                     index = [i for i in range(1000) if dispo[i]<0]\n",
    "        #                     print(index)\n",
    "                    \n",
    "                            if (len(check_dispo) > 0) :  #if OVERLOAD, shift the task\n",
    "                                capacity_ok = False\n",
    "                                cumul_time += len(check_dispo)\n",
    "                                error_rate = -np.max(check_dispo)\n",
    "        #                         print('OVERLOAD',start+cumul_time+duration)\n",
    "                            else : # move to the next task\n",
    "                                capacity_ok = True\n",
    "                        # Change the time start of the current nodes \n",
    "                        start += cumul_time\n",
    "                        for keys in tasks :\n",
    "                            if 'Evacuees from {}'.format(i) in keys :\n",
    "                                tasks[keys][0] += cumul_time\n",
    "                                tasks[keys][1] += len(check_dispo)\n",
    "                        #update ressource\n",
    "                        ressources['Cap of edge[{}-{}]'.format(current,nxt)] = dispo\n",
    "                \n",
    "                tasks.setdefault('Evacuees from {} at edge [{}-{}]'.format(i,current,nxt), [start,start+length+duration,duration,eva_rate])\n",
    "        \n",
    "                start += length\n",
    "            current = nxt\n",
    "            \n",
    "#         print('ressources info after evacuation of node {} with rate{} = {}'.format(i,max_rate,ressources))\n",
    "        \n",
    "    #print('tasks = ', tasks)\n",
    "    #print('Nb of tasks = ',len(tasks))\n",
    "    \n",
    "    \n",
    "    for key in tasks :\n",
    "        if (tasks[key][0] + tasks[key][2] > tasks[key][-1]) : \n",
    "            #print('Due Date violated !')\n",
    "            tasks[keys][1] = 99999\n",
    "#     print([tasks[keys][1] for keys in tasks])\n",
    "#    print('End time is : ',end_time)\n",
    "    end_time = np.max([tasks[keys][1] for keys in tasks])\n",
    "    solution = create_solution(tasks,LIST_EVA_NODES)\n",
    "    \n",
    "        \n",
    "#     for i  in LIST_EVA_NODES :\n",
    "#         for key in tasks : \n",
    "#             if  ('Evacuees from {} at edge [{}-'.format(i,i) in key or ('Evacuees from {} at edge'.format(i) in key and '-{}]'.format(i) in key)) :\n",
    "#                 print(i,key, tasks[key])\n",
    "        \n",
    "    return end_time,solution\n",
    "\n",
    "random.shuffle(LIST_EVA_NODES)\n",
    "\n",
    "end,sol = get_end_time(LIST_EVA_NODES,EVA_TREE,GRAPH)\n",
    "print(end,sol)\n",
    "end,sol = get_end_time_3(LIST_EVA_NODES,EVA_TREE,GRAPH)\n",
    "print(end,sol)"
   ]
  },
  {
   "cell_type": "code",
   "execution_count": 3,
   "metadata": {},
   "outputs": [
    {
     "name": "stdout",
     "output_type": "stream",
     "text": [
      "---------------------------Start n.1---------------------------\n",
      "Iteration 0:\n",
      "[237, 447, 29, 138, 472, 17, 201, 505, 281, 382]  =>  421\n",
      "Iteration 1:\n",
      "[237, 447, 29, 138, 472, 17, 201, 505, 281, 382]  =>  421\n",
      "Iteration 2:\n",
      "[237, 447, 29, 138, 472, 17, 201, 505, 281, 382]  =>  421\n",
      "Iteration 3:\n",
      "[237, 447, 29, 138, 472, 17, 201, 505, 281, 382]  =>  421\n",
      "Iteration 4:\n",
      "[237, 447, 29, 138, 472, 17, 201, 505, 281, 382]  =>  421\n",
      "----------------------------------------------------------------\n",
      "solution =  [[237, 72, 0], [447, 70, 14], [29, 71, 35], [138, 70, 103], [472, 70, 121], [17, 70, 167], [201, 70, 222], [505, 70, 260], [281, 70, 298], [382, 70, 351]]\n",
      "end time =  421\n",
      "CREATION TASKS & VERIFY CONSTRAINTS\n",
      "ERROR ON DUE DATE [138-449]\n",
      "False\n",
      "okk\n",
      "262 [[237, 72, 0], [447, 66, 0], [29, 66, 21], [138, 70, 28], [472, 68, 46], [17, 70, 86], [201, 68, 120], [505, 62, 158], [281, 70, 154], [382, 68, 191]]\n",
      "CREATION TASKS & VERIFY CONSTRAINTS\n",
      "TOO MANY PERSONS AT EDGE [92-179] !!!\n",
      "ERROR ON EDGE CAPACITY\n",
      "False\n"
     ]
    }
   ],
   "source": [
    "\n",
    "\n",
    "#Run a local search to find a solution\n",
    "endtime,best_solution,algo,exc = LocalSearchRandomStart2(EVA_TREE,GRAPH,n_iter=10,n_start_points=1)\n",
    "create_solution_file3('dense_10_30_3_3_I',best_solution,endtime,algo,exc)\n",
    "\n",
    "print('solution = ',best_solution)\n",
    "print('end time = ',endtime)\n",
    "\n",
    "# verify this solution by our checker\n",
    "solution_path = os.path.dirname(os.path.abspath('__file__')) + \"/Solutions/dense_10_30_3_1_I.solution\"\n",
    "verify_solution(data_path,solution_path)\n",
    "\n",
    "print(check_a_solution(data_path,best_solution))\n",
    "s = create_ordered_list_of(best_solution)\n",
    "end,sol = get_end_time_2(s,EVA_TREE,GRAPH)\n",
    "print(end,sol)\n",
    "print(check_a_solution(data_path,sol))"
   ]
  },
  {
   "cell_type": "code",
   "execution_count": 3,
   "metadata": {
    "scrolled": false
   },
   "outputs": [],
   "source": [
    "# s = get_list_priority(EVA_TREE,GRAPH)\n",
    "# print(s)\n",
    "# #get_end_time_3(s,EVA_TREE,GRAPH)\n",
    "# #[get_end_time_3(item,EVA_TREE,GRAPH)[0] for item in get_neighbors_of(s)]\n",
    "# for item in get_neighbors_of(s) : \n",
    "#     e2,s2 = get_end_time_3(item,EVA_TREE,GRAPH)\n",
    "#     print('------',e2)\n",
    "#     x = []\n",
    "#     for item2 in get_neighbors_of(create_ordered_list_of(s2)) :\n",
    "#         e3,s3 = get_end_time_3(item2,EVA_TREE,GRAPH)\n",
    "#         print('-----------------',e3)"
   ]
  },
  {
   "cell_type": "code",
   "execution_count": null,
   "metadata": {},
   "outputs": [],
   "source": []
  },
  {
   "cell_type": "code",
   "execution_count": null,
   "metadata": {},
   "outputs": [],
   "source": []
  },
  {
   "cell_type": "code",
   "execution_count": 11,
   "metadata": {
    "scrolled": false
   },
   "outputs": [
    {
     "name": "stdout",
     "output_type": "stream",
     "text": [
      "---------------------------Start n.1---------------------------\n",
      "Iteration 0:\n",
      "[514, 277, 21, 284, 197, 501, 18, 356, 516, 431]  =>  99999\n",
      "Iteration 1:\n",
      "[514, 277, 21, 284, 197, 501, 18, 356, 516, 431]  =>  99999\n",
      "Iteration 2:\n",
      "[514, 277, 21, 284, 197, 501, 18, 356, 516, 431]  =>  99999\n",
      "Iteration 3:\n",
      "[514, 277, 21, 284, 197, 501, 18, 356, 516, 431]  =>  99999\n",
      "Iteration 4:\n",
      "[514, 277, 21, 284, 197, 501, 18, 356, 516, 431]  =>  99999\n",
      "----------------------------------------------------------------\n",
      "solution =  [[514, 192, 0], [277, 189, 0], [21, 126, 8], [501, 192, 41], [284, 165, 10], [18, 192, 86], [197, 183, 34], [356, 144, 123], [516, 192, 146], [431, 150, 209]]\n",
      "end time =  99999\n",
      "CREATION TASKS & VERIFY CONSTRAINTS\n",
      "197 102\n",
      "356 70\n",
      "501 151\n",
      "ERROR ON DUE DATE [0-501]\n"
     ]
    },
    {
     "data": {
      "text/plain": [
       "False"
      ]
     },
     "execution_count": 11,
     "metadata": {},
     "output_type": "execute_result"
    }
   ],
   "source": [
    "# data_path = os.path.dirname(os.path.abspath('__file__')) + \"/InstancesInt/dense_10_30_3_2_I.full\"\n",
    "# EVA_TREE,GRAPH,NB_NODES = read_data(data_path)\n",
    "# NB_EVA_NODES = len(EVA_TREE)\n",
    "# NB_EDGES = len(GRAPH)\n",
    "# LIST_EVA_NODES = [item[0] for item in EVA_TREE]\n",
    "\n",
    "# #Run a local search to find a solution\n",
    "\n",
    "# endtime,best_solution,algo,exc = LocalSearchRandomStart3(EVA_TREE,GRAPH,n_iter=10,n_start_points=1)\n",
    "# create_solution_file3('dense_10_30_3_1_I',best_solution,endtime,algo,exc)\n",
    "\n",
    "# print('solution = ',best_solution)\n",
    "# print('end time = ',endtime)\n",
    "\n",
    "# # verify this solution by our checker\n",
    "# solution_path = os.path.dirname(os.path.abspath('__file__')) + \"/Solutions/dense_10_30_3_2_I.solution\"\n",
    "# verify_solution(data_path,solution_path)"
   ]
  },
  {
   "cell_type": "code",
   "execution_count": null,
   "metadata": {
    "collapsed": true
   },
   "outputs": [],
   "source": []
  }
 ],
 "metadata": {
  "kernelspec": {
   "display_name": "Python 3",
   "language": "python",
   "name": "python3"
  },
  "language_info": {
   "codemirror_mode": {
    "name": "ipython",
    "version": 3
   },
   "file_extension": ".py",
   "mimetype": "text/x-python",
   "name": "python",
   "nbconvert_exporter": "python",
   "pygments_lexer": "ipython3",
   "version": "3.6.5"
  }
 },
 "nbformat": 4,
 "nbformat_minor": 2
}
