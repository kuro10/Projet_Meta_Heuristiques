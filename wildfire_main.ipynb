{
 "cells": [
  {
   "cell_type": "code",
   "execution_count": 1,
   "metadata": {},
   "outputs": [],
   "source": [
    "import glob\n",
    "import os\n",
    "import numpy as np\n",
    "import math\n",
    "from DataProcess import *\n",
    "from SolutionChecker import *\n",
    "from LocalSearch import *\n",
    "import cProfile"
   ]
  },
  {
   "cell_type": "code",
   "execution_count": 2,
   "metadata": {},
   "outputs": [],
   "source": [
    "data_path = os.path.dirname(os.path.abspath('__file__')) + \"/data/wildfire.data\""
   ]
  },
  {
   "cell_type": "code",
   "execution_count": 3,
   "metadata": {},
   "outputs": [],
   "source": [
    "solution_path = os.path.dirname(os.path.abspath('__file__')) + \"/data/wildfire.solution\""
   ]
  },
  {
   "cell_type": "code",
   "execution_count": 4,
   "metadata": {},
   "outputs": [
    {
     "name": "stdout",
     "output_type": "stream",
     "text": [
      "Add evacuation info\n",
      "Add graph info\n",
      "-----------------------------\n",
      "evacuation_tree =  [[1, 48, 8, 3, 4, 5, 6], [2, 30, 5, 3, 4, 5, 6], [3, 33, 3, 2, 5, 6]]\n",
      "graph =  [[1, 4, 9223372036854775807, 7, 8], [2, 4, 9223372036854775807, 4, 5], [3, 5, 9223372036854775807, 6, 3], [4, 5, 9223372036854775807, 9, 10], [5, 6, 9223372036854775807, 12, 11]]\n",
      "number of evacuation nodes :  3\n",
      "List of evac nodes :  [1, 2, 3]\n",
      "number of nodes =  6\n",
      "number of edges =  5\n",
      "-----------------------------\n"
     ]
    },
    {
     "data": {
      "text/plain": [
       "0"
      ]
     },
     "execution_count": 4,
     "metadata": {},
     "output_type": "execute_result"
    }
   ],
   "source": [
    "print_data(data_path)"
   ]
  },
  {
   "cell_type": "code",
   "execution_count": 5,
   "metadata": {},
   "outputs": [],
   "source": [
    "#print_solution(solution_path)"
   ]
  },
  {
   "cell_type": "code",
   "execution_count": 6,
   "metadata": {},
   "outputs": [],
   "source": [
    "#verify_solution(data_path,solution_path)"
   ]
  },
  {
   "cell_type": "code",
   "execution_count": 7,
   "metadata": {},
   "outputs": [
    {
     "name": "stdout",
     "output_type": "stream",
     "text": [
      "Add evacuation info\n",
      "Add graph info\n"
     ]
    }
   ],
   "source": [
    "EVA_TREE,GRAPH,NB_NODES = read_data(data_path)\n",
    "NB_EVA_NODES = len(EVA_TREE)\n",
    "NB_EDGES = len(GRAPH)\n",
    "LIST_EVA_NODES = [item[0] for item in EVA_TREE]"
   ]
  },
  {
   "cell_type": "code",
   "execution_count": 8,
   "metadata": {},
   "outputs": [],
   "source": [
    "# for i in range(NB_EVA_NODES) : \n",
    "#     node_id = EVA_TREE[i][0]\n",
    "#     print('Evacuation of (only) node ',node_id,' is ', get_duration(node_id,EVA_TREE,GRAPH),' mins')"
   ]
  },
  {
   "cell_type": "code",
   "execution_count": 9,
   "metadata": {},
   "outputs": [
    {
     "name": "stdout",
     "output_type": "stream",
     "text": [
      "Borne inferieur = 34 mins\n"
     ]
    }
   ],
   "source": [
    "print('Borne inferieur = {} mins'.format(get_borne_inf(LIST_EVA_NODES,EVA_TREE,GRAPH)))"
   ]
  },
  {
   "cell_type": "code",
   "execution_count": 10,
   "metadata": {},
   "outputs": [
    {
     "name": "stdout",
     "output_type": "stream",
     "text": [
      "Borne superieur = 40 mins\n"
     ]
    },
    {
     "data": {
      "text/plain": [
       "[[1, 8, 0], [3, 3, 0], [2, 5, 9]]"
      ]
     },
     "execution_count": 10,
     "metadata": {},
     "output_type": "execute_result"
    }
   ],
   "source": [
    "endtime,init_sol= get_borne_sup(LIST_EVA_NODES,EVA_TREE,GRAPH)\n",
    "print('Borne superieur = {} mins'.format(endtime))\n",
    "init_sol"
   ]
  },
  {
   "cell_type": "code",
   "execution_count": 11,
   "metadata": {},
   "outputs": [
    {
     "name": "stdout",
     "output_type": "stream",
     "text": [
      "Add evacuation info\n",
      "Add graph info\n"
     ]
    }
   ],
   "source": [
    "data_path_2 = os.path.dirname(os.path.abspath('__file__')) + \"/data/dense.data\"\n",
    "EVA_TREE,GRAPH,NB_NODES = read_data(data_path_2)\n",
    "NB_EVA_NODES = len(EVA_TREE)\n",
    "NB_EDGES = len(GRAPH)\n",
    "LIST_EVA_NODES = [item[0] for item in EVA_TREE]"
   ]
  },
  {
   "cell_type": "code",
   "execution_count": 12,
   "metadata": {},
   "outputs": [],
   "source": [
    "#print_data(data_path_2)"
   ]
  },
  {
   "cell_type": "code",
   "execution_count": 13,
   "metadata": {},
   "outputs": [
    {
     "name": "stdout",
     "output_type": "stream",
     "text": [
      "Borne inferieur = 91 mins\n"
     ]
    }
   ],
   "source": [
    "print('Borne inferieur = {} mins'.format(get_borne_inf(LIST_EVA_NODES,EVA_TREE,GRAPH)))"
   ]
  },
  {
   "cell_type": "code",
   "execution_count": 30,
   "metadata": {},
   "outputs": [
    {
     "name": "stdout",
     "output_type": "stream",
     "text": [
      "Borne superieur = 196 mins\n"
     ]
    },
    {
     "data": {
      "text/plain": [
       "[[268, 132, 0],\n",
       " [359, 70, 0],\n",
       " [279, 71, 3],\n",
       " [275, 70, 21],\n",
       " [323, 71, 45],\n",
       " [285, 71, 63],\n",
       " [384, 71, 82],\n",
       " [163, 70, 60],\n",
       " [227, 71, 126],\n",
       " [344, 71, 150]]"
      ]
     },
     "execution_count": 30,
     "metadata": {},
     "output_type": "execute_result"
    }
   ],
   "source": [
    "endtime,init_sol= get_borne_sup(LIST_EVA_NODES,EVA_TREE,GRAPH)\n",
    "print('Borne superieur = {} mins'.format(endtime))\n",
    "init_sol"
   ]
  },
  {
   "cell_type": "code",
   "execution_count": 31,
   "metadata": {},
   "outputs": [
    {
     "name": "stdout",
     "output_type": "stream",
     "text": [
      "Iteration 0:\n",
      "[268, 359, 279, 275, 323, 163, 285, 384, 227, 344]  =>  196\n",
      "Iteration 1:\n",
      "[285 359 279 275 323 163 268 384 227 344]  =>  180\n",
      "Iteration 2:\n",
      "[285 359 279 275 323 163 268 384 227 344]  =>  180\n",
      "Iteration 3:\n",
      "[285 359 279 275 323 163 268 384 227 344]  =>  180\n",
      "Iteration 4:\n",
      "[285 359 279 275 323 163 268 384 227 344]  =>  180\n",
      "Iteration 5:\n",
      "[285 359 279 275 323 163 268 384 227 344]  =>  180\n",
      "         5610110 function calls (5610060 primitive calls) in 8.312 seconds\n",
      "\n",
      "   Ordered by: standard name\n",
      "\n",
      "   ncalls  tottime  percall  cumtime  percall filename:lineno(function)\n",
      "        1    0.000    0.000    8.312    8.312 <ipython-input-31-384d44187790>:3(<module>)\n",
      "        1    0.000    0.000    0.000    0.000 <ipython-input-31-384d44187790>:4(<module>)\n",
      "     2710    0.015    0.000    1.195    0.000 DataProcess.py:102(get_task)\n",
      "     2710    0.023    0.000    1.128    0.000 DataProcess.py:106(<listcomp>)\n",
      "      271    0.002    0.000    0.515    0.002 DataProcess.py:121(create_solution)\n",
      "     2710    0.123    0.000    0.512    0.000 DataProcess.py:124(<listcomp>)\n",
      "      271    1.084    0.004    8.298    0.031 DataProcess.py:143(get_end_time)\n",
      "    86848    2.750    0.000    2.750    0.000 DataProcess.py:172(<listcomp>)\n",
      "      271    0.005    0.000    0.005    0.000 DataProcess.py:196(<listcomp>)\n",
      "     2710    0.003    0.000    0.010    0.000 DataProcess.py:81(get_eva_node_info)\n",
      "     2710    0.006    0.000    0.006    0.000 DataProcess.py:82(<listcomp>)\n",
      "   143088    0.081    0.000    2.244    0.000 DataProcess.py:91(get_edge_info)\n",
      "    88346    1.168    0.000    1.168    0.000 DataProcess.py:93(<listcomp>)\n",
      "    54742    0.994    0.000    0.994    0.000 DataProcess.py:95(<listcomp>)\n",
      "        6    0.000    0.000    0.001    0.000 LocalSearch.py:57(get_neighbors_of)\n",
      "        1    0.000    0.000    0.000    0.000 LocalSearch.py:7(create_ordered_list_of)\n",
      "       10    0.000    0.000    0.000    0.000 LocalSearch.py:8(<lambda>)\n",
      "        1    0.010    0.010    8.312    8.312 LocalSearch.py:80(LocalSearchRun)\n",
      "        1    0.000    0.000    0.000    0.000 LocalSearch.py:9(<listcomp>)\n",
      "        5    0.000    0.000    0.000    0.000 arrayprint.py:1110(__init__)\n",
      "       50    0.000    0.000    0.000    0.000 arrayprint.py:1118(__call__)\n",
      "        5    0.000    0.000    0.001    0.000 arrayprint.py:1457(array_str)\n",
      "        5    0.000    0.000    0.000    0.000 arrayprint.py:348(_get_formatdict)\n",
      "        5    0.000    0.000    0.000    0.000 arrayprint.py:356(<lambda>)\n",
      "        5    0.000    0.000    0.000    0.000 arrayprint.py:401(_get_format_function)\n",
      "        5    0.000    0.000    0.001    0.000 arrayprint.py:453(wrapper)\n",
      "        5    0.000    0.000    0.001    0.000 arrayprint.py:470(_array2string)\n",
      "        5    0.000    0.000    0.001    0.000 arrayprint.py:499(array2string)\n",
      "        5    0.000    0.000    0.000    0.000 arrayprint.py:67(_make_options_dict)\n",
      "       50    0.000    0.000    0.000    0.000 arrayprint.py:671(_extendLine)\n",
      "        5    0.000    0.000    0.000    0.000 arrayprint.py:685(_formatArray)\n",
      "     55/5    0.000    0.000    0.000    0.000 arrayprint.py:694(recurser)\n",
      "        5    0.000    0.000    0.000    0.000 arrayprint.py:72(<dictcomp>)\n",
      "        2    0.000    0.000    0.000    0.000 codeop.py:132(__call__)\n",
      "      276    0.000    0.000    0.008    0.000 fromnumeric.py:2227(amax)\n",
      "     2715    0.004    0.000    0.041    0.000 fromnumeric.py:2337(amin)\n",
      "     2991    0.010    0.000    0.044    0.000 fromnumeric.py:64(_wrapreduction)\n",
      "    87118    0.023    0.000    0.155    0.000 function_base.py:689(copy)\n",
      "        2    0.000    0.000    0.000    0.000 hooks.py:142(__call__)\n",
      "        2    0.000    0.000    0.000    0.000 hooks.py:207(pre_run_code_hook)\n",
      "        2    0.000    0.000    0.000    0.000 interactiveshell.py:1104(user_global_ns)\n",
      "        2    0.000    0.000    8.312    4.156 interactiveshell.py:2933(run_code)\n",
      "       54    0.000    0.000    0.001    0.000 iostream.py:195(schedule)\n",
      "       48    0.000    0.000    0.000    0.000 iostream.py:300(_is_master_process)\n",
      "       48    0.000    0.000    0.000    0.000 iostream.py:313(_schedule_flush)\n",
      "       48    0.000    0.000    0.001    0.000 iostream.py:366(write)\n",
      "       54    0.000    0.000    0.000    0.000 iostream.py:93(_event_pipe)\n",
      "        2    0.000    0.000    0.000    0.000 ipstruct.py:125(__getattr__)\n",
      "    34146    0.020    0.000    0.091    0.000 numeric.py:268(full)\n",
      "        5    0.000    0.000    0.000    0.000 numeric.py:433(asarray)\n",
      "       54    0.000    0.000    0.000    0.000 socket.py:333(send)\n",
      "       54    0.000    0.000    0.000    0.000 threading.py:1062(_wait_for_tstate_lock)\n",
      "       54    0.000    0.000    0.000    0.000 threading.py:1104(is_alive)\n",
      "       54    0.000    0.000    0.000    0.000 threading.py:506(is_set)\n",
      "        5    0.000    0.000    0.000    0.000 {built-in method _thread.get_ident}\n",
      "        2    0.000    0.000    0.000    0.000 {built-in method builtins.compile}\n",
      "        2    0.000    0.000    8.312    4.156 {built-in method builtins.exec}\n",
      "     2981    0.002    0.000    0.002    0.000 {built-in method builtins.getattr}\n",
      "        5    0.000    0.000    0.000    0.000 {built-in method builtins.id}\n",
      "       48    0.000    0.000    0.000    0.000 {built-in method builtins.isinstance}\n",
      "       15    0.000    0.000    0.000    0.000 {built-in method builtins.issubclass}\n",
      "   328173    0.020    0.000    0.020    0.000 {built-in method builtins.len}\n",
      "        5    0.000    0.000    0.000    0.000 {built-in method builtins.locals}\n",
      "       10    0.000    0.000    0.000    0.000 {built-in method builtins.max}\n",
      "       12    0.000    0.000    0.002    0.000 {built-in method builtins.print}\n",
      "        1    0.000    0.000    0.000    0.000 {built-in method builtins.sorted}\n",
      "     2710    0.002    0.000    0.002    0.000 {built-in method math.ceil}\n",
      "   208117    0.233    0.000    0.233    0.000 {built-in method numpy.core.multiarray.array}\n",
      "    34146    0.028    0.000    0.028    0.000 {built-in method numpy.core.multiarray.copyto}\n",
      "    34146    0.032    0.000    0.032    0.000 {built-in method numpy.core.multiarray.empty}\n",
      "       48    0.000    0.000    0.000    0.000 {built-in method posix.getpid}\n",
      "       54    0.000    0.000    0.000    0.000 {method 'acquire' of '_thread.lock' objects}\n",
      "        5    0.000    0.000    0.000    0.000 {method 'add' of 'set' objects}\n",
      "       54    0.000    0.000    0.000    0.000 {method 'append' of 'collections.deque' objects}\n",
      "     2980    0.000    0.000    0.000    0.000 {method 'append' of 'list' objects}\n",
      "        5    0.000    0.000    0.000    0.000 {method 'copy' of 'dict' objects}\n",
      "        1    0.000    0.000    0.000    0.000 {method 'disable' of '_lsprof.Profiler' objects}\n",
      "        5    0.000    0.000    0.000    0.000 {method 'discard' of 'set' objects}\n",
      "  4369539    1.612    0.000    1.612    0.000 {method 'format' of 'str' objects}\n",
      "     2996    0.001    0.000    0.001    0.000 {method 'items' of 'dict' objects}\n",
      "        5    0.000    0.000    0.000    0.000 {method 'pop' of 'dict' objects}\n",
      "     2991    0.031    0.000    0.031    0.000 {method 'reduce' of 'numpy.ufunc' objects}\n",
      "        5    0.000    0.000    0.000    0.000 {method 'rstrip' of 'str' objects}\n",
      "   105690    0.026    0.000    0.026    0.000 {method 'setdefault' of 'dict' objects}\n",
      "        5    0.000    0.000    0.000    0.000 {method 'update' of 'dict' objects}\n",
      "\n",
      "\n"
     ]
    }
   ],
   "source": [
    "cp = cProfile.Profile()\n",
    "cp.enable()\n",
    "endtime,best_solution= LocalSearchRun(init_sol,EVA_TREE,GRAPH,n_iter=10)\n",
    "cp.disable()\n",
    "cp.print_stats()"
   ]
  },
  {
   "cell_type": "code",
   "execution_count": 32,
   "metadata": {},
   "outputs": [
    {
     "name": "stdout",
     "output_type": "stream",
     "text": [
      "Iteration 0:\n",
      "[268, 359, 279, 275, 323, 163, 285, 384, 227, 344]  =>  196\n",
      "Iteration 1:\n",
      "[268 227 279 275 323 163 285 384 359 344]  =>  181\n",
      "Iteration 2:\n",
      "[268 227 279 275 323 163 285 384 359 344]  =>  181\n",
      "Iteration 3:\n",
      "[268 227 279 275 323 163 285 384 359 344]  =>  181\n",
      "Iteration 4:\n",
      "[268 227 279 275 323 163 285 384 359 344]  =>  181\n",
      "Iteration 5:\n",
      "[268 227 279 275 323 163 285 384 359 344]  =>  181\n",
      "         2741141 function calls (2741091 primitive calls) in 4.353 seconds\n",
      "\n",
      "   Ordered by: standard name\n",
      "\n",
      "   ncalls  tottime  percall  cumtime  percall filename:lineno(function)\n",
      "        1    0.000    0.000    4.353    4.353 <ipython-input-32-368d4457975d>:3(<module>)\n",
      "        1    0.000    0.000    0.000    0.000 <ipython-input-32-368d4457975d>:4(<module>)\n",
      "     2470    0.009    0.000    1.027    0.000 DataProcess.py:102(get_task)\n",
      "     2470    0.020    0.000    0.977    0.000 DataProcess.py:106(<listcomp>)\n",
      "      127    0.001    0.000    0.236    0.002 DataProcess.py:121(create_solution)\n",
      "     1270    0.056    0.000    0.235    0.000 DataProcess.py:124(<listcomp>)\n",
      "      127    0.504    0.004    3.842    0.030 DataProcess.py:143(get_end_time)\n",
      "    41086    1.275    0.000    1.275    0.000 DataProcess.py:172(<listcomp>)\n",
      "      127    0.002    0.000    0.002    0.000 DataProcess.py:196(<listcomp>)\n",
      "     2470    0.003    0.000    0.007    0.000 DataProcess.py:81(get_eva_node_info)\n",
      "     2470    0.005    0.000    0.005    0.000 DataProcess.py:82(<listcomp>)\n",
      "    99708    0.051    0.000    1.493    0.000 DataProcess.py:91(get_edge_info)\n",
      "    61706    0.785    0.000    0.785    0.000 DataProcess.py:93(<listcomp>)\n",
      "    38002    0.657    0.000    0.657    0.000 DataProcess.py:95(<listcomp>)\n",
      "        1    0.004    0.004    4.353    4.353 LocalSearch.py:111(LocalSearchRun2)\n",
      "      540    0.009    0.000    0.009    0.000 LocalSearch.py:12(get_conflict_arc)\n",
      "       60    0.005    0.000    0.504    0.008 LocalSearch.py:19(get_non_conflict_list)\n",
      "        6    0.000    0.000    0.505    0.084 LocalSearch.py:67(get_neighbors_of2)\n",
      "        1    0.000    0.000    0.000    0.000 LocalSearch.py:7(create_ordered_list_of)\n",
      "       10    0.000    0.000    0.000    0.000 LocalSearch.py:8(<lambda>)\n",
      "        1    0.000    0.000    0.000    0.000 LocalSearch.py:9(<listcomp>)\n",
      "        5    0.000    0.000    0.000    0.000 arrayprint.py:1110(__init__)\n",
      "       50    0.000    0.000    0.000    0.000 arrayprint.py:1118(__call__)\n",
      "        5    0.000    0.000    0.001    0.000 arrayprint.py:1457(array_str)\n",
      "        5    0.000    0.000    0.000    0.000 arrayprint.py:348(_get_formatdict)\n",
      "        5    0.000    0.000    0.000    0.000 arrayprint.py:356(<lambda>)\n",
      "        5    0.000    0.000    0.001    0.000 arrayprint.py:401(_get_format_function)\n",
      "        5    0.000    0.000    0.001    0.000 arrayprint.py:453(wrapper)\n",
      "        5    0.000    0.000    0.001    0.000 arrayprint.py:470(_array2string)\n",
      "        5    0.000    0.000    0.001    0.000 arrayprint.py:499(array2string)\n",
      "        5    0.000    0.000    0.000    0.000 arrayprint.py:67(_make_options_dict)\n",
      "       50    0.000    0.000    0.000    0.000 arrayprint.py:671(_extendLine)\n",
      "        5    0.000    0.000    0.000    0.000 arrayprint.py:685(_formatArray)\n",
      "     55/5    0.000    0.000    0.000    0.000 arrayprint.py:694(recurser)\n",
      "        5    0.000    0.000    0.000    0.000 arrayprint.py:72(<dictcomp>)\n",
      "        2    0.000    0.000    0.000    0.000 codeop.py:132(__call__)\n",
      "      132    0.000    0.000    0.003    0.000 fromnumeric.py:2227(amax)\n",
      "     2475    0.003    0.000    0.032    0.000 fromnumeric.py:2337(amin)\n",
      "     2607    0.007    0.000    0.032    0.000 fromnumeric.py:64(_wrapreduction)\n",
      "    41212    0.011    0.000    0.080    0.000 function_base.py:689(copy)\n",
      "        2    0.000    0.000    0.000    0.000 hooks.py:142(__call__)\n",
      "        2    0.000    0.000    0.000    0.000 hooks.py:207(pre_run_code_hook)\n",
      "        2    0.000    0.000    0.000    0.000 interactiveshell.py:1104(user_global_ns)\n",
      "        2    0.000    0.000    4.353    2.176 interactiveshell.py:2933(run_code)\n",
      "       54    0.000    0.000    0.001    0.000 iostream.py:195(schedule)\n",
      "       48    0.000    0.000    0.000    0.000 iostream.py:300(_is_master_process)\n",
      "       48    0.000    0.000    0.000    0.000 iostream.py:313(_schedule_flush)\n",
      "       48    0.000    0.000    0.001    0.000 iostream.py:366(write)\n",
      "       54    0.000    0.000    0.000    0.000 iostream.py:93(_event_pipe)\n",
      "        2    0.000    0.000    0.000    0.000 ipstruct.py:125(__getattr__)\n",
      "    16002    0.009    0.000    0.040    0.000 numeric.py:268(full)\n",
      "        5    0.000    0.000    0.000    0.000 numeric.py:433(asarray)\n",
      "       54    0.000    0.000    0.000    0.000 socket.py:333(send)\n",
      "       54    0.000    0.000    0.000    0.000 threading.py:1062(_wait_for_tstate_lock)\n",
      "       54    0.000    0.000    0.000    0.000 threading.py:1104(is_alive)\n",
      "       54    0.000    0.000    0.000    0.000 threading.py:506(is_set)\n",
      "        5    0.000    0.000    0.000    0.000 {built-in method _thread.get_ident}\n",
      "        2    0.000    0.000    0.000    0.000 {built-in method builtins.compile}\n",
      "        2    0.000    0.000    4.353    2.176 {built-in method builtins.exec}\n",
      "     2597    0.002    0.000    0.002    0.000 {built-in method builtins.getattr}\n",
      "        5    0.000    0.000    0.000    0.000 {built-in method builtins.id}\n",
      "       48    0.000    0.000    0.000    0.000 {built-in method builtins.isinstance}\n",
      "       15    0.000    0.000    0.000    0.000 {built-in method builtins.issubclass}\n",
      "   167682    0.010    0.000    0.010    0.000 {built-in method builtins.len}\n",
      "        5    0.000    0.000    0.000    0.000 {built-in method builtins.locals}\n",
      "       10    0.000    0.000    0.000    0.000 {built-in method builtins.max}\n",
      "       12    0.000    0.000    0.002    0.000 {built-in method builtins.print}\n",
      "        1    0.000    0.000    0.000    0.000 {built-in method builtins.sorted}\n",
      "     2470    0.001    0.000    0.001    0.000 {built-in method math.ceil}\n",
      "    98305    0.117    0.000    0.117    0.000 {built-in method numpy.core.multiarray.array}\n",
      "    16002    0.013    0.000    0.013    0.000 {built-in method numpy.core.multiarray.copyto}\n",
      "    16002    0.015    0.000    0.015    0.000 {built-in method numpy.core.multiarray.empty}\n",
      "       48    0.000    0.000    0.000    0.000 {built-in method posix.getpid}\n",
      "       54    0.000    0.000    0.000    0.000 {method 'acquire' of '_thread.lock' objects}\n",
      "        5    0.000    0.000    0.000    0.000 {method 'add' of 'set' objects}\n",
      "       54    0.000    0.000    0.000    0.000 {method 'append' of 'collections.deque' objects}\n",
      "     6064    0.001    0.000    0.001    0.000 {method 'append' of 'list' objects}\n",
      "        5    0.000    0.000    0.000    0.000 {method 'copy' of 'dict' objects}\n",
      "        1    0.000    0.000    0.000    0.000 {method 'disable' of '_lsprof.Profiler' objects}\n",
      "        5    0.000    0.000    0.000    0.000 {method 'discard' of 'set' objects}\n",
      "  2061201    0.742    0.000    0.742    0.000 {method 'format' of 'str' objects}\n",
      "     2612    0.000    0.000    0.000    0.000 {method 'items' of 'dict' objects}\n",
      "        5    0.000    0.000    0.000    0.000 {method 'pop' of 'dict' objects}\n",
      "     2607    0.023    0.000    0.023    0.000 {method 'reduce' of 'numpy.ufunc' objects}\n",
      "        5    0.000    0.000    0.000    0.000 {method 'rstrip' of 'str' objects}\n",
      "    49530    0.012    0.000    0.012    0.000 {method 'setdefault' of 'dict' objects}\n",
      "        5    0.000    0.000    0.000    0.000 {method 'update' of 'dict' objects}\n",
      "\n",
      "\n"
     ]
    }
   ],
   "source": [
    "cp = cProfile.Profile()\n",
    "cp.enable()\n",
    "endtime,best_solution= LocalSearchRun2(init_sol,EVA_TREE,GRAPH,n_iter=10)\n",
    "cp.disable()\n",
    "cp.print_stats()"
   ]
  },
  {
   "cell_type": "code",
   "execution_count": 17,
   "metadata": {},
   "outputs": [],
   "source": [
    "# cp = cProfile.Profile()\n",
    "# cp.enable()\n",
    "# best_solution,endtime = LocalSearchRun2(init_sol,EVA_TREE,GRAPH,n_iter=10)\n",
    "# cp.disable()\n",
    "# cp.print_stats()"
   ]
  },
  {
   "cell_type": "code",
   "execution_count": 33,
   "metadata": {},
   "outputs": [
    {
     "name": "stdout",
     "output_type": "stream",
     "text": [
      "solution =  [[268, 132, 0], [227, 71, 0], [279, 71, 6], [275, 70, 21], [323, 71, 45], [163, 70, 60], [285, 71, 66], [384, 71, 85], [359, 70, 114], [344, 71, 135]]\n",
      "end time =  181\n"
     ]
    }
   ],
   "source": [
    "print('solution = ',best_solution)\n",
    "print('end time = ',endtime)"
   ]
  },
  {
   "cell_type": "code",
   "execution_count": 19,
   "metadata": {},
   "outputs": [
    {
     "name": "stdout",
     "output_type": "stream",
     "text": [
      "---------------------------Start n.1---------------------------\n",
      "Iteration 0:\n",
      "[279, 285, 163, 344, 359, 323, 275, 227, 268, 384]  =>  184\n",
      "Iteration 1:\n",
      "[323 285 163 344 359 279 275 227 268 384]  =>  180\n",
      "Iteration 2:\n",
      "[323 285 163 344 359 279 275 227 268 384]  =>  180\n",
      "Iteration 3:\n",
      "[323 285 163 344 359 279 275 227 268 384]  =>  180\n",
      "Iteration 4:\n",
      "[323 285 163 344 359 279 275 227 268 384]  =>  180\n",
      "Iteration 5:\n",
      "[323 285 163 344 359 279 275 227 268 384]  =>  180\n",
      "----------------------------------------------------------------\n",
      "---------------------------Start n.2---------------------------\n",
      "Iteration 0:\n",
      "[285, 163, 359, 344, 384, 275, 279, 323, 268, 227]  =>  180\n",
      "Iteration 1:\n",
      "[285, 163, 359, 344, 384, 275, 279, 323, 268, 227]  =>  180\n",
      "Iteration 2:\n",
      "[285, 163, 359, 344, 384, 275, 279, 323, 268, 227]  =>  180\n",
      "Iteration 3:\n",
      "[285, 163, 359, 344, 384, 275, 279, 323, 268, 227]  =>  180\n",
      "Iteration 4:\n",
      "[285, 163, 359, 344, 384, 275, 279, 323, 268, 227]  =>  180\n",
      "----------------------------------------------------------------\n",
      "         6749768 function calls (6749718 primitive calls) in 13.310 seconds\n",
      "\n",
      "   Ordered by: standard name\n",
      "\n",
      "   ncalls  tottime  percall  cumtime  percall filename:lineno(function)\n",
      "        1    0.000    0.000   13.310   13.310 <ipython-input-19-076ab942912f>:3(<module>)\n",
      "        1    0.000    0.000    0.000    0.000 <ipython-input-19-076ab942912f>:4(<module>)\n",
      "     4990    0.025    0.000    2.214    0.000 DataProcess.py:102(get_task)\n",
      "     4990    0.042    0.000    2.087    0.000 DataProcess.py:106(<listcomp>)\n",
      "      499    0.005    0.000    0.946    0.002 DataProcess.py:121(create_solution)\n",
      "     4990    0.225    0.000    0.941    0.000 DataProcess.py:124(<listcomp>)\n",
      "      499    1.436    0.003   13.287    0.027 DataProcess.py:143(get_end_time)\n",
      "   148536    4.713    0.000    4.713    0.000 DataProcess.py:172(<listcomp>)\n",
      "      499    0.010    0.000    0.010    0.000 DataProcess.py:196(<listcomp>)\n",
      "     4990    0.006    0.000    0.017    0.000 DataProcess.py:81(get_eva_node_info)\n",
      "     4990    0.011    0.000    0.011    0.000 DataProcess.py:82(<listcomp>)\n",
      "   263472    0.149    0.000    4.150    0.000 DataProcess.py:91(get_edge_info)\n",
      "   162674    2.158    0.000    2.158    0.000 DataProcess.py:93(<listcomp>)\n",
      "   100798    1.844    0.000    1.844    0.000 DataProcess.py:95(<listcomp>)\n",
      "        1    0.000    0.000   13.310   13.310 LocalSearch.py:160(LocalSearchRandomStart)\n",
      "        1    0.000    0.000    0.000    0.000 LocalSearch.py:162(<listcomp>)\n",
      "        1    0.000    0.000    0.000    0.000 LocalSearch.py:177(<listcomp>)\n",
      "       11    0.000    0.000    0.002    0.000 LocalSearch.py:57(get_neighbors_of)\n",
      "        2    0.000    0.000    0.000    0.000 LocalSearch.py:7(create_ordered_list_of)\n",
      "       20    0.000    0.000    0.000    0.000 LocalSearch.py:8(<lambda>)\n",
      "        2    0.018    0.009   13.264    6.632 LocalSearch.py:80(LocalSearchRun)\n",
      "        2    0.000    0.000    0.000    0.000 LocalSearch.py:9(<listcomp>)\n",
      "        5    0.000    0.000    0.000    0.000 arrayprint.py:1110(__init__)\n",
      "       50    0.000    0.000    0.000    0.000 arrayprint.py:1118(__call__)\n",
      "        5    0.000    0.000    0.001    0.000 arrayprint.py:1457(array_str)\n",
      "        5    0.000    0.000    0.000    0.000 arrayprint.py:348(_get_formatdict)\n",
      "        5    0.000    0.000    0.000    0.000 arrayprint.py:356(<lambda>)\n",
      "        5    0.000    0.000    0.000    0.000 arrayprint.py:401(_get_format_function)\n",
      "        5    0.000    0.000    0.000    0.000 arrayprint.py:453(wrapper)\n",
      "        5    0.000    0.000    0.000    0.000 arrayprint.py:470(_array2string)\n",
      "        5    0.000    0.000    0.001    0.000 arrayprint.py:499(array2string)\n",
      "        5    0.000    0.000    0.000    0.000 arrayprint.py:67(_make_options_dict)\n",
      "       50    0.000    0.000    0.000    0.000 arrayprint.py:671(_extendLine)\n",
      "        5    0.000    0.000    0.000    0.000 arrayprint.py:685(_formatArray)\n",
      "     55/5    0.000    0.000    0.000    0.000 arrayprint.py:694(recurser)\n",
      "        5    0.000    0.000    0.000    0.000 arrayprint.py:72(<dictcomp>)\n",
      "        2    0.000    0.000    0.000    0.000 codeop.py:132(__call__)\n",
      "      504    0.001    0.000    0.014    0.000 fromnumeric.py:2227(amax)\n",
      "     4996    0.007    0.000    0.079    0.000 fromnumeric.py:2337(amin)\n",
      "     5500    0.019    0.000    0.084    0.000 fromnumeric.py:64(_wrapreduction)\n",
      "   149031    0.036    0.000    0.277    0.000 function_base.py:689(copy)\n",
      "        2    0.000    0.000    0.000    0.000 hooks.py:142(__call__)\n",
      "        2    0.000    0.000    0.000    0.000 hooks.py:207(pre_run_code_hook)\n",
      "        2    0.000    0.000    0.000    0.000 interactiveshell.py:1104(user_global_ns)\n",
      "        2    0.000    0.000   13.310    6.655 interactiveshell.py:2933(run_code)\n",
      "      108    0.000    0.000    0.002    0.000 iostream.py:195(schedule)\n",
      "       96    0.000    0.000    0.000    0.000 iostream.py:300(_is_master_process)\n",
      "       96    0.000    0.000    0.000    0.000 iostream.py:313(_schedule_flush)\n",
      "       96    0.000    0.000    0.002    0.000 iostream.py:366(write)\n",
      "      108    0.000    0.000    0.000    0.000 iostream.py:93(_event_pipe)\n",
      "        2    0.000    0.000    0.000    0.000 ipstruct.py:125(__getattr__)\n",
      "    62874    0.034    0.000    0.157    0.000 numeric.py:268(full)\n",
      "        5    0.000    0.000    0.000    0.000 numeric.py:433(asarray)\n",
      "       18    0.000    0.000    0.000    0.000 random.py:223(_randbelow)\n",
      "        2    0.000    0.000    0.000    0.000 random.py:261(shuffle)\n",
      "      108    0.001    0.000    0.001    0.000 socket.py:333(send)\n",
      "      108    0.000    0.000    0.000    0.000 threading.py:1062(_wait_for_tstate_lock)\n",
      "      108    0.000    0.000    0.000    0.000 threading.py:1104(is_alive)\n",
      "      108    0.000    0.000    0.000    0.000 threading.py:506(is_set)\n",
      "        5    0.000    0.000    0.000    0.000 {built-in method _thread.get_ident}\n",
      "        2    0.000    0.000    0.000    0.000 {built-in method builtins.compile}\n",
      "        2    0.000    0.000   13.310    6.655 {built-in method builtins.exec}\n",
      "     5490    0.004    0.000    0.004    0.000 {built-in method builtins.getattr}\n",
      "        5    0.000    0.000    0.000    0.000 {built-in method builtins.id}\n",
      "       96    0.000    0.000    0.000    0.000 {built-in method builtins.isinstance}\n",
      "       15    0.000    0.000    0.000    0.000 {built-in method builtins.issubclass}\n",
      "   365043    0.025    0.000    0.025    0.000 {built-in method builtins.len}\n",
      "        5    0.000    0.000    0.000    0.000 {built-in method builtins.locals}\n",
      "       10    0.000    0.000    0.000    0.000 {built-in method builtins.max}\n",
      "       26    0.000    0.000    0.003    0.000 {built-in method builtins.print}\n",
      "        2    0.000    0.000    0.000    0.000 {built-in method builtins.sorted}\n",
      "     4990    0.005    0.000    0.005    0.000 {built-in method math.ceil}\n",
      "   360446    0.415    0.000    0.415    0.000 {built-in method numpy.core.multiarray.array}\n",
      "    62874    0.051    0.000    0.051    0.000 {built-in method numpy.core.multiarray.copyto}\n",
      "    62874    0.057    0.000    0.057    0.000 {built-in method numpy.core.multiarray.empty}\n",
      "       96    0.000    0.000    0.000    0.000 {built-in method posix.getpid}\n",
      "      108    0.000    0.000    0.000    0.000 {method 'acquire' of '_thread.lock' objects}\n",
      "        5    0.000    0.000    0.000    0.000 {method 'add' of 'set' objects}\n",
      "      108    0.000    0.000    0.000    0.000 {method 'append' of 'collections.deque' objects}\n",
      "     5489    0.001    0.000    0.001    0.000 {method 'append' of 'list' objects}\n",
      "       18    0.000    0.000    0.000    0.000 {method 'bit_length' of 'int' objects}\n",
      "        5    0.000    0.000    0.000    0.000 {method 'copy' of 'dict' objects}\n",
      "        1    0.000    0.000    0.000    0.000 {method 'disable' of '_lsprof.Profiler' objects}\n",
      "        5    0.000    0.000    0.000    0.000 {method 'discard' of 'set' objects}\n",
      "  4750332    1.902    0.000    1.902    0.000 {method 'format' of 'str' objects}\n",
      "       29    0.000    0.000    0.000    0.000 {method 'getrandbits' of '_random.Random' objects}\n",
      "     5505    0.001    0.000    0.001    0.000 {method 'items' of 'dict' objects}\n",
      "        5    0.000    0.000    0.000    0.000 {method 'pop' of 'dict' objects}\n",
      "     5500    0.060    0.000    0.060    0.000 {method 'reduce' of 'numpy.ufunc' objects}\n",
      "        5    0.000    0.000    0.000    0.000 {method 'rstrip' of 'str' objects}\n",
      "   194610    0.046    0.000    0.046    0.000 {method 'setdefault' of 'dict' objects}\n",
      "        5    0.000    0.000    0.000    0.000 {method 'update' of 'dict' objects}\n",
      "\n",
      "\n",
      "solution =  [[323, 71, 0], [285, 71, 0], [163, 70, 15], [344, 71, 11], [359, 70, 10], [279, 71, 13], [275, 70, 69], [227, 71, 72], [268, 132, 95], [384, 71, 104]]\n",
      "end time =  180\n"
     ]
    }
   ],
   "source": [
    "cp = cProfile.Profile()\n",
    "cp.enable()\n",
    "endtime,best_solution = LocalSearchRandomStart(EVA_TREE,GRAPH,n_iter=10,n_start_points=2)\n",
    "cp.disable()\n",
    "cp.print_stats()\n",
    "print('solution = ',best_solution)\n",
    "print('end time = ',endtime)"
   ]
  },
  {
   "cell_type": "code",
   "execution_count": 20,
   "metadata": {},
   "outputs": [
    {
     "data": {
      "text/plain": [
       "0"
      ]
     },
     "execution_count": 20,
     "metadata": {},
     "output_type": "execute_result"
    }
   ],
   "source": [
    "create_solution_file('data/wildfire_sup.solution',best_solution,endtime)"
   ]
  },
  {
   "cell_type": "code",
   "execution_count": 21,
   "metadata": {},
   "outputs": [],
   "source": [
    "# #-----------------------------------------------------------------------------\n",
    "# # Build the model\n",
    "# #-----------------------------------------------------------------------------\n",
    "# from docplex.cp.model import CpoModel\n",
    "# from docplex.cp.expression import *\n",
    "# from docplex.cp.solution import *\n",
    "# import docplex.cp.utils_visu as visu\n",
    "# # Create model\n",
    "# mdl = CpoModel(version='12.7.0')"
   ]
  },
  {
   "cell_type": "code",
   "execution_count": 22,
   "metadata": {},
   "outputs": [],
   "source": [
    "# # Create one interval variable per job operation\n",
    "# E_nodes = [[mdl.interval_var(size=get_task(j,EVA_TREE,GRAPH)[0], name=\"Evacuees from {} at {}\".format(j,m)) for m in get_task(j,EVA_TREE,GRAPH)[1]] for j in LIST_EVA_NODES]\n",
    "# len(E_nodes)"
   ]
  },
  {
   "cell_type": "code",
   "execution_count": 23,
   "metadata": {},
   "outputs": [],
   "source": [
    "# len(E_nodes[0])"
   ]
  },
  {
   "cell_type": "code",
   "execution_count": 24,
   "metadata": {},
   "outputs": [],
   "source": [
    "# #-----------------------------------------------------------------------------\n",
    "# # Constraints \n",
    "# #-----------------------------------------------------------------------------\n",
    "\n",
    "# #Each operation must start after a precise duration = time to traverse an arc\n",
    "# for i in range(NB_EVA_NODES) :\n",
    "#     root = LIST_EVA_NODES[i]\n",
    "#     route_list = get_task(root,EVA_TREE,GRAPH)[1]\n",
    "#     route_len = len(route_list)\n",
    "#     current = root\n",
    "#     for m in range(route_len) :\n",
    "#         nxt = route_list[m]\n",
    "# #         print(\"Node-{}-to-{}\".format(root,nxt))\n",
    "#         if nxt != current :\n",
    "# #             print(current,nxt)\n",
    "#             _,delay,_ = get_edge_info(current,nxt,GRAPH)\n",
    "#             mdl.add(mdl.start_at_start(E_nodes[i][m-1],E_nodes[i][m],delay))\n",
    "#             print(\"Evacuees-from-{}-at-{} starts after Evacuees-from-{}-at-{} : {} mins \".format(root,nxt,root,current,delay))\n",
    "#         current = nxt\n",
    "#     print('----------')"
   ]
  },
  {
   "cell_type": "code",
   "execution_count": 25,
   "metadata": {},
   "outputs": [],
   "source": [
    "# #Constraint on capacity of ressources, which are edges of graph\n",
    "\n",
    "# for r in range(NB_EDGES) :\n",
    "#     edge = GRAPH[r]\n",
    "# #     print(edge)\n",
    "#     CAP_MAX = edge[-1]\n",
    "#     rsc = 0\n",
    "#     ressources = []\n",
    "#     for i in range(NB_EVA_NODES) :\n",
    "#         root = LIST_EVA_NODES[i]\n",
    "#         _,route_list,capacity = get_task(root,EVA_TREE,GRAPH)\n",
    "#         route_len = len(route_list)\n",
    "#         current = root\n",
    "\n",
    "#         for m in range(route_len) : \n",
    "#             nxt = route_list[m]\n",
    "\n",
    "#             if edge[0] == current and edge[1]==nxt :\n",
    "#                 ressources.append(mdl.pulse(E_nodes[i][m-1],capacity))\n",
    "#                 print(\"Evacuees-from-{}-at-{} requests edge [{}-{}] a capacity {}\".format(root,route_list[m-1],current,nxt,capacity))\n",
    "                \n",
    "#                 rsc += capacity\n",
    "               \n",
    "#             current = nxt\n",
    "#         #end for\n",
    "#     #end for\n",
    "#     mdl.add(mdl.sum(ressources) <= CAP_MAX)\n",
    "#     print('Constraint on edge {}-{} with capacity_max {}... is loaded'.format(edge[0],edge[1],CAP_MAX))\n",
    "#     print('--------------')\n",
    "# #end for"
   ]
  },
  {
   "cell_type": "code",
   "execution_count": 26,
   "metadata": {},
   "outputs": [],
   "source": [
    "# #Minimize end of all tasks\n",
    "# mdl.add(mdl.minimize(mdl.max([mdl.end_of(node) for list_nodes in E_nodes for node in list_nodes])))"
   ]
  },
  {
   "cell_type": "code",
   "execution_count": 27,
   "metadata": {},
   "outputs": [],
   "source": [
    "# #-----------------------------------------------------------------------------\n",
    "# # Solve the model and display the result\n",
    "# #-----------------------------------------------------------------------------\n",
    "# mdl.write_information()"
   ]
  },
  {
   "cell_type": "code",
   "execution_count": 28,
   "metadata": {},
   "outputs": [],
   "source": [
    "# # Solve model\n",
    "# # print(\"Solving model....\")\n",
    "# msol = mdl.solve(TimeLimit=1000)\n",
    "# # print(\"Solution: \")\n",
    "# msol.print_solution()"
   ]
  }
 ],
 "metadata": {
  "kernelspec": {
   "display_name": "Python 3",
   "language": "python",
   "name": "python3"
  },
  "language_info": {
   "codemirror_mode": {
    "name": "ipython",
    "version": 3
   },
   "file_extension": ".py",
   "mimetype": "text/x-python",
   "name": "python",
   "nbconvert_exporter": "python",
   "pygments_lexer": "ipython3",
   "version": "3.6.5"
  }
 },
 "nbformat": 4,
 "nbformat_minor": 2
}
