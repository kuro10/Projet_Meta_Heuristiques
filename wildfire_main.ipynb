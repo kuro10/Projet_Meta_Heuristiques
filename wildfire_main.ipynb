{
 "cells": [
  {
   "cell_type": "code",
   "execution_count": 1,
   "metadata": {
    "collapsed": true
   },
   "outputs": [],
   "source": [
    "import glob\n",
    "import os\n",
    "import numpy as np\n",
    "import math\n",
    "from DataProcess import *\n",
    "from SolutionChecker import *\n",
    "from LocalSearch import *\n",
    "import cProfile"
   ]
  },
  {
   "cell_type": "code",
   "execution_count": 2,
   "metadata": {
    "collapsed": true
   },
   "outputs": [],
   "source": [
    "data_path = os.path.dirname(os.path.abspath('__file__')) + \"/data/wildfire.data\""
   ]
  },
  {
   "cell_type": "code",
   "execution_count": 3,
   "metadata": {
    "collapsed": true
   },
   "outputs": [],
   "source": [
    "solution_path = os.path.dirname(os.path.abspath('__file__')) + \"/data/wildfire.solution\""
   ]
  },
  {
   "cell_type": "code",
   "execution_count": 4,
   "metadata": {},
   "outputs": [
    {
     "name": "stdout",
     "output_type": "stream",
     "text": [
      "Add evacuation info\n",
      "Add graph info\n",
      "-----------------------------\n",
      "evacuation_tree =  [[1, 48, 8, 3, 4, 5, 6], [2, 30, 5, 3, 4, 5, 6], [3, 33, 3, 2, 5, 6]]\n",
      "graph =  [[1, 4, 9223372036854775807, 7, 8], [2, 4, 9223372036854775807, 4, 5], [3, 5, 9223372036854775807, 6, 3], [4, 5, 9223372036854775807, 9, 10], [5, 6, 9223372036854775807, 12, 11]]\n",
      "number of evacuation nodes :  3\n",
      "List of evac nodes :  [1, 2, 3]\n",
      "number of nodes =  6\n",
      "number of edges =  5\n",
      "-----------------------------\n"
     ]
    },
    {
     "data": {
      "text/plain": [
       "0"
      ]
     },
     "execution_count": 4,
     "metadata": {},
     "output_type": "execute_result"
    }
   ],
   "source": [
    "print_data(data_path)"
   ]
  },
  {
   "cell_type": "code",
   "execution_count": 5,
   "metadata": {},
   "outputs": [
    {
     "name": "stdout",
     "output_type": "stream",
     "text": [
      "-----------------------------\n",
      "A solution is : [[1, 8, 3], [2, 5, 0], [3, 3, 0]]\n",
      "f_objectif =  37\n",
      "Nature of solution :  valid\n",
      "-----------------------------\n"
     ]
    },
    {
     "data": {
      "text/plain": [
       "0"
      ]
     },
     "execution_count": 5,
     "metadata": {},
     "output_type": "execute_result"
    }
   ],
   "source": [
    "print_solution(solution_path)"
   ]
  },
  {
   "cell_type": "code",
   "execution_count": 6,
   "metadata": {},
   "outputs": [
    {
     "name": "stdout",
     "output_type": "stream",
     "text": [
      "Add evacuation info\n",
      "Add graph info\n",
      "Add evacuation info\n",
      "Add graph info\n",
      "-----------------------------\n",
      "evacuation_tree =  [[1, 48, 8, 3, 4, 5, 6], [2, 30, 5, 3, 4, 5, 6], [3, 33, 3, 2, 5, 6]]\n",
      "graph =  [[1, 4, 9223372036854775807, 7, 8], [2, 4, 9223372036854775807, 4, 5], [3, 5, 9223372036854775807, 6, 3], [4, 5, 9223372036854775807, 9, 10], [5, 6, 9223372036854775807, 12, 11]]\n",
      "number of evacuation nodes :  3\n",
      "List of evac nodes :  [1, 2, 3]\n",
      "number of nodes =  6\n",
      "number of edges =  5\n",
      "-----------------------------\n",
      "-----------------------------\n",
      "A solution is : [[1, 8, 3], [2, 5, 0], [3, 3, 0]]\n",
      "f_objectif =  37\n",
      "Nature of solution :  valid\n",
      "-----------------------------\n",
      "CREATION TASKS & VERIFY CONSTRAINTS\n",
      "-----------------------------\n",
      "ressources info after evacuation =  {'Cap of edge[1-4]': array([8, 8, 8, 0, 0, 0, 0, 0, 0, 8, 8, 8, 8, 8, 8, 8, 8, 8, 8, 8, 8, 8, 8,\n",
      "       8, 8, 8, 8, 8, 8, 8, 8, 8, 8, 8, 8, 8, 8, 8, 8, 8]), 'Cap of edge[2-4]': array([0, 0, 0, 0, 0, 0, 5, 5, 5, 5, 5, 5, 5, 5, 5, 5, 5, 5, 5, 5, 5, 5, 5,\n",
      "       5, 5, 5, 5, 5, 5, 5, 5, 5, 5, 5, 5, 5, 5, 5, 5, 5]), 'Cap of edge[3-5]': array([0, 0, 0, 0, 0, 0, 0, 0, 0, 0, 0, 3, 3, 3, 3, 3, 3, 3, 3, 3, 3, 3, 3,\n",
      "       3, 3, 3, 3, 3, 3, 3, 3, 3, 3, 3, 3, 3, 3, 3, 3, 3]), 'Cap of edge[4-5]': array([10, 10, 10, 10,  5,  5,  5,  5,  5,  5,  2,  2,  2,  2,  2,  2, 10,\n",
      "       10, 10, 10, 10, 10, 10, 10, 10, 10, 10, 10, 10, 10, 10, 10, 10, 10,\n",
      "       10, 10, 10, 10, 10, 10]), 'Cap of edge[5-6]': array([11, 11, 11, 11, 11, 11,  8,  8,  8,  8,  8,  8,  8,  3,  3,  3,  3,\n",
      "        6,  6,  3,  3,  3,  3,  3,  3, 11, 11, 11, 11, 11, 11, 11, 11, 11,\n",
      "       11, 11, 11, 11, 11, 11])}\n",
      "tasks =  {'Evacuees from 1 at edge [1-4]': [3, 16, 6, 8], 'Evacuees from 1 at edge [4-5]': [10, 25, 6, 8], 'Evacuees from 1 at edge [5-6]': [19, 37, 6, 8], 'Evacuees from 2 at edge [2-4]': [0, 10, 6, 5], 'Evacuees from 2 at edge [4-5]': [4, 19, 6, 5], 'Evacuees from 2 at edge [5-6]': [13, 31, 6, 5], 'Evacuees from 3 at edge [3-5]': [0, 17, 11, 3], 'Evacuees from 3 at edge [5-6]': [6, 29, 11, 3]}\n",
      "Nb of tasks =  8\n",
      "-----------------------------\n",
      "CHECK F_OBJECTIF\n",
      "-----------------------------\n",
      "End time is :  37\n"
     ]
    },
    {
     "data": {
      "text/plain": [
       "True"
      ]
     },
     "execution_count": 6,
     "metadata": {},
     "output_type": "execute_result"
    }
   ],
   "source": [
    "verify_solution(data_path,solution_path)"
   ]
  },
  {
   "cell_type": "code",
   "execution_count": 7,
   "metadata": {},
   "outputs": [
    {
     "name": "stdout",
     "output_type": "stream",
     "text": [
      "Add evacuation info\n",
      "Add graph info\n"
     ]
    }
   ],
   "source": [
    "EVA_TREE,GRAPH,NB_NODES = read_data(data_path)\n",
    "NB_EVA_NODES = len(EVA_TREE)\n",
    "NB_EDGES = len(GRAPH)\n",
    "LIST_EVA_NODES = [item[0] for item in EVA_TREE]"
   ]
  },
  {
   "cell_type": "code",
   "execution_count": 8,
   "metadata": {
    "collapsed": true
   },
   "outputs": [],
   "source": [
    "# for i in range(NB_EVA_NODES) : \n",
    "#     node_id = EVA_TREE[i][0]\n",
    "#     print('Evacuation of (only) node ',node_id,' is ', get_duration(node_id,EVA_TREE,GRAPH),' mins')"
   ]
  },
  {
   "cell_type": "code",
   "execution_count": 9,
   "metadata": {},
   "outputs": [
    {
     "name": "stdout",
     "output_type": "stream",
     "text": [
      "Borne inferieur = 34 mins\n"
     ]
    }
   ],
   "source": [
    "print('Borne inferieur = {} mins'.format(get_borne_inf(LIST_EVA_NODES,EVA_TREE,GRAPH)))"
   ]
  },
  {
   "cell_type": "code",
   "execution_count": 10,
   "metadata": {},
   "outputs": [
    {
     "name": "stdout",
     "output_type": "stream",
     "text": [
      "Borne superieur = 40 mins\n"
     ]
    }
   ],
   "source": [
    "print('Borne superieur = {} mins'.format(get_borne_sup(LIST_EVA_NODES,EVA_TREE,GRAPH)[0]))"
   ]
  },
  {
   "cell_type": "code",
   "execution_count": 11,
   "metadata": {},
   "outputs": [
    {
     "name": "stdout",
     "output_type": "stream",
     "text": [
      "Add evacuation info\n",
      "Add graph info\n"
     ]
    }
   ],
   "source": [
    "data_path_2 = os.path.dirname(os.path.abspath('__file__')) + \"/data/dense.data\"\n",
    "EVA_TREE,GRAPH,NB_NODES = read_data(data_path_2)\n",
    "NB_EVA_NODES = len(EVA_TREE)\n",
    "NB_EDGES = len(GRAPH)\n",
    "LIST_EVA_NODES = [item[0] for item in EVA_TREE]"
   ]
  },
  {
   "cell_type": "code",
   "execution_count": 12,
   "metadata": {},
   "outputs": [
    {
     "name": "stdout",
     "output_type": "stream",
     "text": [
      "Add evacuation info\n",
      "Add graph info\n",
      "-----------------------------\n",
      "evacuation_tree =  [[227, 2483, 71, 19, 237, 244, 57, 529, 548, 70, 87, 111, 503, 382, 531, 225, 481, 489, 493, 437, 385, 346, 373], [344, 157, 72, 25, 221, 257, 264, 162, 77, 3, 19, 29, 57, 529, 548, 70, 87, 111, 503, 382, 531, 225, 481, 489, 493, 437, 385, 346, 373], [323, 986, 71, 20, 333, 337, 342, 498, 515, 520, 209, 216, 473, 161, 166, 170, 211, 250, 281, 310, 328, 336, 346, 373], [268, 2792, 132, 11, 230, 486, 170, 211, 250, 281, 310, 328, 336, 346, 373], [275, 1707, 70, 23, 113, 372, 78, 83, 337, 342, 498, 515, 520, 209, 216, 473, 161, 166, 170, 211, 250, 281, 310, 328, 336, 346, 373], [279, 2090, 72, 38, 179, 92, 110, 124, 187, 140, 484, 158, 109, 118, 160, 42, 51, 518, 523, 528, 537, 545, 3, 19, 29, 57, 529, 548, 70, 87, 111, 503, 382, 531, 225, 481, 489, 493, 437, 385, 346, 373], [359, 1155, 70, 52, 189, 410, 456, 458, 56, 58, 202, 205, 208, 519, 16, 90, 98, 114, 132, 55, 20, 527, 421, 332, 247, 190, 142, 61, 533, 524, 513, 201, 194, 191, 112, 97, 538, 131, 391, 350, 303, 2, 525, 215, 111, 503, 382, 531, 225, 481, 489, 493, 437, 385, 346, 373], [384, 2895, 74, 33, 407, 312, 300, 204, 106, 121, 48, 513, 201, 194, 191, 112, 97, 538, 131, 391, 350, 303, 2, 525, 215, 111, 503, 382, 531, 225, 481, 489, 493, 437, 385, 346, 373], [163, 3766, 70, 25, 423, 275, 113, 372, 78, 83, 337, 342, 498, 515, 520, 209, 216, 473, 161, 166, 170, 211, 250, 281, 310, 328, 336, 346, 373], [285, 1570, 206, 18, 244, 57, 529, 548, 70, 87, 111, 503, 382, 531, 225, 481, 489, 493, 437, 385, 346, 373]]\n",
      "graph =  [[2, 525, 9223372036854775807, 0, 132], [2, 303, 9223372036854775807, 1, 134], [3, 545, 192, 1, 206], [3, 19, 192, 2, 212], [3, 77, 192, 2, 138], [16, 90, 189, 2, 74], [16, 519, 192, 1, 72], [19, 29, 165, 2, 212], [20, 527, 9223372036854775807, 1, 72], [20, 55, 9223372036854775807, 1, 72], [29, 57, 165, 4, 224], [42, 160, 192, 1, 72], [42, 51, 174, 1, 72], [48, 513, 9223372036854775807, 2, 74], [48, 121, 192, 2, 74], [51, 518, 192, 2, 74], [55, 132, 9223372036854775807, 2, 74], [56, 458, 189, 0, 70], [56, 58, 189, 0, 70], [57, 529, 192, 2, 138], [57, 244, 144, 4, 224], [58, 202, 189, 0, 70], [61, 533, 9223372036854775807, 2, 74], [61, 142, 9223372036854775807, 2, 74], [70, 548, 9223372036854775807, 2, 74], [70, 87, 9223372036854775807, 2, 212], [77, 162, 192, 2, 138], [78, 83, 192, 0, 71], [78, 372, 192, 0, 71], [83, 337, 192, 0, 71], [87, 111, 9223372036854775807, 4, 224], [90, 98, 192, 2, 212], [92, 179, 192, 2, 138], [92, 110, 168, 4, 146], [97, 112, 9223372036854775807, 0, 71], [97, 538, 9223372036854775807, 0, 132], [98, 114, 192, 2, 212], [106, 121, 192, 2, 74], [106, 204, 192, 2, 138], [109, 118, 192, 1, 72], [109, 158, 192, 1, 72], [110, 124, 168, 4, 146], [111, 215, 9223372036854775807, 2, 138], [111, 503, 9223372036854775807, 4, 224], [112, 191, 9223372036854775807, 0, 71], [113, 275, 192, 0, 70], [113, 372, 192, 0, 71], [114, 132, 192, 2, 212], [118, 160, 192, 1, 72], [124, 187, 192, 2, 138], [131, 538, 9223372036854775807, 0, 132], [131, 391, 9223372036854775807, 0, 132], [140, 187, 192, 1, 134], [140, 484, 192, 1, 72], [142, 190, 9223372036854775807, 1, 72], [158, 484, 192, 1, 72], [161, 473, 9223372036854775807, 0, 71], [161, 166, 9223372036854775807, 0, 132], [162, 264, 117, 2, 138], [163, 423, 192, 0, 71], [166, 170, 9223372036854775807, 0, 132], [170, 211, 9223372036854775807, 4, 146], [170, 486, 9223372036854775807, 0, 132], [179, 279, 192, 2, 138], [189, 410, 174, 0, 71], [189, 359, 174, 0, 71], [190, 247, 192, 1, 72], [191, 194, 9223372036854775807, 0, 71], [194, 201, 9223372036854775807, 0, 71], [201, 513, 9223372036854775807, 0, 71], [202, 205, 192, 0, 70], [204, 300, 192, 2, 138], [205, 208, 192, 0, 70], [208, 519, 192, 0, 71], [209, 216, 9223372036854775807, 0, 71], [209, 520, 9223372036854775807, 0, 71], [211, 250, 9223372036854775807, 4, 146], [215, 525, 9223372036854775807, 0, 132], [216, 473, 9223372036854775807, 0, 71], [221, 257, 177, 1, 72], [221, 344, 186, 1, 72], [225, 481, 9223372036854775807, 0, 71], [225, 531, 9223372036854775807, 0, 203], [227, 237, 180, 1, 72], [230, 268, 192, 1, 134], [230, 486, 192, 0, 132], [237, 244, 180, 1, 72], [244, 285, 123, 1, 206], [247, 332, 192, 2, 74], [250, 281, 9223372036854775807, 4, 146], [257, 264, 177, 1, 72], [275, 423, 192, 0, 70], [281, 310, 9223372036854775807, 4, 146], [300, 312, 192, 2, 138], [303, 350, 9223372036854775807, 1, 134], [310, 328, 9223372036854775807, 2, 138], [312, 407, 192, 2, 74], [323, 333, 192, 1, 72], [328, 336, 9223372036854775807, 1, 134], [332, 421, 192, 2, 74], [333, 337, 192, 0, 71], [336, 346, 9223372036854775807, 1, 134], [337, 342, 192, 0, 71], [342, 498, 192, 2, 74], [346, 385, 9223372036854775807, 1, 206], [346, 373, 9223372036854775807, 4, 224], [350, 391, 9223372036854775807, 1, 134], [382, 531, 9223372036854775807, 1, 206], [382, 503, 9223372036854775807, 2, 212], [384, 407, 174, 2, 74], [385, 437, 9223372036854775807, 1, 206], [410, 456, 189, 1, 72], [421, 527, 192, 2, 74], [437, 493, 9223372036854775807, 1, 206], [456, 458, 189, 0, 70], [481, 489, 9223372036854775807, 0, 71], [489, 493, 9223372036854775807, 0, 71], [498, 515, 9223372036854775807, 0, 71], [513, 524, 9223372036854775807, 1, 134], [515, 520, 9223372036854775807, 0, 71], [518, 523, 192, 0, 132], [523, 528, 189, 0, 132], [524, 533, 9223372036854775807, 1, 134], [528, 537, 192, 1, 206], [529, 548, 192, 2, 74], [537, 545, 192, 1, 206]]\n",
      "number of evacuation nodes :  10\n",
      "List of evac nodes :  [227, 344, 323, 268, 275, 279, 359, 384, 163, 285]\n",
      "number of nodes =  549\n",
      "number of edges =  126\n",
      "-----------------------------\n"
     ]
    },
    {
     "data": {
      "text/plain": [
       "0"
      ]
     },
     "execution_count": 12,
     "metadata": {},
     "output_type": "execute_result"
    }
   ],
   "source": [
    "print_data(data_path_2)"
   ]
  },
  {
   "cell_type": "code",
   "execution_count": 13,
   "metadata": {},
   "outputs": [
    {
     "name": "stdout",
     "output_type": "stream",
     "text": [
      "Borne inferieur = 91 mins\n"
     ]
    }
   ],
   "source": [
    "print('Borne inferieur = {} mins'.format(get_borne_inf(LIST_EVA_NODES,EVA_TREE,GRAPH)))"
   ]
  },
  {
   "cell_type": "code",
   "execution_count": 14,
   "metadata": {},
   "outputs": [
    {
     "name": "stdout",
     "output_type": "stream",
     "text": [
      "Borne superieur = 132 mins\n"
     ]
    }
   ],
   "source": [
    "print('Borne superieur = {} mins'.format(get_borne_sup(LIST_EVA_NODES,EVA_TREE,GRAPH)[0]))"
   ]
  },
  {
   "cell_type": "code",
   "execution_count": 15,
   "metadata": {},
   "outputs": [
    {
     "data": {
      "text/plain": [
       "[[279, 71, 30],\n",
       " [279, 71, 30],\n",
       " [268, 132, 0],\n",
       " [275, 70, 67],\n",
       " [275, 70, 67],\n",
       " [323, 71, 208],\n",
       " [163, 70, 85],\n",
       " [384, 71, 213],\n",
       " [384, 71, 213],\n",
       " [323, 71, 208]]"
      ]
     },
     "execution_count": 15,
     "metadata": {},
     "output_type": "execute_result"
    }
   ],
   "source": [
    "init_sol = get_borne_sup(LIST_EVA_NODES,EVA_TREE,GRAPH)[1]\n",
    "init_sol"
   ]
  },
  {
   "cell_type": "code",
   "execution_count": 16,
   "metadata": {},
   "outputs": [
    {
     "name": "stdout",
     "output_type": "stream",
     "text": [
      "[268, 279, 279, 275, 275, 163, 323, 323, 384, 384]  =>  165\n",
      "[268 279 279 323 275 163 275 323 384 384]  =>  162\n",
      "[268 384 279 323 275 163 275 323 279 384]  =>  140\n",
      "         9775390 function calls (9775378 primitive calls) in 65.109 seconds\n",
      "\n",
      "   Ordered by: standard name\n",
      "\n",
      "   ncalls  tottime  percall  cumtime  percall filename:lineno(function)\n",
      "        1    0.000    0.000   65.109   65.109 <ipython-input-16-f58701e0b131>:3(<module>)\n",
      "        1    0.000    0.000    0.000    0.000 <ipython-input-16-f58701e0b131>:4(<module>)\n",
      "     9030    0.156    0.000   11.729    0.001 DataProcess.py:102(get_task)\n",
      "     9030    0.271    0.000   10.992    0.001 DataProcess.py:106(<listcomp>)\n",
      "      903    0.041    0.000    3.263    0.004 DataProcess.py:121(create_solution)\n",
      "     9030    0.735    0.000    3.218    0.000 DataProcess.py:124(<listcomp>)\n",
      "      903    7.674    0.008   65.020    0.072 DataProcess.py:143(get_end_time)\n",
      "   267129   22.337    0.000   22.337    0.000 DataProcess.py:172(<listcomp>)\n",
      "      903    0.043    0.000    0.043    0.000 DataProcess.py:196(<listcomp>)\n",
      "    18060    0.050    0.000    0.155    0.000 DataProcess.py:81(get_eva_node_info)\n",
      "    18060    0.105    0.000    0.105    0.000 DataProcess.py:82(<listcomp>)\n",
      "   476784    0.819    0.000   22.035    0.000 DataProcess.py:91(get_edge_info)\n",
      "   319662   12.846    0.000   12.846    0.000 DataProcess.py:93(<listcomp>)\n",
      "   157122    8.371    0.000    8.371    0.000 DataProcess.py:95(<listcomp>)\n",
      "       20    0.005    0.000    0.009    0.000 LocalSearch.py:13(get_neighbors_of)\n",
      "        1    0.077    0.077   65.109   65.109 LocalSearch.py:24(LocalSearchRun)\n",
      "        1    0.000    0.000    0.000    0.000 LocalSearch.py:7(create_ordered_list_of)\n",
      "       10    0.000    0.000    0.000    0.000 LocalSearch.py:8(<lambda>)\n",
      "        1    0.000    0.000    0.000    0.000 LocalSearch.py:9(<listcomp>)\n",
      "      903    0.001    0.000    0.048    0.000 _methods.py:25(_amax)\n",
      "     9030    0.013    0.000    0.375    0.000 _methods.py:28(_amin)\n",
      "        2    0.000    0.000    0.000    0.000 arrayprint.py:256(_get_formatdict)\n",
      "        2    0.000    0.000    0.000    0.000 arrayprint.py:259(<lambda>)\n",
      "        2    0.000    0.000    0.000    0.000 arrayprint.py:299(_get_format_function)\n",
      "        2    0.000    0.000    0.001    0.000 arrayprint.py:343(_array2string)\n",
      "      9/5    0.000    0.000    0.001    0.000 arrayprint.py:381(wrapper)\n",
      "      9/5    0.000    0.000    0.001    0.000 arrayprint.py:399(array2string)\n",
      "       20    0.000    0.000    0.000    0.000 arrayprint.py:527(_extendLine)\n",
      "        2    0.000    0.000    0.000    0.000 arrayprint.py:535(_formatArray)\n",
      "        2    0.000    0.000    0.000    0.000 arrayprint.py:712(__init__)\n",
      "       20    0.000    0.000    0.000    0.000 arrayprint.py:725(__call__)\n",
      "        2    0.000    0.000    0.000    0.000 codeop.py:132(__call__)\n",
      "        2    0.000    0.000    0.000    0.000 fromnumeric.py:1380(ravel)\n",
      "      903    0.012    0.000    0.060    0.000 fromnumeric.py:2174(amax)\n",
      "     9030    0.124    0.000    0.499    0.000 fromnumeric.py:2275(amin)\n",
      "   268029    0.182    0.000    1.126    0.000 function_base.py:1453(copy)\n",
      "        2    0.000    0.000    0.000    0.000 hooks.py:142(__call__)\n",
      "        2    0.000    0.000    0.000    0.000 hooks.py:207(pre_run_code_hook)\n",
      "        2    0.000    0.000    0.000    0.000 interactiveshell.py:1055(user_global_ns)\n",
      "        2    0.000    0.000   65.109   32.554 interactiveshell.py:2832(run_code)\n",
      "       21    0.001    0.000    0.001    0.000 iostream.py:180(schedule)\n",
      "       18    0.000    0.000    0.000    0.000 iostream.py:284(_is_master_process)\n",
      "       18    0.000    0.000    0.000    0.000 iostream.py:297(_schedule_flush)\n",
      "       18    0.000    0.000    0.001    0.000 iostream.py:342(write)\n",
      "       21    0.000    0.000    0.000    0.000 iostream.py:87(_event_pipe)\n",
      "        2    0.000    0.000    0.000    0.000 ipstruct.py:125(__getattr__)\n",
      "      9/5    0.000    0.000    0.001    0.000 numeric.py:1905(array_str)\n",
      "   113778    0.197    0.000    0.875    0.000 numeric.py:258(full)\n",
      "        2    0.000    0.000    0.000    0.000 numeric.py:463(asarray)\n",
      "        2    0.000    0.000    0.000    0.000 numeric.py:534(asanyarray)\n",
      "       21    0.000    0.000    0.000    0.000 threading.py:1062(_wait_for_tstate_lock)\n",
      "       21    0.000    0.000    0.000    0.000 threading.py:1104(is_alive)\n",
      "       21    0.000    0.000    0.000    0.000 threading.py:506(is_set)\n",
      "        2    0.000    0.000    0.000    0.000 {built-in method _functools.reduce}\n",
      "        9    0.000    0.000    0.000    0.000 {built-in method _thread.get_ident}\n",
      "        2    0.000    0.000    0.000    0.000 {built-in method builtins.compile}\n",
      "        2    0.000    0.000   65.109   32.554 {built-in method builtins.exec}\n",
      "        9    0.000    0.000    0.000    0.000 {built-in method builtins.id}\n",
      "       20    0.000    0.000    0.000    0.000 {built-in method builtins.isinstance}\n",
      "        6    0.000    0.000    0.000    0.000 {built-in method builtins.issubclass}\n",
      "   869450    0.176    0.000    0.176    0.000 {built-in method builtins.len}\n",
      "        2    0.000    0.000    0.000    0.000 {built-in method builtins.max}\n",
      "        3    0.000    0.000    0.002    0.001 {built-in method builtins.print}\n",
      "        1    0.000    0.000    0.000    0.000 {built-in method builtins.sorted}\n",
      "     9030    0.029    0.000    0.029    0.000 {built-in method math.ceil}\n",
      "       18    0.000    0.000    0.000    0.000 {built-in method nt.getpid}\n",
      "       21    0.000    0.000    0.000    0.000 {built-in method nt.urandom}\n",
      "   648940    1.768    0.000    1.768    0.000 {built-in method numpy.core.multiarray.array}\n",
      "   113778    0.271    0.000    0.271    0.000 {built-in method numpy.core.multiarray.copyto}\n",
      "   113778    0.290    0.000    0.290    0.000 {built-in method numpy.core.multiarray.empty}\n",
      "       21    0.000    0.000    0.000    0.000 {method 'acquire' of '_thread.lock' objects}\n",
      "        9    0.000    0.000    0.000    0.000 {method 'add' of 'set' objects}\n",
      "     9930    0.004    0.000    0.004    0.000 {method 'append' of 'list' objects}\n",
      "        1    0.000    0.000    0.000    0.000 {method 'disable' of '_lsprof.Profiler' objects}\n",
      "        9    0.000    0.000    0.000    0.000 {method 'discard' of 'set' objects}\n",
      "  5959613    7.867    0.000    7.867    0.000 {method 'format' of 'str' objects}\n",
      "        7    0.000    0.000    0.000    0.000 {method 'item' of 'numpy.ndarray' objects}\n",
      "        2    0.000    0.000    0.000    0.000 {method 'ravel' of 'numpy.ndarray' objects}\n",
      "     9937    0.409    0.000    0.409    0.000 {method 'reduce' of 'numpy.ufunc' objects}\n",
      "       40    0.000    0.000    0.000    0.000 {method 'rstrip' of 'str' objects}\n",
      "   352170    0.235    0.000    0.235    0.000 {method 'setdefault' of 'dict' objects}\n",
      "\n",
      "\n"
     ]
    }
   ],
   "source": [
    "cp = cProfile.Profile()\n",
    "cp.enable()\n",
    "best_solution,endtime = LocalSearchRun(init_sol,EVA_TREE,GRAPH,n_iter=20)\n",
    "cp.disable()\n",
    "cp.print_stats()"
   ]
  },
  {
   "cell_type": "code",
   "execution_count": 17,
   "metadata": {},
   "outputs": [
    {
     "name": "stdout",
     "output_type": "stream",
     "text": [
      "solution =  [[268, 132, 0], [384, 71, 101], [279, 71, 60], [323, 71, 158], [275, 70, 149], [163, 70, 60], [275, 70, 149], [323, 71, 158], [279, 71, 60], [384, 71, 101]]\n",
      "end time =  140\n"
     ]
    }
   ],
   "source": [
    "print('solution = ',best_solution)\n",
    "print('end time = ',endtime)"
   ]
  },
  {
   "cell_type": "code",
   "execution_count": 18,
   "metadata": {
    "collapsed": true
   },
   "outputs": [],
   "source": [
    "# #-----------------------------------------------------------------------------\n",
    "# # Build the model\n",
    "# #-----------------------------------------------------------------------------\n",
    "# from docplex.cp.model import CpoModel\n",
    "# from docplex.cp.expression import *\n",
    "# from docplex.cp.solution import *\n",
    "# import docplex.cp.utils_visu as visu\n",
    "# # Create model\n",
    "# mdl = CpoModel(version='12.7.0')"
   ]
  },
  {
   "cell_type": "code",
   "execution_count": 19,
   "metadata": {
    "collapsed": true
   },
   "outputs": [],
   "source": [
    "# # Create one interval variable per job operation\n",
    "# E_nodes = [[mdl.interval_var(size=get_task(j,EVA_TREE,GRAPH)[0], name=\"Evacuees from {} at {}\".format(j,m)) for m in get_task(j,EVA_TREE,GRAPH)[1]] for j in LIST_EVA_NODES]\n",
    "# len(E_nodes)"
   ]
  },
  {
   "cell_type": "code",
   "execution_count": 20,
   "metadata": {
    "collapsed": true
   },
   "outputs": [],
   "source": [
    "# len(E_nodes[0])"
   ]
  },
  {
   "cell_type": "code",
   "execution_count": 21,
   "metadata": {
    "collapsed": true
   },
   "outputs": [],
   "source": [
    "# #-----------------------------------------------------------------------------\n",
    "# # Constraints \n",
    "# #-----------------------------------------------------------------------------\n",
    "\n",
    "# #Each operation must start after a precise duration = time to traverse an arc\n",
    "# for i in range(NB_EVA_NODES) :\n",
    "#     root = LIST_EVA_NODES[i]\n",
    "#     route_list = get_task(root,EVA_TREE,GRAPH)[1]\n",
    "#     route_len = len(route_list)\n",
    "#     current = root\n",
    "#     for m in range(route_len) :\n",
    "#         nxt = route_list[m]\n",
    "# #         print(\"Node-{}-to-{}\".format(root,nxt))\n",
    "#         if nxt != current :\n",
    "# #             print(current,nxt)\n",
    "#             _,delay,_ = get_edge_info(current,nxt,GRAPH)\n",
    "#             mdl.add(mdl.start_at_start(E_nodes[i][m-1],E_nodes[i][m],delay))\n",
    "#             print(\"Evacuees-from-{}-at-{} starts after Evacuees-from-{}-at-{} : {} mins \".format(root,nxt,root,current,delay))\n",
    "#         current = nxt\n",
    "#     print('----------')"
   ]
  },
  {
   "cell_type": "code",
   "execution_count": 22,
   "metadata": {
    "collapsed": true
   },
   "outputs": [],
   "source": [
    "# #Constraint on capacity of ressources, which are edges of graph\n",
    "\n",
    "# for r in range(NB_EDGES) :\n",
    "#     edge = GRAPH[r]\n",
    "# #     print(edge)\n",
    "#     CAP_MAX = edge[-1]\n",
    "#     rsc = 0\n",
    "#     ressources = []\n",
    "#     for i in range(NB_EVA_NODES) :\n",
    "#         root = LIST_EVA_NODES[i]\n",
    "#         _,route_list,capacity = get_task(root,EVA_TREE,GRAPH)\n",
    "#         route_len = len(route_list)\n",
    "#         current = root\n",
    "\n",
    "#         for m in range(route_len) : \n",
    "#             nxt = route_list[m]\n",
    "\n",
    "#             if edge[0] == current and edge[1]==nxt :\n",
    "#                 ressources.append(mdl.pulse(E_nodes[i][m-1],capacity))\n",
    "#                 print(\"Evacuees-from-{}-at-{} requests edge [{}-{}] a capacity {}\".format(root,route_list[m-1],current,nxt,capacity))\n",
    "                \n",
    "#                 rsc += capacity\n",
    "               \n",
    "#             current = nxt\n",
    "#         #end for\n",
    "#     #end for\n",
    "#     mdl.add(mdl.sum(ressources) <= CAP_MAX)\n",
    "#     print('Constraint on edge {}-{} with capacity_max {}... is loaded'.format(edge[0],edge[1],CAP_MAX))\n",
    "#     print('--------------')\n",
    "# #end for"
   ]
  },
  {
   "cell_type": "code",
   "execution_count": 23,
   "metadata": {
    "collapsed": true
   },
   "outputs": [],
   "source": [
    "# #Minimize end of all tasks\n",
    "# mdl.add(mdl.minimize(mdl.max([mdl.end_of(node) for list_nodes in E_nodes for node in list_nodes])))"
   ]
  },
  {
   "cell_type": "code",
   "execution_count": 24,
   "metadata": {
    "collapsed": true
   },
   "outputs": [],
   "source": [
    "# #-----------------------------------------------------------------------------\n",
    "# # Solve the model and display the result\n",
    "# #-----------------------------------------------------------------------------\n",
    "# mdl.write_information()"
   ]
  },
  {
   "cell_type": "code",
   "execution_count": 25,
   "metadata": {
    "collapsed": true
   },
   "outputs": [],
   "source": [
    "# # Solve model\n",
    "# # print(\"Solving model....\")\n",
    "# msol = mdl.solve(TimeLimit=1000)\n",
    "# # print(\"Solution: \")\n",
    "# msol.print_solution()"
   ]
  }
 ],
 "metadata": {
  "kernelspec": {
   "display_name": "Python 3",
   "language": "python",
   "name": "python3"
  },
  "language_info": {
   "codemirror_mode": {
    "name": "ipython",
    "version": 3
   },
   "file_extension": ".py",
   "mimetype": "text/x-python",
   "name": "python",
   "nbconvert_exporter": "python",
   "pygments_lexer": "ipython3",
   "version": "3.6.3"
  }
 },
 "nbformat": 4,
 "nbformat_minor": 2
}
