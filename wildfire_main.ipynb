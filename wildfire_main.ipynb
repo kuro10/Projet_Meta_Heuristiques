{
 "cells": [
  {
   "cell_type": "code",
   "execution_count": 1,
   "metadata": {},
   "outputs": [],
   "source": [
    "import glob\n",
    "import os\n",
    "import numpy as np\n",
    "import math\n",
    "from DataProcess import *\n",
    "from SolutionChecker import *\n",
    "from LocalSearch import *"
   ]
  },
  {
   "cell_type": "markdown",
   "metadata": {},
   "source": [
    "# Test for Input TD"
   ]
  },
  {
   "cell_type": "code",
   "execution_count": 2,
   "metadata": {
    "collapsed": true
   },
   "outputs": [],
   "source": [
    "data_path = os.path.dirname(os.path.abspath('__file__')) + \"/data/wildfire.data\""
   ]
  },
  {
   "cell_type": "code",
   "execution_count": 3,
   "metadata": {
    "collapsed": true
   },
   "outputs": [],
   "source": [
    "solution_path = os.path.dirname(os.path.abspath('__file__')) + \"/data/wildfire.solution\""
   ]
  },
  {
   "cell_type": "code",
   "execution_count": 4,
   "metadata": {},
   "outputs": [],
   "source": [
    "# print_data(data_path)"
   ]
  },
  {
   "cell_type": "code",
   "execution_count": 5,
   "metadata": {
    "collapsed": true
   },
   "outputs": [],
   "source": [
    "#print_solution(solution_path)"
   ]
  },
  {
   "cell_type": "code",
   "execution_count": 6,
   "metadata": {
    "collapsed": true
   },
   "outputs": [],
   "source": [
    "#verify_solution(data_path,solution_path)"
   ]
  },
  {
   "cell_type": "code",
   "execution_count": 7,
   "metadata": {
    "collapsed": true
   },
   "outputs": [],
   "source": [
    "# EVA_TREE,GRAPH,NB_NODES = read_data(data_path)\n",
    "# NB_EVA_NODES = len(EVA_TREE)\n",
    "# NB_EDGES = len(GRAPH)\n",
    "# LIST_EVA_NODES = [item[0] for item in EVA_TREE]"
   ]
  },
  {
   "cell_type": "code",
   "execution_count": 8,
   "metadata": {
    "collapsed": true
   },
   "outputs": [],
   "source": [
    "# for i in range(NB_EVA_NODES) : \n",
    "#     node_id = EVA_TREE[i][0]\n",
    "#     print('Evacuation of (only) node ',node_id,' is ', get_duration(node_id,EVA_TREE,GRAPH),' mins')"
   ]
  },
  {
   "cell_type": "code",
   "execution_count": 9,
   "metadata": {},
   "outputs": [],
   "source": [
    "# print('Borne inferieur = {} mins'.format(get_borne_inf(LIST_EVA_NODES,EVA_TREE,GRAPH)))"
   ]
  },
  {
   "cell_type": "code",
   "execution_count": 10,
   "metadata": {},
   "outputs": [],
   "source": [
    "# endtime,init_sol= get_borne_sup(LIST_EVA_NODES,EVA_TREE,GRAPH)\n",
    "# print('Borne superieur = {} mins'.format(endtime))\n",
    "# init_sol"
   ]
  },
  {
   "cell_type": "code",
   "execution_count": 11,
   "metadata": {},
   "outputs": [],
   "source": [
    "# cp = cProfile.Profile()\n",
    "# cp.enable()\n",
    "# endtime,best_solution= LocalSearchRun2(init_sol,EVA_TREE,GRAPH,n_iter=10)\n",
    "# cp.disable()\n",
    "# cp.print_stats()"
   ]
  },
  {
   "cell_type": "markdown",
   "metadata": {},
   "source": [
    "# Test for given instances "
   ]
  },
  {
   "cell_type": "code",
   "execution_count": 12,
   "metadata": {
    "collapsed": true
   },
   "outputs": [],
   "source": [
    "# data_path_2 = os.path.dirname(os.path.abspath('__file__')) + \"/InstancesInt/dense_10_30_3_1_I.full\"\n",
    "# EVA_TREE,GRAPH,NB_NODES = read_data(data_path_2)\n",
    "# NB_EVA_NODES = len(EVA_TREE)\n",
    "# NB_EDGES = len(GRAPH)\n",
    "# LIST_EVA_NODES = [item[0] for item in EVA_TREE]"
   ]
  },
  {
   "cell_type": "code",
   "execution_count": 13,
   "metadata": {
    "collapsed": true
   },
   "outputs": [],
   "source": [
    "#print_data(data_path_2)"
   ]
  },
  {
   "cell_type": "code",
   "execution_count": 14,
   "metadata": {},
   "outputs": [],
   "source": [
    "# print('Borne inferieur = {} mins'.format(get_borne_inf(LIST_EVA_NODES,EVA_TREE,GRAPH)))"
   ]
  },
  {
   "cell_type": "code",
   "execution_count": 15,
   "metadata": {},
   "outputs": [],
   "source": [
    "# endtime,init_sol= get_borne_sup(LIST_EVA_NODES,EVA_TREE,GRAPH)\n",
    "# print('Borne superieur = {} mins'.format(endtime))\n",
    "# init_sol"
   ]
  },
  {
   "cell_type": "code",
   "execution_count": 16,
   "metadata": {},
   "outputs": [],
   "source": [
    "# cp = cProfile.Profile()\n",
    "# cp.enable()\n",
    "# endtime,best_solution= LocalSearchRun(init_sol,EVA_TREE,GRAPH,n_iter=10)\n",
    "# cp.disable()\n",
    "# cp.print_stats()"
   ]
  },
  {
   "cell_type": "code",
   "execution_count": 17,
   "metadata": {},
   "outputs": [],
   "source": [
    "# cp = cProfile.Profile()\n",
    "# cp.enable()\n",
    "# endtime,best_solution= LocalSearchRun4(init_sol,EVA_TREE,GRAPH,n_iter=10)\n",
    "# cp.disable()\n",
    "# cp.print_stats()"
   ]
  },
  {
   "cell_type": "code",
   "execution_count": 18,
   "metadata": {
    "collapsed": true
   },
   "outputs": [],
   "source": [
    "# cp = cProfile.Profile()\n",
    "# cp.enable()\n",
    "# best_solution,endtime = LocalSearchRun2(init_sol,EVA_TREE,GRAPH,n_iter=10)\n",
    "# cp.disable()\n",
    "# cp.print_stats()"
   ]
  },
  {
   "cell_type": "code",
   "execution_count": 19,
   "metadata": {},
   "outputs": [],
   "source": [
    "# print('solution = ',best_solution)\n",
    "# print('end time = ',endtime)"
   ]
  },
  {
   "cell_type": "code",
   "execution_count": 20,
   "metadata": {},
   "outputs": [],
   "source": [
    "# cp = cProfile.Profile()\n",
    "# cp.enable()\n",
    "# endtime,best_solution,algo,exc = LocalSearchRandomStart2(EVA_TREE,GRAPH,n_iter=10,n_start_points=5)\n",
    "# create_solution_file3('dense_10_30_3_1_I',best_solution,endtime,algo,exc)\n",
    "# cp.disable()\n",
    "# cp.print_stats()\n",
    "# print('solution = ',best_solution)\n",
    "# print('end time = ',endtime)"
   ]
  },
  {
   "cell_type": "code",
   "execution_count": 21,
   "metadata": {},
   "outputs": [],
   "source": [
    "# create_solution_file('data/wildfire_sup.solution',best_solution,endtime)"
   ]
  },
  {
   "cell_type": "markdown",
   "metadata": {},
   "source": [
    "# Test with due_date problem"
   ]
  },
  {
   "cell_type": "code",
   "execution_count": 22,
   "metadata": {
    "collapsed": true
   },
   "outputs": [],
   "source": [
    "import glob\n",
    "import os\n",
    "import numpy as np\n",
    "import math\n",
    "from DataProcess import *\n",
    "from SolutionChecker import *\n",
    "from LocalSearch import *"
   ]
  },
  {
   "cell_type": "code",
   "execution_count": 43,
   "metadata": {},
   "outputs": [
    {
     "name": "stdout",
     "output_type": "stream",
     "text": [
      "---------------------------Start n.1---------------------------\n",
      "Iteration 0:\n",
      "[344, 275, 285, 359, 279, 268, 323, 163, 384, 227]  =>  192\n",
      "Iteration 1:\n",
      "[285 275 344 359 279 268 323 163 384 227]  =>  180\n",
      "Iteration 2:\n",
      "[285 275 344 359 279 268 323 163 384 227]  =>  180\n",
      "Iteration 3:\n",
      "[285 275 344 359 279 268 323 163 384 227]  =>  180\n",
      "Iteration 4:\n",
      "[285 275 344 359 279 268 323 163 384 227]  =>  180\n",
      "Iteration 5:\n",
      "[285 275 344 359 279 268 323 163 384 227]  =>  180\n",
      "----------------------------------------------------------------\n",
      "solution =  [[285, 71, 0], [275, 70, 0], [344, 71, 11], [359, 70, 10], [279, 71, 13], [268, 132, 26], [323, 71, 46], [163, 70, 61], [384, 71, 69], [227, 71, 113]]\n",
      "end time =  180\n",
      "CREATION TASKS & VERIFY CONSTRAINTS\n",
      "ERROR ON DUE DATE [57-244]\n"
     ]
    },
    {
     "data": {
      "text/plain": [
       "(99999,\n",
       " [[285, 123, 0],\n",
       "  [275, 192, 0],\n",
       "  [359, 174, 7],\n",
       "  [344, 186, 28],\n",
       "  [279, 192, 13],\n",
       "  [268, 192, 26],\n",
       "  [323, 192, 46],\n",
       "  [163, 192, 61],\n",
       "  [384, 174, 69],\n",
       "  [227, 180, 113]])"
      ]
     },
     "execution_count": 43,
     "metadata": {},
     "output_type": "execute_result"
    }
   ],
   "source": [
    "data_path = os.path.dirname(os.path.abspath('__file__')) + \"/InstancesInt/dense_10_30_3_1_I.full\"\n",
    "EVA_TREE,GRAPH,NB_NODES = read_data(data_path)\n",
    "NB_EVA_NODES = len(EVA_TREE)\n",
    "NB_EDGES = len(GRAPH)\n",
    "LIST_EVA_NODES = [item[0] for item in EVA_TREE]\n",
    "\n",
    "#Run a local search to find a solution\n",
    "endtime,best_solution,algo,exc = LocalSearchRandomStart2(EVA_TREE,GRAPH,n_iter=10,n_start_points=1)\n",
    "create_solution_file3('dense_10_30_3_1_I',best_solution,endtime,algo,exc)\n",
    "\n",
    "print('solution = ',best_solution)\n",
    "print('end time = ',endtime)\n",
    "\n",
    "# # verify this solution by our checker\n",
    "# solution_path = os.path.dirname(os.path.abspath('__file__')) + \"/Solutions/dense_10_30_3_1_I.solution\"\n",
    "# verify_solution(data_path,solution_path)\n",
    "\n",
    "check_a_solution(data_path,best_solution)\n",
    "s = create_ordered_list_of(best_solution)\n",
    "get_end_time_3(s,EVA_TREE,GRAPH)"
   ]
  },
  {
   "cell_type": "code",
   "execution_count": null,
   "metadata": {},
   "outputs": [],
   "source": []
  },
  {
   "cell_type": "code",
   "execution_count": null,
   "metadata": {},
   "outputs": [],
   "source": []
  },
  {
   "cell_type": "code",
   "execution_count": null,
   "metadata": {},
   "outputs": [],
   "source": []
  },
  {
   "cell_type": "code",
   "execution_count": 41,
   "metadata": {},
   "outputs": [
    {
     "name": "stdout",
     "output_type": "stream",
     "text": [
      "---------------------------Start n.1---------------------------\n",
      "Iteration 0:\n",
      "[227, 163, 359, 344, 279, 275, 323, 384, 268, 285]  =>  99999\n",
      "Iteration 1:\n",
      "[227 163 285 344 279 275 323 384 268 359]  =>  181\n",
      "Iteration 2:\n",
      "[285 163 227 344 279 275 323 384 268 359]  =>  180\n",
      "Iteration 3:\n",
      "[285 163 227 344 279 275 323 384 268 359]  =>  180\n",
      "Iteration 4:\n",
      "[285 163 227 344 279 275 323 384 268 359]  =>  180\n",
      "Iteration 5:\n",
      "[285 163 227 344 279 275 323 384 268 359]  =>  180\n",
      "Iteration 6:\n",
      "[285 163 227 344 279 275 323 384 268 359]  =>  180\n",
      "----------------------------------------------------------------\n",
      "---------------------------Start n.2---------------------------\n",
      "Iteration 0:\n",
      "[384, 275, 279, 323, 268, 163, 285, 359, 344, 227]  =>  99999\n",
      "Iteration 1:\n",
      "[227 275 279 323 268 163 285 359 344 384]  =>  181\n",
      "Iteration 2:\n",
      "[227 275 279 323 268 163 285 359 344 384]  =>  181\n",
      "Iteration 3:\n",
      "[227 275 279 323 268 163 285 359 344 384]  =>  181\n",
      "Iteration 4:\n",
      "[227 275 279 323 268 163 285 359 344 384]  =>  181\n",
      "Iteration 5:\n",
      "[227 275 279 323 268 163 285 359 344 384]  =>  181\n",
      "----------------------------------------------------------------\n",
      "solution =  [[285, 123, 0], [163, 192, 0], [227, 180, 22], [344, 186, 46], [279, 192, 31], [275, 192, 54], [323, 192, 78], [384, 174, 87], [268, 192, 94], [359, 174, 116]]\n",
      "end time =  180\n",
      "CREATION TASKS & VERIFY CONSTRAINTS\n",
      "227 22\n",
      "344 46\n",
      "323 78\n",
      "268 94\n",
      "275 54\n",
      "279 31\n",
      "359 116\n",
      "384 87\n",
      "163 0\n",
      "285 0\n",
      "-----------------------------\n",
      "CHECK F_OBJECTIF\n",
      "-----------------------------\n",
      "End time is :  180\n",
      "True\n",
      "-----------------------------\n",
      "END\n",
      "-----------------------------\n"
     ]
    },
    {
     "data": {
      "text/plain": [
       "True"
      ]
     },
     "execution_count": 41,
     "metadata": {},
     "output_type": "execute_result"
    }
   ],
   "source": [
    "data_path = os.path.dirname(os.path.abspath('__file__')) + \"/InstancesInt/dense_10_30_3_1_I.full\"\n",
    "EVA_TREE,GRAPH,NB_NODES = read_data(data_path)\n",
    "NB_EVA_NODES = len(EVA_TREE)\n",
    "NB_EDGES = len(GRAPH)\n",
    "LIST_EVA_NODES = [item[0] for item in EVA_TREE]\n",
    "\n",
    "#Run a local search to find a solution\n",
    "endtime,best_solution,algo,exc = LocalSearchRandomStart3(EVA_TREE,GRAPH,n_iter=10,n_start_points=2)\n",
    "create_solution_file3('dense_10_30_3_1_I',best_solution,endtime,algo,exc)\n",
    "\n",
    "print('solution = ',best_solution)\n",
    "print('end time = ',endtime)\n",
    "\n",
    "# verify this solution by our checker\n",
    "solution_path = os.path.dirname(os.path.abspath('__file__')) + \"/Solutions/dense_10_30_3_1_I.solution\"\n",
    "verify_solution(data_path,solution_path)"
   ]
  },
  {
   "cell_type": "code",
   "execution_count": null,
   "metadata": {
    "collapsed": true
   },
   "outputs": [],
   "source": []
  }
 ],
 "metadata": {
  "kernelspec": {
   "display_name": "Python 3",
   "language": "python",
   "name": "python3"
  },
  "language_info": {
   "codemirror_mode": {
    "name": "ipython",
    "version": 3
   },
   "file_extension": ".py",
   "mimetype": "text/x-python",
   "name": "python",
   "nbconvert_exporter": "python",
   "pygments_lexer": "ipython3",
   "version": "3.6.3"
  }
 },
 "nbformat": 4,
 "nbformat_minor": 2
}
