{
 "cells": [
  {
   "cell_type": "code",
   "execution_count": 1,
   "metadata": {
    "collapsed": true
   },
   "outputs": [],
   "source": [
    "import glob\n",
    "import os\n",
    "import numpy as np\n",
    "import math\n",
    "from DataProcess import *\n",
    "from SolutionChecker import *\n",
    "from LocalSearch import *\n",
    "import cProfile \n",
    "import time"
   ]
  },
  {
   "cell_type": "markdown",
   "metadata": {},
   "source": [
    "# Test for Input TD"
   ]
  },
  {
   "cell_type": "code",
   "execution_count": 2,
   "metadata": {
    "collapsed": true
   },
   "outputs": [],
   "source": [
    "data_path = os.path.dirname(os.path.abspath('__file__')) + \"/Instances/inputTD.full\""
   ]
  },
  {
   "cell_type": "code",
   "execution_count": 8,
   "metadata": {
    "collapsed": true
   },
   "outputs": [],
   "source": [
    "solution_path = os.path.dirname(os.path.abspath('__file__')) + \"/Solutions/inputTD.solution\""
   ]
  },
  {
   "cell_type": "code",
   "execution_count": 9,
   "metadata": {},
   "outputs": [
    {
     "name": "stdout",
     "output_type": "stream",
     "text": [
      "-----------------------------\n",
      "evacuation_tree =  [[1, 48, 8, 3, 4, 5, 6], [2, 30, 5, 3, 4, 5, 6], [3, 33, 3, 2, 5, 6]]\n",
      "graph =  [[1, 4, 9223372036854775807, 7, 8], [2, 4, 9223372036854775807, 4, 5], [3, 5, 9223372036854775807, 6, 3], [4, 5, 9223372036854775807, 9, 10], [5, 6, 9223372036854775807, 12, 11]]\n",
      "number of evacuation nodes :  3\n",
      "List of evac nodes :  [1, 2, 3]\n",
      "number of nodes =  6\n",
      "number of edges =  5\n",
      "-----------------------------\n"
     ]
    },
    {
     "data": {
      "text/plain": [
       "0"
      ]
     },
     "execution_count": 9,
     "metadata": {},
     "output_type": "execute_result"
    }
   ],
   "source": [
    "print_data(data_path)"
   ]
  },
  {
   "cell_type": "code",
   "execution_count": 10,
   "metadata": {},
   "outputs": [
    {
     "name": "stdout",
     "output_type": "stream",
     "text": [
      "-----------------------------\n",
      "A solution is : [[1, 8, 3], [2, 5, 0], [3, 3, 0]]\n",
      "f_objectif =  37\n",
      "Nature of solution :  valid\n",
      "-----------------------------\n"
     ]
    },
    {
     "data": {
      "text/plain": [
       "0"
      ]
     },
     "execution_count": 10,
     "metadata": {},
     "output_type": "execute_result"
    }
   ],
   "source": [
    "print_solution(solution_path)"
   ]
  },
  {
   "cell_type": "code",
   "execution_count": 11,
   "metadata": {},
   "outputs": [
    {
     "name": "stdout",
     "output_type": "stream",
     "text": [
      "CREATION TASKS & VERIFY CONSTRAINTS\n",
      "1 3\n",
      "2 0\n",
      "3 0\n",
      "-----------------------------\n",
      "CHECK F_OBJECTIF\n",
      "-----------------------------\n",
      "End time is :  37\n",
      "True\n",
      "-----------------------------\n",
      "END\n",
      "-----------------------------\n"
     ]
    },
    {
     "data": {
      "text/plain": [
       "True"
      ]
     },
     "execution_count": 11,
     "metadata": {},
     "output_type": "execute_result"
    }
   ],
   "source": [
    "verify_solution(data_path,solution_path)"
   ]
  },
  {
   "cell_type": "code",
   "execution_count": 3,
   "metadata": {},
   "outputs": [],
   "source": [
    "EVA_TREE,GRAPH,NB_NODES = read_data(data_path)\n",
    "NB_EVA_NODES = len(EVA_TREE)\n",
    "NB_EDGES = len(GRAPH)\n",
    "LIST_EVA_NODES = [item[0] for item in EVA_TREE]"
   ]
  },
  {
   "cell_type": "code",
   "execution_count": 4,
   "metadata": {},
   "outputs": [
    {
     "name": "stdout",
     "output_type": "stream",
     "text": [
      "Evacuation of (only) node  1  is  34  mins\n",
      "Evacuation of (only) node  2  is  31  mins\n",
      "Evacuation of (only) node  3  is  29  mins\n"
     ]
    }
   ],
   "source": [
    "for i in range(NB_EVA_NODES) : \n",
    "    node_id = EVA_TREE[i][0]\n",
    "    print('Evacuation of (only) node ',node_id,' is ', get_duration(node_id,EVA_TREE,GRAPH),' mins')"
   ]
  },
  {
   "cell_type": "code",
   "execution_count": 5,
   "metadata": {},
   "outputs": [
    {
     "name": "stdout",
     "output_type": "stream",
     "text": [
      "Borne inferieur = 34 mins\n"
     ]
    }
   ],
   "source": [
    "print('Borne inferieur = {} mins'.format(get_borne_inf(LIST_EVA_NODES,EVA_TREE,GRAPH)))"
   ]
  },
  {
   "cell_type": "code",
   "execution_count": 6,
   "metadata": {},
   "outputs": [
    {
     "name": "stdout",
     "output_type": "stream",
     "text": [
      "Borne superieur = 40 mins\n"
     ]
    },
    {
     "data": {
      "text/plain": [
       "[[1, 8, 0], [2, 5, 9], [3, 3, 0]]"
      ]
     },
     "execution_count": 6,
     "metadata": {},
     "output_type": "execute_result"
    }
   ],
   "source": [
    "endtime,init_sol= get_borne_sup(EVA_TREE,GRAPH)\n",
    "print('Borne superieur = {} mins'.format(endtime))\n",
    "init_sol"
   ]
  },
  {
   "cell_type": "code",
   "execution_count": 7,
   "metadata": {},
   "outputs": [
    {
     "name": "stdout",
     "output_type": "stream",
     "text": [
      "Iteration 0:\n",
      "[1, 3, 2]  =>  40\n",
      "Iteration 1:\n",
      "[2 3 1]  =>  37\n",
      "Iteration 2:\n",
      "[2 3 1]  =>  37\n",
      "Iteration 3:\n",
      "[2 3 1]  =>  37\n",
      "Iteration 4:\n",
      "[2 3 1]  =>  37\n",
      "Iteration 5:\n",
      "[2 3 1]  =>  37\n",
      "         5690 function calls (5660 primitive calls) in 0.132 seconds\n",
      "\n",
      "   Ordered by: standard name\n",
      "\n",
      "   ncalls  tottime  percall  cumtime  percall filename:lineno(function)\n",
      "        1    0.000    0.000    0.000    0.000 <ipython-input-7-0b4812f9ac00>:3(<module>)\n",
      "        1    0.000    0.000    0.110    0.110 <ipython-input-7-0b4812f9ac00>:4(<module>)\n",
      "        1    0.000    0.000    0.000    0.000 <ipython-input-7-0b4812f9ac00>:5(<module>)\n",
      "        1    0.000    0.000    0.022    0.022 <ipython-input-7-0b4812f9ac00>:6(<module>)\n",
      "        1    0.000    0.000    0.000    0.000 <ipython-input-7-0b4812f9ac00>:7(<module>)\n",
      "      166    0.002    0.000    0.028    0.000 DataProcess.py:101(get_task)\n",
      "      166    0.001    0.000    0.008    0.000 DataProcess.py:105(<listcomp>)\n",
      "        7    0.000    0.000    0.001    0.000 DataProcess.py:116(create_solution)\n",
      "       21    0.000    0.000    0.001    0.000 DataProcess.py:119(<listcomp>)\n",
      "        7    0.007    0.001    0.090    0.013 DataProcess.py:135(get_end_time)\n",
      "       82    0.034    0.000    0.034    0.000 DataProcess.py:163(<listcomp>)\n",
      "       56    0.019    0.000    0.019    0.000 DataProcess.py:188(<listcomp>)\n",
      "        7    0.000    0.000    0.000    0.000 DataProcess.py:198(<listcomp>)\n",
      "        3    0.000    0.000    0.000    0.000 DataProcess.py:242(find_starttime)\n",
      "        1    0.000    0.000    0.022    0.022 DataProcess.py:250(create_solution_file)\n",
      "       20    0.000    0.000    0.000    0.000 DataProcess.py:40(<lambda>)\n",
      "       40    0.000    0.000    0.000    0.000 DataProcess.py:45(<lambda>)\n",
      "        1    0.000    0.000    0.001    0.001 DataProcess.py:7(read_data)\n",
      "      166    0.001    0.000    0.001    0.000 DataProcess.py:81(get_eva_node_info)\n",
      "      166    0.001    0.000    0.001    0.000 DataProcess.py:82(<listcomp>)\n",
      "      621    0.002    0.000    0.010    0.000 DataProcess.py:90(get_edge_info)\n",
      "      621    0.009    0.000    0.009    0.000 DataProcess.py:92(<listcomp>)\n",
      "        1    0.000    0.000    0.000    0.000 LocalSearch.py:10(<listcomp>)\n",
      "       36    0.000    0.000    0.000    0.000 LocalSearch.py:13(get_conflict_arc)\n",
      "       18    0.001    0.000    0.014    0.001 LocalSearch.py:20(get_non_conflict_list)\n",
      "        6    0.000    0.000    0.015    0.002 LocalSearch.py:50(get_neighbors_of)\n",
      "        1    0.000    0.000    0.110    0.110 LocalSearch.py:64(LocalSearchRun)\n",
      "        1    0.000    0.000    0.000    0.000 LocalSearch.py:8(create_ordered_list_of)\n",
      "        3    0.000    0.000    0.000    0.000 LocalSearch.py:9(<lambda>)\n",
      "        2    0.000    0.000    0.000    0.000 _bootlocale.py:11(getpreferredencoding)\n",
      "        7    0.000    0.000    0.000    0.000 _methods.py:25(_amax)\n",
      "      166    0.000    0.000    0.015    0.000 _methods.py:28(_amin)\n",
      "        5    0.000    0.000    0.000    0.000 arrayprint.py:256(_get_formatdict)\n",
      "        5    0.000    0.000    0.001    0.000 arrayprint.py:259(<lambda>)\n",
      "        5    0.000    0.000    0.001    0.000 arrayprint.py:299(_get_format_function)\n",
      "        5    0.000    0.000    0.002    0.000 arrayprint.py:343(_array2string)\n",
      "    21/11    0.000    0.000    0.002    0.000 arrayprint.py:381(wrapper)\n",
      "    21/11    0.000    0.000    0.002    0.000 arrayprint.py:399(array2string)\n",
      "       15    0.000    0.000    0.000    0.000 arrayprint.py:527(_extendLine)\n",
      "        5    0.000    0.000    0.001    0.000 arrayprint.py:535(_formatArray)\n",
      "        5    0.000    0.000    0.001    0.000 arrayprint.py:712(__init__)\n",
      "       15    0.000    0.000    0.000    0.000 arrayprint.py:725(__call__)\n",
      "        1    0.000    0.000    0.000    0.000 codecs.py:185(__init__)\n",
      "        1    0.000    0.000    0.000    0.000 codecs.py:259(__init__)\n",
      "        5    0.000    0.000    0.000    0.000 codeop.py:132(__call__)\n",
      "       13    0.000    0.000    0.000    0.000 cp1252.py:18(encode)\n",
      "        3    0.000    0.000    0.000    0.000 cp1252.py:22(decode)\n",
      "        5    0.000    0.000    0.000    0.000 fromnumeric.py:1380(ravel)\n",
      "        7    0.000    0.000    0.000    0.000 fromnumeric.py:2174(amax)\n",
      "      166    0.002    0.000    0.017    0.000 fromnumeric.py:2275(amin)\n",
      "      144    0.000    0.000    0.004    0.000 function_base.py:1453(copy)\n",
      "        5    0.000    0.000    0.000    0.000 hooks.py:142(__call__)\n",
      "        5    0.000    0.000    0.000    0.000 hooks.py:207(pre_run_code_hook)\n",
      "        5    0.000    0.000    0.000    0.000 interactiveshell.py:1055(user_global_ns)\n",
      "        5    0.000    0.000    0.132    0.026 interactiveshell.py:2832(run_code)\n",
      "       49    0.002    0.000    0.002    0.000 iostream.py:180(schedule)\n",
      "       48    0.000    0.000    0.000    0.000 iostream.py:284(_is_master_process)\n",
      "       48    0.000    0.000    0.000    0.000 iostream.py:297(_schedule_flush)\n",
      "       48    0.000    0.000    0.003    0.000 iostream.py:342(write)\n",
      "       49    0.000    0.000    0.000    0.000 iostream.py:87(_event_pipe)\n",
      "        5    0.000    0.000    0.000    0.000 ipstruct.py:125(__getattr__)\n",
      "        4    0.000    0.000    0.000    0.000 ntpath.py:121(splitdrive)\n",
      "        2    0.000    0.000    0.000    0.000 ntpath.py:199(split)\n",
      "        2    0.000    0.000    0.000    0.000 ntpath.py:240(dirname)\n",
      "        2    0.000    0.000    0.000    0.000 ntpath.py:33(_get_bothseps)\n",
      "        2    0.000    0.000    0.000    0.000 ntpath.py:471(normpath)\n",
      "        2    0.000    0.000    0.000    0.000 ntpath.py:538(abspath)\n",
      "    21/11    0.000    0.000    0.002    0.000 numeric.py:1905(array_str)\n",
      "       35    0.000    0.000    0.000    0.000 numeric.py:258(full)\n",
      "        5    0.000    0.000    0.000    0.000 numeric.py:463(asarray)\n",
      "        5    0.000    0.000    0.000    0.000 numeric.py:534(asanyarray)\n",
      "       49    0.000    0.000    0.000    0.000 threading.py:1062(_wait_for_tstate_lock)\n",
      "       49    0.000    0.000    0.000    0.000 threading.py:1104(is_alive)\n",
      "       49    0.000    0.000    0.000    0.000 threading.py:506(is_set)\n",
      "        3    0.000    0.000    0.000    0.000 {built-in method _codecs.charmap_decode}\n",
      "       13    0.000    0.000    0.000    0.000 {built-in method _codecs.charmap_encode}\n",
      "        5    0.000    0.000    0.000    0.000 {built-in method _functools.reduce}\n",
      "        2    0.000    0.000    0.000    0.000 {built-in method _locale._getdefaultlocale}\n",
      "       21    0.000    0.000    0.000    0.000 {built-in method _thread.get_ident}\n",
      "        5    0.000    0.000    0.000    0.000 {built-in method builtins.compile}\n",
      "        5    0.000    0.000    0.132    0.026 {built-in method builtins.exec}\n",
      "       21    0.000    0.000    0.000    0.000 {built-in method builtins.id}\n",
      "       61    0.000    0.000    0.000    0.000 {built-in method builtins.isinstance}\n",
      "       15    0.000    0.000    0.000    0.000 {built-in method builtins.issubclass}\n",
      "      265    0.000    0.000    0.000    0.000 {built-in method builtins.len}\n",
      "        5    0.000    0.000    0.000    0.000 {built-in method builtins.max}\n",
      "       12    0.000    0.000    0.005    0.000 {built-in method builtins.print}\n",
      "        1    0.000    0.000    0.000    0.000 {built-in method builtins.sorted}\n",
      "        2    0.015    0.008    0.015    0.008 {built-in method io.open}\n",
      "      166    0.000    0.000    0.000    0.000 {built-in method math.ceil}\n",
      "        2    0.000    0.000    0.000    0.000 {built-in method nt._getfullpathname}\n",
      "       10    0.000    0.000    0.000    0.000 {built-in method nt.fspath}\n",
      "       48    0.000    0.000    0.000    0.000 {built-in method nt.getpid}\n",
      "       49    0.000    0.000    0.000    0.000 {built-in method nt.urandom}\n",
      "      327    0.009    0.000    0.009    0.000 {built-in method numpy.core.multiarray.array}\n",
      "       35    0.000    0.000    0.000    0.000 {built-in method numpy.core.multiarray.copyto}\n",
      "       35    0.000    0.000    0.000    0.000 {built-in method numpy.core.multiarray.empty}\n",
      "        2    0.000    0.000    0.000    0.000 {built-in method time.time}\n",
      "       49    0.000    0.000    0.000    0.000 {method 'acquire' of '_thread.lock' objects}\n",
      "       29    0.000    0.000    0.000    0.000 {method 'add' of 'set' objects}\n",
      "      151    0.000    0.000    0.000    0.000 {method 'append' of 'list' objects}\n",
      "        1    0.006    0.006    0.006    0.006 {method 'close' of '_io.TextIOWrapper' objects}\n",
      "        1    0.000    0.000    0.000    0.000 {method 'disable' of '_lsprof.Profiler' objects}\n",
      "       21    0.000    0.000    0.000    0.000 {method 'discard' of 'set' objects}\n",
      "       29    0.000    0.000    0.000    0.000 {method 'find' of 'str' objects}\n",
      "      646    0.002    0.000    0.002    0.000 {method 'format' of 'str' objects}\n",
      "       16    0.000    0.000    0.000    0.000 {method 'item' of 'numpy.ndarray' objects}\n",
      "        2    0.000    0.000    0.000    0.000 {method 'join' of 'str' objects}\n",
      "        2    0.000    0.000    0.000    0.000 {method 'lstrip' of 'str' objects}\n",
      "        5    0.000    0.000    0.000    0.000 {method 'ravel' of 'numpy.ndarray' objects}\n",
      "      183    0.016    0.000    0.016    0.000 {method 'reduce' of 'numpy.ufunc' objects}\n",
      "        6    0.000    0.000    0.000    0.000 {method 'replace' of 'str' objects}\n",
      "       32    0.000    0.000    0.000    0.000 {method 'rstrip' of 'str' objects}\n",
      "       35    0.000    0.000    0.000    0.000 {method 'setdefault' of 'dict' objects}\n",
      "       17    0.000    0.000    0.000    0.000 {method 'split' of 'str' objects}\n",
      "        4    0.000    0.000    0.000    0.000 {method 'startswith' of 'str' objects}\n",
      "       13    0.000    0.000    0.000    0.000 {method 'write' of '_io.TextIOWrapper' objects}\n",
      "\n",
      "\n"
     ]
    }
   ],
   "source": [
    "cp = cProfile.Profile()\n",
    "cp.enable()\n",
    "exc_time = time.time()\n",
    "endtime,solution= LocalSearchRun(init_sol,EVA_TREE,GRAPH,n_iter=10)\n",
    "exc_time = time.time() - exc_time\n",
    "create_solution_file('inputTD',solution,endtime,\"Local Search Run\",exc_time)\n",
    "cp.disable()\n",
    "cp.print_stats()"
   ]
  },
  {
   "cell_type": "markdown",
   "metadata": {},
   "source": [
    "# Test for given instances "
   ]
  },
  {
   "cell_type": "code",
   "execution_count": 3,
   "metadata": {},
   "outputs": [],
   "source": [
    "data_path_2 = os.path.dirname(os.path.abspath('__file__')) + \"/Instances/dense_10_30_3_1_I.full\"\n",
    "EVA_TREE,GRAPH,NB_NODES = read_data(data_path_2)\n",
    "NB_EVA_NODES = len(EVA_TREE)\n",
    "NB_EDGES = len(GRAPH)\n",
    "LIST_EVA_NODES = [item[0] for item in EVA_TREE]"
   ]
  },
  {
   "cell_type": "code",
   "execution_count": 13,
   "metadata": {
    "collapsed": true
   },
   "outputs": [],
   "source": [
    "#print_data(data_path_2)"
   ]
  },
  {
   "cell_type": "code",
   "execution_count": 4,
   "metadata": {},
   "outputs": [
    {
     "name": "stdout",
     "output_type": "stream",
     "text": [
      "Borne inferieur = 91 mins\n"
     ]
    }
   ],
   "source": [
    "print('Borne inferieur = {} mins'.format(get_borne_inf(LIST_EVA_NODES,EVA_TREE,GRAPH)))"
   ]
  },
  {
   "cell_type": "code",
   "execution_count": 6,
   "metadata": {},
   "outputs": [
    {
     "name": "stdout",
     "output_type": "stream",
     "text": [
      "Borne superieur = 184 mins\n"
     ]
    },
    {
     "data": {
      "text/plain": [
       "[[279, 71, 0],\n",
       " [163, 70, 0],\n",
       " [384, 71, 56],\n",
       " [227, 71, 100],\n",
       " [359, 70, 120],\n",
       " [285, 71, 0],\n",
       " [275, 70, 54],\n",
       " [268, 132, 80],\n",
       " [344, 71, 11],\n",
       " [323, 71, 100]]"
      ]
     },
     "execution_count": 6,
     "metadata": {},
     "output_type": "execute_result"
    }
   ],
   "source": [
    "endtime,init_sol= get_borne_sup(EVA_TREE,GRAPH)\n",
    "print('Borne superieur = {} mins'.format(endtime))\n",
    "init_sol"
   ]
  },
  {
   "cell_type": "code",
   "execution_count": 7,
   "metadata": {},
   "outputs": [
    {
     "name": "stdout",
     "output_type": "stream",
     "text": [
      "Iteration 0:\n",
      "[279, 163, 285, 344, 275, 384, 268, 227, 323, 359]  =>  184\n",
      "Iteration 1:\n",
      "[227 163 285 344 275 384 268 279 323 359]  =>  181\n",
      "Iteration 2:\n",
      "[285 163 227 344 275 384 268 279 323 359]  =>  180\n",
      "Iteration 3:\n",
      "[285 163 227 344 275 384 268 279 323 359]  =>  180\n",
      "Iteration 4:\n",
      "[285 163 227 344 275 384 268 279 323 359]  =>  180\n",
      "Iteration 5:\n",
      "[285 163 227 344 275 384 268 279 323 359]  =>  180\n",
      "Iteration 6:\n",
      "[285 163 227 344 275 384 268 279 323 359]  =>  180\n",
      "         3114559 function calls (3114523 primitive calls) in 62.729 seconds\n",
      "\n",
      "   Ordered by: standard name\n",
      "\n",
      "   ncalls  tottime  percall  cumtime  percall filename:lineno(function)\n",
      "        1    0.000    0.000   62.729   62.729 <ipython-input-7-a1c5c073a1a3>:3(<module>)\n",
      "        1    0.000    0.000    0.000    0.000 <ipython-input-7-a1c5c073a1a3>:4(<module>)\n",
      "    11135    0.155    0.000   13.465    0.001 DataProcess.py:101(get_task)\n",
      "    11135    0.290    0.000   12.731    0.001 DataProcess.py:105(<listcomp>)\n",
      "      148    0.006    0.000    1.458    0.010 DataProcess.py:116(create_solution)\n",
      "     1480    0.360    0.000    1.451    0.001 DataProcess.py:119(<listcomp>)\n",
      "      148    2.819    0.019   61.082    0.413 DataProcess.py:135(get_end_time)\n",
      "   138993   26.636    0.000   26.636    0.000 DataProcess.py:163(<listcomp>)\n",
      "    39072    7.532    0.000    7.532    0.000 DataProcess.py:188(<listcomp>)\n",
      "      148    0.009    0.000    0.009    0.000 DataProcess.py:198(<listcomp>)\n",
      "    11135    0.035    0.000    0.098    0.000 DataProcess.py:81(get_eva_node_info)\n",
      "    11135    0.064    0.000    0.064    0.000 DataProcess.py:82(<listcomp>)\n",
      "   484272    0.706    0.000   21.369    0.000 DataProcess.py:90(get_edge_info)\n",
      "   288323   10.077    0.000   10.077    0.000 DataProcess.py:92(<listcomp>)\n",
      "   195949   10.586    0.000   10.586    0.000 DataProcess.py:94(<listcomp>)\n",
      "        1    0.000    0.000    0.000    0.000 LocalSearch.py:10(<listcomp>)\n",
      "      630    0.023    0.000    0.023    0.000 LocalSearch.py:13(get_conflict_arc)\n",
      "       70    0.010    0.000    1.621    0.023 LocalSearch.py:20(get_non_conflict_list)\n",
      "        7    0.002    0.000    1.625    0.232 LocalSearch.py:50(get_neighbors_of)\n",
      "        1    0.018    0.018   62.729   62.729 LocalSearch.py:64(LocalSearchRun)\n",
      "        1    0.000    0.000    0.000    0.000 LocalSearch.py:8(create_ordered_list_of)\n",
      "       10    0.000    0.000    0.000    0.000 LocalSearch.py:9(<lambda>)\n",
      "      148    0.000    0.000    0.010    0.000 _methods.py:25(_amax)\n",
      "    11135    0.013    0.000    0.339    0.000 _methods.py:28(_amin)\n",
      "        6    0.000    0.000    0.000    0.000 arrayprint.py:256(_get_formatdict)\n",
      "        6    0.000    0.000    0.001    0.000 arrayprint.py:259(<lambda>)\n",
      "        6    0.000    0.000    0.001    0.000 arrayprint.py:299(_get_format_function)\n",
      "        6    0.000    0.000    0.002    0.000 arrayprint.py:343(_array2string)\n",
      "    25/13    0.000    0.000    0.002    0.000 arrayprint.py:381(wrapper)\n",
      "    25/13    0.000    0.000    0.002    0.000 arrayprint.py:399(array2string)\n",
      "       60    0.000    0.000    0.000    0.000 arrayprint.py:527(_extendLine)\n",
      "        6    0.000    0.000    0.001    0.000 arrayprint.py:535(_formatArray)\n",
      "        6    0.000    0.000    0.001    0.000 arrayprint.py:712(__init__)\n",
      "       60    0.001    0.000    0.001    0.000 arrayprint.py:725(__call__)\n",
      "        2    0.000    0.000    0.000    0.000 codeop.py:132(__call__)\n",
      "        6    0.000    0.000    0.000    0.000 fromnumeric.py:1380(ravel)\n",
      "      148    0.002    0.000    0.012    0.000 fromnumeric.py:2174(amax)\n",
      "    11135    0.115    0.000    0.454    0.000 fromnumeric.py:2275(amin)\n",
      "   178212    0.107    0.000    0.701    0.000 function_base.py:1453(copy)\n",
      "        2    0.000    0.000    0.000    0.000 hooks.py:142(__call__)\n",
      "        2    0.000    0.000    0.000    0.000 hooks.py:207(pre_run_code_hook)\n",
      "        2    0.000    0.000    0.000    0.000 interactiveshell.py:1055(user_global_ns)\n",
      "        2    0.000    0.000   62.729   31.365 interactiveshell.py:2832(run_code)\n",
      "       63    0.002    0.000    0.002    0.000 iostream.py:180(schedule)\n",
      "       56    0.000    0.000    0.000    0.000 iostream.py:284(_is_master_process)\n",
      "       56    0.000    0.000    0.000    0.000 iostream.py:297(_schedule_flush)\n",
      "       56    0.000    0.000    0.003    0.000 iostream.py:342(write)\n",
      "       63    0.000    0.000    0.000    0.000 iostream.py:87(_event_pipe)\n",
      "        2    0.000    0.000    0.000    0.000 ipstruct.py:125(__getattr__)\n",
      "    25/13    0.000    0.000    0.002    0.000 numeric.py:1905(array_str)\n",
      "    18648    0.027    0.000    0.111    0.000 numeric.py:258(full)\n",
      "        6    0.000    0.000    0.000    0.000 numeric.py:463(asarray)\n",
      "        6    0.000    0.000    0.000    0.000 numeric.py:534(asanyarray)\n",
      "       63    0.000    0.000    0.000    0.000 threading.py:1062(_wait_for_tstate_lock)\n",
      "       63    0.000    0.000    0.000    0.000 threading.py:1104(is_alive)\n",
      "       63    0.000    0.000    0.000    0.000 threading.py:506(is_set)\n",
      "        6    0.000    0.000    0.000    0.000 {built-in method _functools.reduce}\n",
      "       25    0.000    0.000    0.000    0.000 {built-in method _thread.get_ident}\n",
      "        2    0.000    0.000    0.000    0.000 {built-in method builtins.compile}\n",
      "        2    0.000    0.000   62.729   31.365 {built-in method builtins.exec}\n",
      "       25    0.000    0.000    0.000    0.000 {built-in method builtins.id}\n",
      "       62    0.000    0.000    0.000    0.000 {built-in method builtins.isinstance}\n",
      "       18    0.000    0.000    0.000    0.000 {built-in method builtins.issubclass}\n",
      "   147255    0.044    0.000    0.044    0.000 {built-in method builtins.len}\n",
      "        6    0.000    0.000    0.000    0.000 {built-in method builtins.max}\n",
      "       14    0.000    0.000    0.005    0.000 {built-in method builtins.print}\n",
      "        1    0.000    0.000    0.000    0.000 {built-in method builtins.sorted}\n",
      "    11135    0.027    0.000    0.027    0.000 {built-in method math.ceil}\n",
      "       56    0.000    0.000    0.000    0.000 {built-in method nt.getpid}\n",
      "       63    0.000    0.000    0.000    0.000 {built-in method nt.urandom}\n",
      "   374937    1.091    0.000    1.091    0.000 {built-in method numpy.core.multiarray.array}\n",
      "    18648    0.034    0.000    0.034    0.000 {built-in method numpy.core.multiarray.copyto}\n",
      "    18648    0.039    0.000    0.039    0.000 {built-in method numpy.core.multiarray.empty}\n",
      "       63    0.000    0.000    0.000    0.000 {method 'acquire' of '_thread.lock' objects}\n",
      "       25    0.000    0.000    0.000    0.000 {method 'add' of 'set' objects}\n",
      "     7073    0.001    0.000    0.001    0.000 {method 'append' of 'list' objects}\n",
      "        1    0.000    0.000    0.000    0.000 {method 'disable' of '_lsprof.Profiler' objects}\n",
      "       25    0.000    0.000    0.000    0.000 {method 'discard' of 'set' objects}\n",
      "  1092416    1.553    0.000    1.553    0.000 {method 'format' of 'str' objects}\n",
      "       19    0.000    0.000    0.000    0.000 {method 'item' of 'numpy.ndarray' objects}\n",
      "        6    0.000    0.000    0.000    0.000 {method 'ravel' of 'numpy.ndarray' objects}\n",
      "    11295    0.337    0.000    0.337    0.000 {method 'reduce' of 'numpy.ufunc' objects}\n",
      "      120    0.000    0.000    0.000    0.000 {method 'rstrip' of 'str' objects}\n",
      "    18648    0.008    0.000    0.008    0.000 {method 'setdefault' of 'dict' objects}\n",
      "\n",
      "\n",
      "solution =  [[285, 71, 0], [163, 70, 0], [227, 71, 22], [344, 71, 46], [275, 70, 54], [384, 71, 57], [268, 132, 80], [279, 71, 72], [323, 71, 100], [359, 70, 116]]\n",
      "end time =  180\n"
     ]
    }
   ],
   "source": [
    "cp = cProfile.Profile()\n",
    "cp.enable()\n",
    "endtime,best_solution= LocalSearchRun(init_sol,EVA_TREE,GRAPH,n_iter=10)\n",
    "cp.disable()\n",
    "cp.print_stats()\n",
    "print('solution = ',best_solution)\n",
    "print('end time = ',endtime)"
   ]
  },
  {
   "cell_type": "code",
   "execution_count": 19,
   "metadata": {
    "collapsed": true
   },
   "outputs": [],
   "source": [
    "cp = cProfile.Profile()\n",
    "cp.enable()\n",
    "endtime,best_solution,algo,exc = LocalSearchRandomStart(EVA_TREE,GRAPH,n_iter=10,n_start_points=5)\n",
    "create_solution_file('dense_10_30_3_1_I',best_solution,endtime,algo,exc)\n",
    "cp.disable()\n",
    "cp.print_stats()\n",
    "print('solution = ',best_solution)\n",
    "print('end time = ',endtime)"
   ]
  },
  {
   "cell_type": "markdown",
   "metadata": {},
   "source": [
    "# Test with due_date problem"
   ]
  },
  {
   "cell_type": "code",
   "execution_count": null,
   "metadata": {
    "collapsed": true
   },
   "outputs": [],
   "source": [
    "# We are thinking about it...."
   ]
  }
 ],
 "metadata": {
  "kernelspec": {
   "display_name": "Python 3",
   "language": "python",
   "name": "python3"
  },
  "language_info": {
   "codemirror_mode": {
    "name": "ipython",
    "version": 3
   },
   "file_extension": ".py",
   "mimetype": "text/x-python",
   "name": "python",
   "nbconvert_exporter": "python",
   "pygments_lexer": "ipython3",
   "version": "3.6.3"
  }
 },
 "nbformat": 4,
 "nbformat_minor": 2
}
