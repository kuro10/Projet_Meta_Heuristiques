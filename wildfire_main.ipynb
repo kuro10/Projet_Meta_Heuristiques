{
 "cells": [
  {
   "cell_type": "code",
   "execution_count": 1,
   "metadata": {},
   "outputs": [],
   "source": [
    "import glob\n",
    "import os\n",
    "import numpy as np\n",
    "import math\n",
    "from DataProcess import *\n",
    "from SolutionChecker import *\n",
    "from LocalSearch import *\n",
    "import cProfile"
   ]
  },
  {
   "cell_type": "code",
   "execution_count": 2,
   "metadata": {},
   "outputs": [],
   "source": [
    "data_path = os.path.dirname(os.path.abspath('__file__')) + \"/data/inputTD\""
   ]
  },
  {
   "cell_type": "code",
   "execution_count": 3,
   "metadata": {},
   "outputs": [],
   "source": [
    "solution_path = os.path.dirname(os.path.abspath('__file__')) + \"/data/wildfire.solution\""
   ]
  },
  {
   "cell_type": "code",
   "execution_count": 4,
   "metadata": {},
   "outputs": [
    {
     "name": "stdout",
     "output_type": "stream",
     "text": [
      "-----------------------------\n",
      "evacuation_tree =  [[1, 48, 8, 3, 4, 5, 6], [2, 30, 5, 3, 4, 5, 6], [3, 33, 3, 2, 5, 6]]\n",
      "graph =  [[1, 4, 13, 7, 8], [2, 4, 26, 4, 5], [3, 5, 28, 6, 3], [4, 5, 33, 9, 10], [5, 6, 46, 12, 11]]\n",
      "number of evacuation nodes :  3\n",
      "List of evac nodes :  [1, 2, 3]\n",
      "number of nodes =  6\n",
      "number of edges =  5\n",
      "-----------------------------\n"
     ]
    },
    {
     "data": {
      "text/plain": [
       "0"
      ]
     },
     "execution_count": 4,
     "metadata": {},
     "output_type": "execute_result"
    }
   ],
   "source": [
    "print_data(data_path)"
   ]
  },
  {
   "cell_type": "code",
   "execution_count": 6,
   "metadata": {},
   "outputs": [],
   "source": [
    "#print_solution(solution_path)"
   ]
  },
  {
   "cell_type": "code",
   "execution_count": 7,
   "metadata": {},
   "outputs": [],
   "source": [
    "#verify_solution(data_path,solution_path)"
   ]
  },
  {
   "cell_type": "code",
   "execution_count": 8,
   "metadata": {},
   "outputs": [],
   "source": [
    "EVA_TREE,GRAPH,NB_NODES = read_data(data_path)\n",
    "NB_EVA_NODES = len(EVA_TREE)\n",
    "NB_EDGES = len(GRAPH)\n",
    "LIST_EVA_NODES = [item[0] for item in EVA_TREE]"
   ]
  },
  {
   "cell_type": "code",
   "execution_count": 9,
   "metadata": {},
   "outputs": [],
   "source": [
    "# for i in range(NB_EVA_NODES) : \n",
    "#     node_id = EVA_TREE[i][0]\n",
    "#     print('Evacuation of (only) node ',node_id,' is ', get_duration(node_id,EVA_TREE,GRAPH),' mins')"
   ]
  },
  {
   "cell_type": "code",
   "execution_count": 10,
   "metadata": {},
   "outputs": [
    {
     "name": "stdout",
     "output_type": "stream",
     "text": [
      "[34, 31, 29]\n",
      "Borne inferieur = 34 mins\n"
     ]
    }
   ],
   "source": [
    "print('Borne inferieur = {} mins'.format(get_borne_inf(LIST_EVA_NODES,EVA_TREE,GRAPH)))"
   ]
  },
  {
   "cell_type": "code",
   "execution_count": 11,
   "metadata": {},
   "outputs": [
    {
     "name": "stdout",
     "output_type": "stream",
     "text": [
      "Borne superieur = 40 mins\n"
     ]
    },
    {
     "data": {
      "text/plain": [
       "[[1, 8, 0], [2, 5, 9], [3, 3, 0]]"
      ]
     },
     "execution_count": 11,
     "metadata": {},
     "output_type": "execute_result"
    }
   ],
   "source": [
    "endtime,init_sol= get_borne_sup(LIST_EVA_NODES,EVA_TREE,GRAPH)\n",
    "print('Borne superieur = {} mins'.format(endtime))\n",
    "init_sol"
   ]
  },
  {
   "cell_type": "code",
   "execution_count": 12,
   "metadata": {},
   "outputs": [
    {
     "name": "stdout",
     "output_type": "stream",
     "text": [
      "Iteration 0:\n",
      "[1, 3, 2]  =>  40\n",
      "Iteration 1:\n",
      "[2 3 1]  =>  37\n",
      "Iteration 2:\n",
      "[2 3 1]  =>  37\n",
      "Iteration 3:\n",
      "[2 3 1]  =>  37\n",
      "Iteration 4:\n",
      "[2 3 1]  =>  37\n",
      "Iteration 5:\n",
      "[2 3 1]  =>  37\n",
      "         4832 function calls (4817 primitive calls) in 0.017 seconds\n",
      "\n",
      "   Ordered by: standard name\n",
      "\n",
      "   ncalls  tottime  percall  cumtime  percall filename:lineno(function)\n",
      "        1    0.000    0.000    0.016    0.016 <ipython-input-12-368d4457975d>:3(<module>)\n",
      "        1    0.000    0.000    0.000    0.000 <ipython-input-12-368d4457975d>:4(<module>)\n",
      "      129    0.001    0.000    0.004    0.000 DataProcess.py:105(get_task)\n",
      "      129    0.000    0.000    0.002    0.000 DataProcess.py:109(<listcomp>)\n",
      "        7    0.000    0.000    0.000    0.000 DataProcess.py:124(create_solution)\n",
      "       21    0.000    0.000    0.000    0.000 DataProcess.py:127(<listcomp>)\n",
      "        7    0.001    0.000    0.011    0.002 DataProcess.py:146(get_end_time)\n",
      "       69    0.007    0.000    0.007    0.000 DataProcess.py:175(<listcomp>)\n",
      "        7    0.000    0.000    0.000    0.000 DataProcess.py:200(<listcomp>)\n",
      "      129    0.000    0.000    0.000    0.000 DataProcess.py:84(get_eva_node_info)\n",
      "      129    0.000    0.000    0.000    0.000 DataProcess.py:85(<listcomp>)\n",
      "      436    0.000    0.000    0.002    0.000 DataProcess.py:94(get_edge_info)\n",
      "      436    0.002    0.000    0.002    0.000 DataProcess.py:96(<listcomp>)\n",
      "        1    0.000    0.000    0.000    0.000 LocalSearch.py:10(<listcomp>)\n",
      "        1    0.000    0.000    0.016    0.016 LocalSearch.py:119(LocalSearchRun2)\n",
      "       36    0.000    0.000    0.000    0.000 LocalSearch.py:13(get_conflict_arc)\n",
      "       18    0.000    0.000    0.004    0.000 LocalSearch.py:20(get_non_conflict_list)\n",
      "        6    0.000    0.000    0.004    0.001 LocalSearch.py:75(get_neighbors_of2)\n",
      "        1    0.000    0.000    0.000    0.000 LocalSearch.py:8(create_ordered_list_of)\n",
      "        3    0.000    0.000    0.000    0.000 LocalSearch.py:9(<lambda>)\n",
      "        5    0.000    0.000    0.000    0.000 arrayprint.py:1110(__init__)\n",
      "       15    0.000    0.000    0.000    0.000 arrayprint.py:1118(__call__)\n",
      "        5    0.000    0.000    0.001    0.000 arrayprint.py:1457(array_str)\n",
      "        5    0.000    0.000    0.000    0.000 arrayprint.py:348(_get_formatdict)\n",
      "        5    0.000    0.000    0.000    0.000 arrayprint.py:356(<lambda>)\n",
      "        5    0.000    0.000    0.000    0.000 arrayprint.py:401(_get_format_function)\n",
      "        5    0.000    0.000    0.000    0.000 arrayprint.py:453(wrapper)\n",
      "        5    0.000    0.000    0.000    0.000 arrayprint.py:470(_array2string)\n",
      "        5    0.000    0.000    0.001    0.000 arrayprint.py:499(array2string)\n",
      "        5    0.000    0.000    0.000    0.000 arrayprint.py:67(_make_options_dict)\n",
      "       15    0.000    0.000    0.000    0.000 arrayprint.py:671(_extendLine)\n",
      "        5    0.000    0.000    0.000    0.000 arrayprint.py:685(_formatArray)\n",
      "     20/5    0.000    0.000    0.000    0.000 arrayprint.py:694(recurser)\n",
      "        5    0.000    0.000    0.000    0.000 arrayprint.py:72(<dictcomp>)\n",
      "        2    0.000    0.000    0.000    0.000 codeop.py:132(__call__)\n",
      "       12    0.000    0.000    0.000    0.000 fromnumeric.py:2227(amax)\n",
      "      134    0.000    0.000    0.002    0.000 fromnumeric.py:2337(amin)\n",
      "      146    0.000    0.000    0.002    0.000 fromnumeric.py:64(_wrapreduction)\n",
      "       75    0.000    0.000    0.001    0.000 function_base.py:689(copy)\n",
      "        2    0.000    0.000    0.000    0.000 hooks.py:142(__call__)\n",
      "        2    0.000    0.000    0.000    0.000 hooks.py:207(pre_run_code_hook)\n",
      "        2    0.000    0.000    0.000    0.000 interactiveshell.py:1104(user_global_ns)\n",
      "        2    0.000    0.000    0.016    0.008 interactiveshell.py:2933(run_code)\n",
      "       49    0.000    0.000    0.001    0.000 iostream.py:195(schedule)\n",
      "       48    0.000    0.000    0.000    0.000 iostream.py:300(_is_master_process)\n",
      "       48    0.000    0.000    0.000    0.000 iostream.py:313(_schedule_flush)\n",
      "       48    0.000    0.000    0.001    0.000 iostream.py:366(write)\n",
      "       49    0.000    0.000    0.000    0.000 iostream.py:93(_event_pipe)\n",
      "        2    0.000    0.000    0.000    0.000 ipstruct.py:125(__getattr__)\n",
      "       35    0.000    0.000    0.000    0.000 numeric.py:268(full)\n",
      "        5    0.000    0.000    0.000    0.000 numeric.py:433(asarray)\n",
      "       49    0.000    0.000    0.000    0.000 socket.py:333(send)\n",
      "       49    0.000    0.000    0.000    0.000 threading.py:1062(_wait_for_tstate_lock)\n",
      "       49    0.000    0.000    0.000    0.000 threading.py:1104(is_alive)\n",
      "       49    0.000    0.000    0.000    0.000 threading.py:506(is_set)\n",
      "        5    0.000    0.000    0.000    0.000 {built-in method _thread.get_ident}\n",
      "        2    0.000    0.000    0.000    0.000 {built-in method builtins.compile}\n",
      "        2    0.000    0.000    0.016    0.008 {built-in method builtins.exec}\n",
      "      136    0.000    0.000    0.000    0.000 {built-in method builtins.getattr}\n",
      "        5    0.000    0.000    0.000    0.000 {built-in method builtins.id}\n",
      "       48    0.000    0.000    0.000    0.000 {built-in method builtins.isinstance}\n",
      "       15    0.000    0.000    0.000    0.000 {built-in method builtins.issubclass}\n",
      "      324    0.000    0.000    0.000    0.000 {built-in method builtins.len}\n",
      "        5    0.000    0.000    0.000    0.000 {built-in method builtins.locals}\n",
      "       10    0.000    0.000    0.000    0.000 {built-in method builtins.max}\n",
      "       12    0.000    0.000    0.001    0.000 {built-in method builtins.print}\n",
      "        1    0.000    0.000    0.000    0.000 {built-in method builtins.sorted}\n",
      "      129    0.000    0.000    0.000    0.000 {built-in method math.ceil}\n",
      "      184    0.001    0.000    0.001    0.000 {built-in method numpy.core.multiarray.array}\n",
      "       35    0.000    0.000    0.000    0.000 {built-in method numpy.core.multiarray.copyto}\n",
      "       35    0.000    0.000    0.000    0.000 {built-in method numpy.core.multiarray.empty}\n",
      "       48    0.000    0.000    0.000    0.000 {built-in method posix.getpid}\n",
      "       49    0.000    0.000    0.000    0.000 {method 'acquire' of '_thread.lock' objects}\n",
      "        5    0.000    0.000    0.000    0.000 {method 'add' of 'set' objects}\n",
      "       49    0.000    0.000    0.000    0.000 {method 'append' of 'collections.deque' objects}\n",
      "      135    0.000    0.000    0.000    0.000 {method 'append' of 'list' objects}\n",
      "        5    0.000    0.000    0.000    0.000 {method 'copy' of 'dict' objects}\n",
      "        1    0.000    0.000    0.000    0.000 {method 'disable' of '_lsprof.Profiler' objects}\n",
      "        5    0.000    0.000    0.000    0.000 {method 'discard' of 'set' objects}\n",
      "      655    0.000    0.000    0.000    0.000 {method 'format' of 'str' objects}\n",
      "      151    0.000    0.000    0.000    0.000 {method 'items' of 'dict' objects}\n",
      "        5    0.000    0.000    0.000    0.000 {method 'pop' of 'dict' objects}\n",
      "      146    0.001    0.000    0.001    0.000 {method 'reduce' of 'numpy.ufunc' objects}\n",
      "        5    0.000    0.000    0.000    0.000 {method 'rstrip' of 'str' objects}\n",
      "       91    0.000    0.000    0.000    0.000 {method 'setdefault' of 'dict' objects}\n",
      "        5    0.000    0.000    0.000    0.000 {method 'update' of 'dict' objects}\n",
      "\n",
      "\n"
     ]
    }
   ],
   "source": [
    "cp = cProfile.Profile()\n",
    "cp.enable()\n",
    "endtime,best_solution= LocalSearchRun2(init_sol,EVA_TREE,GRAPH,n_iter=10)\n",
    "cp.disable()\n",
    "cp.print_stats()"
   ]
  },
  {
   "cell_type": "code",
   "execution_count": 5,
   "metadata": {},
   "outputs": [],
   "source": [
    "data_path_2 = os.path.dirname(os.path.abspath('__file__')) + \"/InstancesInt/dense_10_30_3_1_I.full\"\n",
    "EVA_TREE,GRAPH,NB_NODES = read_data(data_path_2)\n",
    "NB_EVA_NODES = len(EVA_TREE)\n",
    "NB_EDGES = len(GRAPH)\n",
    "LIST_EVA_NODES = [item[0] for item in EVA_TREE]"
   ]
  },
  {
   "cell_type": "code",
   "execution_count": 14,
   "metadata": {},
   "outputs": [],
   "source": [
    "#print_data(data_path_2)"
   ]
  },
  {
   "cell_type": "code",
   "execution_count": 7,
   "metadata": {},
   "outputs": [
    {
     "name": "stdout",
     "output_type": "stream",
     "text": [
      "[67, 46, 41, 47, 51, 91, 64, 76, 80, 54]\n",
      "Borne inferieur = 91 mins\n"
     ]
    }
   ],
   "source": [
    "print('Borne inferieur = {} mins'.format(get_borne_inf(LIST_EVA_NODES,EVA_TREE,GRAPH)))"
   ]
  },
  {
   "cell_type": "code",
   "execution_count": 9,
   "metadata": {},
   "outputs": [
    {
     "name": "stdout",
     "output_type": "stream",
     "text": [
      "Borne superieur = 196 mins\n"
     ]
    },
    {
     "data": {
      "text/plain": [
       "[[359, 70, 0],\n",
       " [275, 70, 0],\n",
       " [279, 71, 3],\n",
       " [384, 71, 59],\n",
       " [285, 71, 104],\n",
       " [163, 70, 25],\n",
       " [323, 71, 78],\n",
       " [344, 71, 115],\n",
       " [227, 71, 129],\n",
       " [268, 132, 94]]"
      ]
     },
     "execution_count": 9,
     "metadata": {},
     "output_type": "execute_result"
    }
   ],
   "source": [
    "endtime,init_sol= get_borne_sup(LIST_EVA_NODES,EVA_TREE,GRAPH)\n",
    "print('Borne superieur = {} mins'.format(endtime))\n",
    "init_sol"
   ]
  },
  {
   "cell_type": "code",
   "execution_count": 31,
   "metadata": {},
   "outputs": [
    {
     "name": "stdout",
     "output_type": "stream",
     "text": [
      "Iteration 0:\n",
      "[268, 359, 279, 275, 323, 163, 285, 384, 227, 344]  =>  196\n",
      "Iteration 1:\n",
      "[285 359 279 275 323 163 268 384 227 344]  =>  180\n",
      "Iteration 2:\n",
      "[285 359 279 275 323 163 268 384 227 344]  =>  180\n",
      "Iteration 3:\n",
      "[285 359 279 275 323 163 268 384 227 344]  =>  180\n",
      "Iteration 4:\n",
      "[285 359 279 275 323 163 268 384 227 344]  =>  180\n",
      "Iteration 5:\n",
      "[285 359 279 275 323 163 268 384 227 344]  =>  180\n",
      "         5610110 function calls (5610060 primitive calls) in 8.312 seconds\n",
      "\n",
      "   Ordered by: standard name\n",
      "\n",
      "   ncalls  tottime  percall  cumtime  percall filename:lineno(function)\n",
      "        1    0.000    0.000    8.312    8.312 <ipython-input-31-384d44187790>:3(<module>)\n",
      "        1    0.000    0.000    0.000    0.000 <ipython-input-31-384d44187790>:4(<module>)\n",
      "     2710    0.015    0.000    1.195    0.000 DataProcess.py:102(get_task)\n",
      "     2710    0.023    0.000    1.128    0.000 DataProcess.py:106(<listcomp>)\n",
      "      271    0.002    0.000    0.515    0.002 DataProcess.py:121(create_solution)\n",
      "     2710    0.123    0.000    0.512    0.000 DataProcess.py:124(<listcomp>)\n",
      "      271    1.084    0.004    8.298    0.031 DataProcess.py:143(get_end_time)\n",
      "    86848    2.750    0.000    2.750    0.000 DataProcess.py:172(<listcomp>)\n",
      "      271    0.005    0.000    0.005    0.000 DataProcess.py:196(<listcomp>)\n",
      "     2710    0.003    0.000    0.010    0.000 DataProcess.py:81(get_eva_node_info)\n",
      "     2710    0.006    0.000    0.006    0.000 DataProcess.py:82(<listcomp>)\n",
      "   143088    0.081    0.000    2.244    0.000 DataProcess.py:91(get_edge_info)\n",
      "    88346    1.168    0.000    1.168    0.000 DataProcess.py:93(<listcomp>)\n",
      "    54742    0.994    0.000    0.994    0.000 DataProcess.py:95(<listcomp>)\n",
      "        6    0.000    0.000    0.001    0.000 LocalSearch.py:57(get_neighbors_of)\n",
      "        1    0.000    0.000    0.000    0.000 LocalSearch.py:7(create_ordered_list_of)\n",
      "       10    0.000    0.000    0.000    0.000 LocalSearch.py:8(<lambda>)\n",
      "        1    0.010    0.010    8.312    8.312 LocalSearch.py:80(LocalSearchRun)\n",
      "        1    0.000    0.000    0.000    0.000 LocalSearch.py:9(<listcomp>)\n",
      "        5    0.000    0.000    0.000    0.000 arrayprint.py:1110(__init__)\n",
      "       50    0.000    0.000    0.000    0.000 arrayprint.py:1118(__call__)\n",
      "        5    0.000    0.000    0.001    0.000 arrayprint.py:1457(array_str)\n",
      "        5    0.000    0.000    0.000    0.000 arrayprint.py:348(_get_formatdict)\n",
      "        5    0.000    0.000    0.000    0.000 arrayprint.py:356(<lambda>)\n",
      "        5    0.000    0.000    0.000    0.000 arrayprint.py:401(_get_format_function)\n",
      "        5    0.000    0.000    0.001    0.000 arrayprint.py:453(wrapper)\n",
      "        5    0.000    0.000    0.001    0.000 arrayprint.py:470(_array2string)\n",
      "        5    0.000    0.000    0.001    0.000 arrayprint.py:499(array2string)\n",
      "        5    0.000    0.000    0.000    0.000 arrayprint.py:67(_make_options_dict)\n",
      "       50    0.000    0.000    0.000    0.000 arrayprint.py:671(_extendLine)\n",
      "        5    0.000    0.000    0.000    0.000 arrayprint.py:685(_formatArray)\n",
      "     55/5    0.000    0.000    0.000    0.000 arrayprint.py:694(recurser)\n",
      "        5    0.000    0.000    0.000    0.000 arrayprint.py:72(<dictcomp>)\n",
      "        2    0.000    0.000    0.000    0.000 codeop.py:132(__call__)\n",
      "      276    0.000    0.000    0.008    0.000 fromnumeric.py:2227(amax)\n",
      "     2715    0.004    0.000    0.041    0.000 fromnumeric.py:2337(amin)\n",
      "     2991    0.010    0.000    0.044    0.000 fromnumeric.py:64(_wrapreduction)\n",
      "    87118    0.023    0.000    0.155    0.000 function_base.py:689(copy)\n",
      "        2    0.000    0.000    0.000    0.000 hooks.py:142(__call__)\n",
      "        2    0.000    0.000    0.000    0.000 hooks.py:207(pre_run_code_hook)\n",
      "        2    0.000    0.000    0.000    0.000 interactiveshell.py:1104(user_global_ns)\n",
      "        2    0.000    0.000    8.312    4.156 interactiveshell.py:2933(run_code)\n",
      "       54    0.000    0.000    0.001    0.000 iostream.py:195(schedule)\n",
      "       48    0.000    0.000    0.000    0.000 iostream.py:300(_is_master_process)\n",
      "       48    0.000    0.000    0.000    0.000 iostream.py:313(_schedule_flush)\n",
      "       48    0.000    0.000    0.001    0.000 iostream.py:366(write)\n",
      "       54    0.000    0.000    0.000    0.000 iostream.py:93(_event_pipe)\n",
      "        2    0.000    0.000    0.000    0.000 ipstruct.py:125(__getattr__)\n",
      "    34146    0.020    0.000    0.091    0.000 numeric.py:268(full)\n",
      "        5    0.000    0.000    0.000    0.000 numeric.py:433(asarray)\n",
      "       54    0.000    0.000    0.000    0.000 socket.py:333(send)\n",
      "       54    0.000    0.000    0.000    0.000 threading.py:1062(_wait_for_tstate_lock)\n",
      "       54    0.000    0.000    0.000    0.000 threading.py:1104(is_alive)\n",
      "       54    0.000    0.000    0.000    0.000 threading.py:506(is_set)\n",
      "        5    0.000    0.000    0.000    0.000 {built-in method _thread.get_ident}\n",
      "        2    0.000    0.000    0.000    0.000 {built-in method builtins.compile}\n",
      "        2    0.000    0.000    8.312    4.156 {built-in method builtins.exec}\n",
      "     2981    0.002    0.000    0.002    0.000 {built-in method builtins.getattr}\n",
      "        5    0.000    0.000    0.000    0.000 {built-in method builtins.id}\n",
      "       48    0.000    0.000    0.000    0.000 {built-in method builtins.isinstance}\n",
      "       15    0.000    0.000    0.000    0.000 {built-in method builtins.issubclass}\n",
      "   328173    0.020    0.000    0.020    0.000 {built-in method builtins.len}\n",
      "        5    0.000    0.000    0.000    0.000 {built-in method builtins.locals}\n",
      "       10    0.000    0.000    0.000    0.000 {built-in method builtins.max}\n",
      "       12    0.000    0.000    0.002    0.000 {built-in method builtins.print}\n",
      "        1    0.000    0.000    0.000    0.000 {built-in method builtins.sorted}\n",
      "     2710    0.002    0.000    0.002    0.000 {built-in method math.ceil}\n",
      "   208117    0.233    0.000    0.233    0.000 {built-in method numpy.core.multiarray.array}\n",
      "    34146    0.028    0.000    0.028    0.000 {built-in method numpy.core.multiarray.copyto}\n",
      "    34146    0.032    0.000    0.032    0.000 {built-in method numpy.core.multiarray.empty}\n",
      "       48    0.000    0.000    0.000    0.000 {built-in method posix.getpid}\n",
      "       54    0.000    0.000    0.000    0.000 {method 'acquire' of '_thread.lock' objects}\n",
      "        5    0.000    0.000    0.000    0.000 {method 'add' of 'set' objects}\n",
      "       54    0.000    0.000    0.000    0.000 {method 'append' of 'collections.deque' objects}\n",
      "     2980    0.000    0.000    0.000    0.000 {method 'append' of 'list' objects}\n",
      "        5    0.000    0.000    0.000    0.000 {method 'copy' of 'dict' objects}\n",
      "        1    0.000    0.000    0.000    0.000 {method 'disable' of '_lsprof.Profiler' objects}\n",
      "        5    0.000    0.000    0.000    0.000 {method 'discard' of 'set' objects}\n",
      "  4369539    1.612    0.000    1.612    0.000 {method 'format' of 'str' objects}\n",
      "     2996    0.001    0.000    0.001    0.000 {method 'items' of 'dict' objects}\n",
      "        5    0.000    0.000    0.000    0.000 {method 'pop' of 'dict' objects}\n",
      "     2991    0.031    0.000    0.031    0.000 {method 'reduce' of 'numpy.ufunc' objects}\n",
      "        5    0.000    0.000    0.000    0.000 {method 'rstrip' of 'str' objects}\n",
      "   105690    0.026    0.000    0.026    0.000 {method 'setdefault' of 'dict' objects}\n",
      "        5    0.000    0.000    0.000    0.000 {method 'update' of 'dict' objects}\n",
      "\n",
      "\n"
     ]
    }
   ],
   "source": [
    "cp = cProfile.Profile()\n",
    "cp.enable()\n",
    "endtime,best_solution= LocalSearchRun(init_sol,EVA_TREE,GRAPH,n_iter=10)\n",
    "cp.disable()\n",
    "cp.print_stats()"
   ]
  },
  {
   "cell_type": "code",
   "execution_count": 20,
   "metadata": {},
   "outputs": [
    {
     "name": "stdout",
     "output_type": "stream",
     "text": [
      "Iteration 0:\n",
      "[323, 359, 344, 275, 227, 163, 279, 285, 268, 384]  =>  193\n",
      "Iteration 1:\n",
      "[323 285 344 275 227 163 279 359 268 384]  =>  180\n",
      "Iteration 2:\n",
      "[323 285 344 275 227 163 279 359 268 384]  =>  180\n",
      "Iteration 3:\n",
      "[323 285 344 275 227 163 279 359 268 384]  =>  180\n",
      "Iteration 4:\n",
      "[323 285 344 275 227 163 279 359 268 384]  =>  180\n",
      "Iteration 5:\n",
      "[323 285 344 275 227 163 279 359 268 384]  =>  180\n",
      "         2184956 function calls (2184906 primitive calls) in 5.787 seconds\n",
      "\n",
      "   Ordered by: standard name\n",
      "\n",
      "   ncalls  tottime  percall  cumtime  percall filename:lineno(function)\n",
      "        1    0.000    0.000    5.787    5.787 <ipython-input-20-7429e1c77e23>:3(<module>)\n",
      "        1    0.000    0.000    0.000    0.000 <ipython-input-20-7429e1c77e23>:4(<module>)\n",
      "     2470    0.010    0.000    1.044    0.000 DataProcess.py:105(get_task)\n",
      "     2470    0.020    0.000    0.993    0.000 DataProcess.py:109(<listcomp>)\n",
      "      127    0.001    0.000    0.425    0.003 DataProcess.py:124(create_solution)\n",
      "     1270    0.116    0.000    0.424    0.000 DataProcess.py:127(<listcomp>)\n",
      "      127    0.374    0.003    5.271    0.042 DataProcess.py:313(get_end_time_3)\n",
      "    37553    2.907    0.000    2.907    0.000 DataProcess.py:342(<listcomp>)\n",
      "      127    0.002    0.000    0.002    0.000 DataProcess.py:368(<listcomp>)\n",
      "     2470    0.003    0.000    0.007    0.000 DataProcess.py:84(get_eva_node_info)\n",
      "     2470    0.005    0.000    0.005    0.000 DataProcess.py:85(<listcomp>)\n",
      "    99708    0.051    0.000    1.515    0.000 DataProcess.py:94(get_edge_info)\n",
      "    61706    0.797    0.000    0.797    0.000 DataProcess.py:96(<listcomp>)\n",
      "    38002    0.667    0.000    0.667    0.000 DataProcess.py:98(<listcomp>)\n",
      "        1    0.000    0.000    0.000    0.000 LocalSearch.py:10(<listcomp>)\n",
      "      540    0.008    0.000    0.008    0.000 LocalSearch.py:13(get_conflict_arc)\n",
      "        1    0.004    0.004    5.787    5.787 LocalSearch.py:169(LocalSearchRun4)\n",
      "       60    0.004    0.000    0.509    0.008 LocalSearch.py:20(get_non_conflict_list)\n",
      "        6    0.000    0.000    0.510    0.085 LocalSearch.py:75(get_neighbors_of2)\n",
      "        1    0.000    0.000    0.000    0.000 LocalSearch.py:8(create_ordered_list_of)\n",
      "       10    0.000    0.000    0.000    0.000 LocalSearch.py:9(<lambda>)\n",
      "        5    0.000    0.000    0.000    0.000 arrayprint.py:1110(__init__)\n",
      "       50    0.000    0.000    0.000    0.000 arrayprint.py:1118(__call__)\n",
      "        5    0.000    0.000    0.001    0.000 arrayprint.py:1457(array_str)\n",
      "        5    0.000    0.000    0.000    0.000 arrayprint.py:348(_get_formatdict)\n",
      "        5    0.000    0.000    0.000    0.000 arrayprint.py:356(<lambda>)\n",
      "        5    0.000    0.000    0.000    0.000 arrayprint.py:401(_get_format_function)\n",
      "        5    0.000    0.000    0.001    0.000 arrayprint.py:453(wrapper)\n",
      "        5    0.000    0.000    0.000    0.000 arrayprint.py:470(_array2string)\n",
      "        5    0.000    0.000    0.001    0.000 arrayprint.py:499(array2string)\n",
      "        5    0.000    0.000    0.000    0.000 arrayprint.py:67(_make_options_dict)\n",
      "       50    0.000    0.000    0.000    0.000 arrayprint.py:671(_extendLine)\n",
      "        5    0.000    0.000    0.000    0.000 arrayprint.py:685(_formatArray)\n",
      "     55/5    0.000    0.000    0.000    0.000 arrayprint.py:694(recurser)\n",
      "        5    0.000    0.000    0.000    0.000 arrayprint.py:72(<dictcomp>)\n",
      "        2    0.000    0.000    0.000    0.000 codeop.py:132(__call__)\n",
      "      132    0.000    0.000    0.004    0.000 fromnumeric.py:2227(amax)\n",
      "     2475    0.003    0.000    0.033    0.000 fromnumeric.py:2337(amin)\n",
      "     2607    0.007    0.000    0.033    0.000 fromnumeric.py:64(_wrapreduction)\n",
      "    37679    0.009    0.000    0.077    0.000 function_base.py:689(copy)\n",
      "        2    0.000    0.000    0.000    0.000 hooks.py:142(__call__)\n",
      "        2    0.000    0.000    0.000    0.000 hooks.py:207(pre_run_code_hook)\n",
      "        2    0.000    0.000    0.000    0.000 interactiveshell.py:1104(user_global_ns)\n",
      "        2    0.000    0.000    5.787    2.893 interactiveshell.py:2933(run_code)\n",
      "       54    0.000    0.000    0.001    0.000 iostream.py:195(schedule)\n",
      "       48    0.000    0.000    0.000    0.000 iostream.py:300(_is_master_process)\n",
      "       48    0.000    0.000    0.000    0.000 iostream.py:313(_schedule_flush)\n",
      "       48    0.000    0.000    0.001    0.000 iostream.py:366(write)\n",
      "       54    0.000    0.000    0.000    0.000 iostream.py:93(_event_pipe)\n",
      "        2    0.000    0.000    0.000    0.000 ipstruct.py:125(__getattr__)\n",
      "    16002    0.008    0.000    0.041    0.000 numeric.py:268(full)\n",
      "        5    0.000    0.000    0.000    0.000 numeric.py:433(asarray)\n",
      "       54    0.000    0.000    0.000    0.000 socket.py:333(send)\n",
      "       54    0.000    0.000    0.000    0.000 threading.py:1062(_wait_for_tstate_lock)\n",
      "       54    0.000    0.000    0.000    0.000 threading.py:1104(is_alive)\n",
      "       54    0.000    0.000    0.000    0.000 threading.py:506(is_set)\n",
      "        5    0.000    0.000    0.000    0.000 {built-in method _thread.get_ident}\n",
      "        2    0.000    0.000    0.000    0.000 {built-in method builtins.compile}\n",
      "        2    0.000    0.000    5.787    2.893 {built-in method builtins.exec}\n",
      "     2597    0.002    0.000    0.002    0.000 {built-in method builtins.getattr}\n",
      "        5    0.000    0.000    0.000    0.000 {built-in method builtins.id}\n",
      "       48    0.000    0.000    0.000    0.000 {built-in method builtins.isinstance}\n",
      "       15    0.000    0.000    0.000    0.000 {built-in method builtins.issubclass}\n",
      "   157891    0.009    0.000    0.009    0.000 {built-in method builtins.len}\n",
      "        5    0.000    0.000    0.000    0.000 {built-in method builtins.locals}\n",
      "       10    0.000    0.000    0.000    0.000 {built-in method builtins.max}\n",
      "       12    0.000    0.000    0.002    0.000 {built-in method builtins.print}\n",
      "        1    0.000    0.000    0.000    0.000 {built-in method builtins.sorted}\n",
      "     2470    0.001    0.000    0.001    0.000 {built-in method math.ceil}\n",
      "    91239    0.121    0.000    0.121    0.000 {built-in method numpy.core.multiarray.array}\n",
      "    16002    0.014    0.000    0.014    0.000 {built-in method numpy.core.multiarray.copyto}\n",
      "    16002    0.014    0.000    0.014    0.000 {built-in method numpy.core.multiarray.empty}\n",
      "       48    0.000    0.000    0.000    0.000 {built-in method posix.getpid}\n",
      "       54    0.000    0.000    0.000    0.000 {method 'acquire' of '_thread.lock' objects}\n",
      "        5    0.000    0.000    0.000    0.000 {method 'add' of 'set' objects}\n",
      "       54    0.000    0.000    0.000    0.000 {method 'append' of 'collections.deque' objects}\n",
      "     6064    0.001    0.000    0.001    0.000 {method 'append' of 'list' objects}\n",
      "        5    0.000    0.000    0.000    0.000 {method 'copy' of 'dict' objects}\n",
      "        1    0.000    0.000    0.000    0.000 {method 'disable' of '_lsprof.Profiler' objects}\n",
      "        5    0.000    0.000    0.000    0.000 {method 'discard' of 'set' objects}\n",
      "  1528939    0.591    0.000    0.591    0.000 {method 'format' of 'str' objects}\n",
      "     2612    0.000    0.000    0.000    0.000 {method 'items' of 'dict' objects}\n",
      "        5    0.000    0.000    0.000    0.000 {method 'pop' of 'dict' objects}\n",
      "     2607    0.024    0.000    0.024    0.000 {method 'reduce' of 'numpy.ufunc' objects}\n",
      "        5    0.000    0.000    0.000    0.000 {method 'rstrip' of 'str' objects}\n",
      "    49530    0.011    0.000    0.011    0.000 {method 'setdefault' of 'dict' objects}\n",
      "        5    0.000    0.000    0.000    0.000 {method 'update' of 'dict' objects}\n",
      "\n",
      "\n"
     ]
    }
   ],
   "source": [
    "cp = cProfile.Profile()\n",
    "cp.enable()\n",
    "endtime,best_solution= LocalSearchRun4(init_sol,EVA_TREE,GRAPH,n_iter=10)\n",
    "cp.disable()\n",
    "cp.print_stats()"
   ]
  },
  {
   "cell_type": "code",
   "execution_count": 17,
   "metadata": {},
   "outputs": [],
   "source": [
    "# cp = cProfile.Profile()\n",
    "# cp.enable()\n",
    "# best_solution,endtime = LocalSearchRun2(init_sol,EVA_TREE,GRAPH,n_iter=10)\n",
    "# cp.disable()\n",
    "# cp.print_stats()"
   ]
  },
  {
   "cell_type": "code",
   "execution_count": 33,
   "metadata": {},
   "outputs": [
    {
     "name": "stdout",
     "output_type": "stream",
     "text": [
      "solution =  [[268, 132, 0], [227, 71, 0], [279, 71, 6], [275, 70, 21], [323, 71, 45], [163, 70, 60], [285, 71, 66], [384, 71, 85], [359, 70, 114], [344, 71, 135]]\n",
      "end time =  181\n"
     ]
    }
   ],
   "source": [
    "print('solution = ',best_solution)\n",
    "print('end time = ',endtime)"
   ]
  },
  {
   "cell_type": "code",
   "execution_count": 6,
   "metadata": {},
   "outputs": [
    {
     "name": "stdout",
     "output_type": "stream",
     "text": [
      "---------------------------Start n.1---------------------------\n",
      "Iteration 0:\n",
      "[279, 323, 344, 275, 163, 384, 268, 285, 359, 227]  =>  207\n",
      "Iteration 1:\n",
      "[285 323 344 275 163 384 268 279 359 227]  =>  180\n",
      "Iteration 2:\n",
      "[285 323 344 275 163 384 268 279 359 227]  =>  180\n",
      "Iteration 3:\n",
      "[285 323 344 275 163 384 268 279 359 227]  =>  180\n",
      "Iteration 4:\n",
      "[285 323 344 275 163 384 268 279 359 227]  =>  180\n",
      "Iteration 5:\n",
      "[285 323 344 275 163 384 268 279 359 227]  =>  180\n",
      "----------------------------------------------------------------\n",
      "---------------------------Start n.2---------------------------\n",
      "Iteration 0:\n",
      "[285, 163, 279, 344, 359, 268, 275, 227, 323, 384]  =>  184\n",
      "Iteration 1:\n",
      "[285 163 359 344 279 268 275 227 323 384]  =>  180\n",
      "Iteration 2:\n",
      "[285 163 359 344 279 268 275 227 323 384]  =>  180\n",
      "Iteration 3:\n",
      "[285 163 359 344 279 268 275 227 323 384]  =>  180\n",
      "Iteration 4:\n",
      "[285 163 359 344 279 268 275 227 323 384]  =>  180\n",
      "Iteration 5:\n",
      "[285 163 359 344 279 268 275 227 323 384]  =>  180\n",
      "----------------------------------------------------------------\n",
      "---------------------------Start n.3---------------------------\n",
      "Iteration 0:\n",
      "[227, 268, 163, 285, 359, 344, 279, 275, 323, 384]  =>  181\n",
      "Iteration 1:\n",
      "[285 268 163 227 359 344 279 275 323 384]  =>  180\n",
      "Iteration 2:\n",
      "[285 268 163 227 359 344 279 275 323 384]  =>  180\n",
      "Iteration 3:\n",
      "[285 268 163 227 359 344 279 275 323 384]  =>  180\n",
      "Iteration 4:\n",
      "[285 268 163 227 359 344 279 275 323 384]  =>  180\n",
      "Iteration 5:\n",
      "[285 268 163 227 359 344 279 275 323 384]  =>  180\n",
      "----------------------------------------------------------------\n",
      "---------------------------Start n.4---------------------------\n",
      "Iteration 0:\n",
      "[323, 227, 275, 359, 344, 268, 285, 163, 384, 279]  =>  181\n",
      "Iteration 1:\n",
      "[323 285 275 359 344 268 227 163 384 279]  =>  180\n",
      "Iteration 2:\n",
      "[323 285 275 359 344 268 227 163 384 279]  =>  180\n",
      "Iteration 3:\n",
      "[323 285 275 359 344 268 227 163 384 279]  =>  180\n",
      "Iteration 4:\n",
      "[323 285 275 359 344 268 227 163 384 279]  =>  180\n",
      "Iteration 5:\n",
      "[323 285 275 359 344 268 227 163 384 279]  =>  180\n",
      "----------------------------------------------------------------\n",
      "---------------------------Start n.5---------------------------\n",
      "Iteration 0:\n",
      "[268, 344, 384, 163, 285, 359, 275, 227, 323, 279]  =>  192\n",
      "Iteration 1:\n",
      "[268 285 384 163 344 359 275 227 323 279]  =>  180\n",
      "Iteration 2:\n",
      "[268 285 384 163 344 359 275 227 323 279]  =>  180\n",
      "Iteration 3:\n",
      "[268 285 384 163 344 359 275 227 323 279]  =>  180\n",
      "Iteration 4:\n",
      "[268 285 384 163 344 359 275 227 323 279]  =>  180\n",
      "Iteration 5:\n",
      "[268 285 384 163 344 359 275 227 323 279]  =>  180\n",
      "----------------------------------------------------------------\n",
      "         11813933 function calls (11813683 primitive calls) in 30.182 seconds\n",
      "\n",
      "   Ordered by: standard name\n",
      "\n",
      "   ncalls  tottime  percall  cumtime  percall filename:lineno(function)\n",
      "        1    0.000    0.000   30.170   30.170 <ipython-input-6-1e058c281ae1>:3(<module>)\n",
      "        1    0.000    0.000    0.012    0.012 <ipython-input-6-1e058c281ae1>:4(<module>)\n",
      "        1    0.000    0.000    0.000    0.000 <ipython-input-6-1e058c281ae1>:5(<module>)\n",
      "        1    0.002    0.002    0.004    0.004 DataProcess.py:10(read_data)\n",
      "    12410    0.051    0.000    5.331    0.000 DataProcess.py:105(get_task)\n",
      "    12410    0.099    0.000    5.067    0.000 DataProcess.py:109(<listcomp>)\n",
      "      640    0.006    0.000    2.147    0.003 DataProcess.py:124(create_solution)\n",
      "     6400    0.588    0.000    2.140    0.000 DataProcess.py:127(<listcomp>)\n",
      "      635    2.034    0.003   27.363    0.043 DataProcess.py:146(get_end_time)\n",
      "   192190   15.001    0.000   15.001    0.000 DataProcess.py:175(<listcomp>)\n",
      "      635    0.012    0.000    0.012    0.000 DataProcess.py:200(<listcomp>)\n",
      "        5    0.015    0.003    0.190    0.038 DataProcess.py:313(get_end_time_3)\n",
      "     1488    0.119    0.000    0.119    0.000 DataProcess.py:343(<listcomp>)\n",
      "        5    0.000    0.000    0.000    0.000 DataProcess.py:369(<listcomp>)\n",
      "       10    0.000    0.000    0.000    0.000 DataProcess.py:413(find_starttime)\n",
      "      304    0.000    0.000    0.000    0.000 DataProcess.py:43(<lambda>)\n",
      "        1    0.000    0.000    0.012    0.012 DataProcess.py:443(create_solution_file3)\n",
      "     4650    0.001    0.000    0.001    0.000 DataProcess.py:48(<lambda>)\n",
      "    12410    0.014    0.000    0.038    0.000 DataProcess.py:84(get_eva_node_info)\n",
      "    12410    0.024    0.000    0.024    0.000 DataProcess.py:85(<listcomp>)\n",
      "   501444    0.265    0.000    7.733    0.000 DataProcess.py:94(get_edge_info)\n",
      "   310323    4.052    0.000    4.052    0.000 DataProcess.py:96(<listcomp>)\n",
      "   191121    3.416    0.000    3.416    0.000 DataProcess.py:98(<listcomp>)\n",
      "        5    0.000    0.000    0.000    0.000 LocalSearch.py:10(<listcomp>)\n",
      "        5    0.023    0.005   29.979    5.996 LocalSearch.py:119(LocalSearchRun2)\n",
      "     2700    0.042    0.000    0.043    0.000 LocalSearch.py:13(get_conflict_arc)\n",
      "      300    0.025    0.000    2.582    0.009 LocalSearch.py:20(get_non_conflict_list)\n",
      "        1    0.000    0.000   30.170   30.170 LocalSearch.py:222(LocalSearchRandomStart2)\n",
      "        1    0.000    0.000    0.000    0.000 LocalSearch.py:227(<listcomp>)\n",
      "        1    0.000    0.000    0.000    0.000 LocalSearch.py:242(<listcomp>)\n",
      "       30    0.002    0.000    2.586    0.086 LocalSearch.py:75(get_neighbors_of2)\n",
      "        5    0.000    0.000    0.000    0.000 LocalSearch.py:8(create_ordered_list_of)\n",
      "       50    0.000    0.000    0.000    0.000 LocalSearch.py:9(<lambda>)\n",
      "        2    0.000    0.000    0.000    0.000 _bootlocale.py:23(getpreferredencoding)\n",
      "       25    0.000    0.000    0.001    0.000 arrayprint.py:1110(__init__)\n",
      "      250    0.000    0.000    0.000    0.000 arrayprint.py:1118(__call__)\n",
      "       25    0.000    0.000    0.003    0.000 arrayprint.py:1457(array_str)\n",
      "       25    0.000    0.000    0.000    0.000 arrayprint.py:348(_get_formatdict)\n",
      "       25    0.000    0.000    0.001    0.000 arrayprint.py:356(<lambda>)\n",
      "       25    0.000    0.000    0.001    0.000 arrayprint.py:401(_get_format_function)\n",
      "       25    0.000    0.000    0.003    0.000 arrayprint.py:453(wrapper)\n",
      "       25    0.000    0.000    0.003    0.000 arrayprint.py:470(_array2string)\n",
      "       25    0.000    0.000    0.003    0.000 arrayprint.py:499(array2string)\n",
      "       25    0.000    0.000    0.000    0.000 arrayprint.py:67(_make_options_dict)\n",
      "      250    0.000    0.000    0.000    0.000 arrayprint.py:671(_extendLine)\n",
      "       25    0.000    0.000    0.001    0.000 arrayprint.py:685(_formatArray)\n",
      "   275/25    0.001    0.000    0.001    0.000 arrayprint.py:694(recurser)\n",
      "       25    0.000    0.000    0.000    0.000 arrayprint.py:72(<dictcomp>)\n",
      "        1    0.000    0.000    0.000    0.000 codecs.py:185(__init__)\n",
      "        1    0.000    0.000    0.000    0.000 codecs.py:259(__init__)\n",
      "        1    0.000    0.000    0.000    0.000 codecs.py:308(__init__)\n",
      "        4    0.000    0.000    0.000    0.000 codecs.py:318(decode)\n",
      "        3    0.000    0.000    0.000    0.000 codeop.py:132(__call__)\n",
      "      665    0.001    0.000    0.019    0.000 fromnumeric.py:2227(amax)\n",
      "    12436    0.015    0.000    0.167    0.000 fromnumeric.py:2337(amin)\n",
      "    13101    0.037    0.000    0.170    0.000 fromnumeric.py:64(_wrapreduction)\n",
      "   194308    0.047    0.000    0.380    0.000 function_base.py:689(copy)\n",
      "        3    0.000    0.000    0.000    0.000 hooks.py:142(__call__)\n",
      "        3    0.000    0.000    0.000    0.000 hooks.py:207(pre_run_code_hook)\n",
      "        3    0.000    0.000    0.000    0.000 interactiveshell.py:1104(user_global_ns)\n",
      "        3    0.000    0.000   30.182   10.061 interactiveshell.py:2933(run_code)\n",
      "      291    0.001    0.000    0.003    0.000 iostream.py:195(schedule)\n",
      "      260    0.000    0.000    0.000    0.000 iostream.py:300(_is_master_process)\n",
      "      260    0.000    0.000    0.000    0.000 iostream.py:313(_schedule_flush)\n",
      "      260    0.001    0.000    0.004    0.000 iostream.py:366(write)\n",
      "      291    0.000    0.000    0.000    0.000 iostream.py:93(_event_pipe)\n",
      "        3    0.000    0.000    0.000    0.000 ipstruct.py:125(__getattr__)\n",
      "    80640    0.046    0.000    0.216    0.000 numeric.py:268(full)\n",
      "       25    0.000    0.000    0.000    0.000 numeric.py:433(asarray)\n",
      "       45    0.000    0.000    0.000    0.000 random.py:223(_randbelow)\n",
      "        5    0.000    0.000    0.000    0.000 random.py:261(shuffle)\n",
      "      291    0.002    0.000    0.002    0.000 socket.py:333(send)\n",
      "      291    0.000    0.000    0.000    0.000 threading.py:1062(_wait_for_tstate_lock)\n",
      "      291    0.000    0.000    0.001    0.000 threading.py:1104(is_alive)\n",
      "      291    0.000    0.000    0.000    0.000 threading.py:506(is_set)\n",
      "        4    0.000    0.000    0.000    0.000 {built-in method _codecs.utf_8_decode}\n",
      "        2    0.000    0.000    0.000    0.000 {built-in method _locale.nl_langinfo}\n",
      "       25    0.000    0.000    0.000    0.000 {built-in method _thread.get_ident}\n",
      "        3    0.000    0.000    0.000    0.000 {built-in method builtins.compile}\n",
      "        3    0.000    0.000   30.182   10.061 {built-in method builtins.exec}\n",
      "    13051    0.009    0.000    0.009    0.000 {built-in method builtins.getattr}\n",
      "       25    0.000    0.000    0.000    0.000 {built-in method builtins.id}\n",
      "      260    0.000    0.000    0.000    0.000 {built-in method builtins.isinstance}\n",
      "       75    0.000    0.000    0.000    0.000 {built-in method builtins.issubclass}\n",
      "   924615    0.061    0.000    0.061    0.000 {built-in method builtins.len}\n",
      "       25    0.000    0.000    0.000    0.000 {built-in method builtins.locals}\n",
      "       50    0.000    0.000    0.000    0.000 {built-in method builtins.max}\n",
      "       70    0.000    0.000    0.008    0.000 {built-in method builtins.print}\n",
      "        5    0.000    0.000    0.000    0.000 {built-in method builtins.sorted}\n",
      "        2    0.004    0.002    0.004    0.002 {built-in method io.open}\n",
      "    12410    0.007    0.000    0.007    0.000 {built-in method math.ceil}\n",
      "   468651    0.590    0.000    0.590    0.000 {built-in method numpy.core.multiarray.array}\n",
      "    80640    0.076    0.000    0.076    0.000 {built-in method numpy.core.multiarray.copyto}\n",
      "    80640    0.076    0.000    0.076    0.000 {built-in method numpy.core.multiarray.empty}\n",
      "      260    0.000    0.000    0.000    0.000 {built-in method posix.getpid}\n",
      "        2    0.000    0.000    0.000    0.000 {built-in method time.time}\n",
      "      291    0.000    0.000    0.000    0.000 {method 'acquire' of '_thread.lock' objects}\n",
      "      289    0.000    0.000    0.000    0.000 {method 'add' of 'set' objects}\n",
      "      291    0.000    0.000    0.000    0.000 {method 'append' of 'collections.deque' objects}\n",
      "    31446    0.003    0.000    0.003    0.000 {method 'append' of 'list' objects}\n",
      "       45    0.000    0.000    0.000    0.000 {method 'bit_length' of 'int' objects}\n",
      "        1    0.001    0.001    0.001    0.001 {method 'close' of '_io.TextIOWrapper' objects}\n",
      "       25    0.000    0.000    0.000    0.000 {method 'copy' of 'dict' objects}\n",
      "        1    0.000    0.000    0.000    0.000 {method 'disable' of '_lsprof.Profiler' objects}\n",
      "       25    0.000    0.000    0.000    0.000 {method 'discard' of 'set' objects}\n",
      "     1887    0.000    0.000    0.000    0.000 {method 'find' of 'str' objects}\n",
      "  8354440    3.224    0.000    3.224    0.000 {method 'format' of 'str' objects}\n",
      "       87    0.000    0.000    0.000    0.000 {method 'getrandbits' of '_random.Random' objects}\n",
      "    13126    0.002    0.000    0.002    0.000 {method 'items' of 'dict' objects}\n",
      "       25    0.000    0.000    0.000    0.000 {method 'pop' of 'dict' objects}\n",
      "    13101    0.123    0.000    0.123    0.000 {method 'reduce' of 'numpy.ufunc' objects}\n",
      "       25    0.000    0.000    0.000    0.000 {method 'rstrip' of 'str' objects}\n",
      "   249600    0.061    0.000    0.061    0.000 {method 'setdefault' of 'dict' objects}\n",
      "      944    0.000    0.000    0.000    0.000 {method 'split' of 'str' objects}\n",
      "       25    0.000    0.000    0.000    0.000 {method 'update' of 'dict' objects}\n",
      "       20    0.000    0.000    0.000    0.000 {method 'write' of '_io.TextIOWrapper' objects}\n",
      "\n",
      "\n",
      "solution =  [[285, 71, 0], [323, 71, 0], [344, 71, 11], [275, 70, 15], [163, 70, 40], [384, 71, 22], [268, 132, 95], [279, 71, 37], [359, 70, 81], [227, 71, 113]]\n",
      "end time =  180\n"
     ]
    }
   ],
   "source": [
    "cp = cProfile.Profile()\n",
    "cp.enable()\n",
    "endtime,best_solution,algo,exc = LocalSearchRandomStart2(EVA_TREE,GRAPH,n_iter=10,n_start_points=5)\n",
    "create_solution_file3('dense_10_30_3_1_I',best_solution,endtime,algo,exc)\n",
    "cp.disable()\n",
    "cp.print_stats()\n",
    "print('solution = ',best_solution)\n",
    "print('end time = ',endtime)"
   ]
  },
  {
   "cell_type": "code",
   "execution_count": 20,
   "metadata": {},
   "outputs": [
    {
     "data": {
      "text/plain": [
       "0"
      ]
     },
     "execution_count": 20,
     "metadata": {},
     "output_type": "execute_result"
    }
   ],
   "source": [
    "create_solution_file('data/wildfire_sup.solution',best_solution,endtime)"
   ]
  },
  {
   "cell_type": "code",
   "execution_count": 21,
   "metadata": {},
   "outputs": [],
   "source": [
    "# #-----------------------------------------------------------------------------\n",
    "# # Build the model\n",
    "# #-----------------------------------------------------------------------------\n",
    "# from docplex.cp.model import CpoModel\n",
    "# from docplex.cp.expression import *\n",
    "# from docplex.cp.solution import *\n",
    "# import docplex.cp.utils_visu as visu\n",
    "# # Create model\n",
    "# mdl = CpoModel(version='12.7.0')"
   ]
  },
  {
   "cell_type": "code",
   "execution_count": 22,
   "metadata": {},
   "outputs": [],
   "source": [
    "# # Create one interval variable per job operation\n",
    "# E_nodes = [[mdl.interval_var(size=get_task(j,EVA_TREE,GRAPH)[0], name=\"Evacuees from {} at {}\".format(j,m)) for m in get_task(j,EVA_TREE,GRAPH)[1]] for j in LIST_EVA_NODES]\n",
    "# len(E_nodes)"
   ]
  },
  {
   "cell_type": "code",
   "execution_count": 23,
   "metadata": {},
   "outputs": [],
   "source": [
    "# len(E_nodes[0])"
   ]
  },
  {
   "cell_type": "code",
   "execution_count": 24,
   "metadata": {},
   "outputs": [],
   "source": [
    "# #-----------------------------------------------------------------------------\n",
    "# # Constraints \n",
    "# #-----------------------------------------------------------------------------\n",
    "\n",
    "# #Each operation must start after a precise duration = time to traverse an arc\n",
    "# for i in range(NB_EVA_NODES) :\n",
    "#     root = LIST_EVA_NODES[i]\n",
    "#     route_list = get_task(root,EVA_TREE,GRAPH)[1]\n",
    "#     route_len = len(route_list)\n",
    "#     current = root\n",
    "#     for m in range(route_len) :\n",
    "#         nxt = route_list[m]\n",
    "# #         print(\"Node-{}-to-{}\".format(root,nxt))\n",
    "#         if nxt != current :\n",
    "# #             print(current,nxt)\n",
    "#             _,delay,_ = get_edge_info(current,nxt,GRAPH)\n",
    "#             mdl.add(mdl.start_at_start(E_nodes[i][m-1],E_nodes[i][m],delay))\n",
    "#             print(\"Evacuees-from-{}-at-{} starts after Evacuees-from-{}-at-{} : {} mins \".format(root,nxt,root,current,delay))\n",
    "#         current = nxt\n",
    "#     print('----------')"
   ]
  },
  {
   "cell_type": "code",
   "execution_count": 25,
   "metadata": {},
   "outputs": [],
   "source": [
    "# #Constraint on capacity of ressources, which are edges of graph\n",
    "\n",
    "# for r in range(NB_EDGES) :\n",
    "#     edge = GRAPH[r]\n",
    "# #     print(edge)\n",
    "#     CAP_MAX = edge[-1]\n",
    "#     rsc = 0\n",
    "#     ressources = []\n",
    "#     for i in range(NB_EVA_NODES) :\n",
    "#         root = LIST_EVA_NODES[i]\n",
    "#         _,route_list,capacity = get_task(root,EVA_TREE,GRAPH)\n",
    "#         route_len = len(route_list)\n",
    "#         current = root\n",
    "\n",
    "#         for m in range(route_len) : \n",
    "#             nxt = route_list[m]\n",
    "\n",
    "#             if edge[0] == current and edge[1]==nxt :\n",
    "#                 ressources.append(mdl.pulse(E_nodes[i][m-1],capacity))\n",
    "#                 print(\"Evacuees-from-{}-at-{} requests edge [{}-{}] a capacity {}\".format(root,route_list[m-1],current,nxt,capacity))\n",
    "                \n",
    "#                 rsc += capacity\n",
    "               \n",
    "#             current = nxt\n",
    "#         #end for\n",
    "#     #end for\n",
    "#     mdl.add(mdl.sum(ressources) <= CAP_MAX)\n",
    "#     print('Constraint on edge {}-{} with capacity_max {}... is loaded'.format(edge[0],edge[1],CAP_MAX))\n",
    "#     print('--------------')\n",
    "# #end for"
   ]
  },
  {
   "cell_type": "code",
   "execution_count": 26,
   "metadata": {},
   "outputs": [],
   "source": [
    "# #Minimize end of all tasks\n",
    "# mdl.add(mdl.minimize(mdl.max([mdl.end_of(node) for list_nodes in E_nodes for node in list_nodes])))"
   ]
  },
  {
   "cell_type": "code",
   "execution_count": 27,
   "metadata": {},
   "outputs": [],
   "source": [
    "# #-----------------------------------------------------------------------------\n",
    "# # Solve the model and display the result\n",
    "# #-----------------------------------------------------------------------------\n",
    "# mdl.write_information()"
   ]
  },
  {
   "cell_type": "code",
   "execution_count": 28,
   "metadata": {},
   "outputs": [],
   "source": [
    "# # Solve model\n",
    "# # print(\"Solving model....\")\n",
    "# msol = mdl.solve(TimeLimit=1000)\n",
    "# # print(\"Solution: \")\n",
    "# msol.print_solution()"
   ]
  },
  {
   "cell_type": "code",
   "execution_count": null,
   "metadata": {},
   "outputs": [],
   "source": []
  }
 ],
 "metadata": {
  "kernelspec": {
   "display_name": "Python 3",
   "language": "python",
   "name": "python3"
  },
  "language_info": {
   "codemirror_mode": {
    "name": "ipython",
    "version": 3
   },
   "file_extension": ".py",
   "mimetype": "text/x-python",
   "name": "python",
   "nbconvert_exporter": "python",
   "pygments_lexer": "ipython3",
   "version": "3.6.5"
  }
 },
 "nbformat": 4,
 "nbformat_minor": 2
}
